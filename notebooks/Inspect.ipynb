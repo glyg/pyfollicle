{
 "cells": [
  {
   "cell_type": "code",
   "execution_count": 12,
   "metadata": {},
   "outputs": [],
   "source": [
    "from tyssue import HistoryHdf5, Monolayer\n",
    "from tyssue.draw import sheet_view, browse_history\n",
    "from tyssue.geometry.bulk_geometry import ClosedMonolayerGeometry as geom\n",
    "from tyssue.io import hdf5\n",
    "\n",
    "def show_area(sheet):\n",
    "    sheet.face_df['visible'] = sheet.face_df[\"x\"] > 0\n",
    "    return sheet.face_df['area']\n",
    "\n",
    "draw_specs = {\n",
    "    'edge': {\n",
    "        'visible': False,\n",
    "    },\n",
    "    'face': {\n",
    "        'visible': True,\n",
    "        'color': show_area\n",
    "    },\n",
    "}\n"
   ]
  },
  {
   "cell_type": "code",
   "execution_count": null,
   "metadata": {},
   "outputs": [],
   "source": []
  },
  {
   "cell_type": "code",
   "execution_count": 13,
   "metadata": {},
   "outputs": [
    {
     "name": "stdout",
     "output_type": "stream",
     "text": [
      "total 4,0G\r\n",
      "-rw-r--r-- 1 guillaume guillaume 2,0G juin  12 18:24 hist2D_20-06-12-16-53-41.hf5\r\n",
      "-rw-r--r-- 1 guillaume guillaume 1,9G juin  12 18:21 latest.hf5\r\n",
      "-rw-r--r-- 1 guillaume guillaume 328K juin  12 16:49 hist2D_20-06-12-16-49-28.hf5\r\n",
      "-rw-r--r-- 1 guillaume guillaume 525K juin  12 16:37 hist2D_20-06-12-16-36-55.hf5\r\n",
      "-rw-r--r-- 1 guillaume guillaume 328K juin  12 16:36 hist2D_20-06-12-16-36-02.hf5\r\n",
      "-rw-r--r-- 1 guillaume guillaume 263K mai    5 09:21 hist2D_20-05-05-09-20-56.hf5\r\n",
      "-rw-r--r-- 1 guillaume guillaume 263K mai    5 09:20 hist2D_20-05-05-09-20-30.hf5\r\n",
      "-rw-r--r-- 1 guillaume guillaume 194M mars  20 10:35 hist2D_20-03-20-10-18-24.hf5\r\n"
     ]
    }
   ],
   "source": [
    "!ls -lht ../data"
   ]
  },
  {
   "cell_type": "code",
   "execution_count": 14,
   "metadata": {},
   "outputs": [],
   "source": [
    "\n",
    "history = HistoryHdf5.from_archive(\n",
    "    \"../data/latest.hf5\",\n",
    "    eptm_class=Monolayer\n",
    ")"
   ]
  },
  {
   "cell_type": "code",
   "execution_count": 15,
   "metadata": {},
   "outputs": [
    {
     "data": {
      "application/vnd.jupyter.widget-view+json": {
       "model_id": "e9eca67c5dba49938613813d8b62d256",
       "version_major": 2,
       "version_minor": 0
      },
      "text/plain": [
       "VBox(children=(Figure(camera=PerspectiveCamera(fov=46.0, position=(0.0, 0.0, 2.0), quaternion=(0.0, 0.0, 0.0, …"
      ]
     },
     "metadata": {},
     "output_type": "display_data"
    },
    {
     "data": {
      "application/vnd.jupyter.widget-view+json": {
       "model_id": "8d3fb929b0b14dc1a80c183d9e4b04ba",
       "version_major": 2,
       "version_minor": 0
      },
      "text/plain": [
       "interactive(children=(IntSlider(value=0, description='i', max=263), Output()), _dom_classes=('widget-interact'…"
      ]
     },
     "metadata": {},
     "output_type": "display_data"
    }
   ],
   "source": [
    "browse_history(history, **draw_specs)"
   ]
  },
  {
   "cell_type": "code",
   "execution_count": null,
   "metadata": {},
   "outputs": [],
   "source": []
  }
 ],
 "metadata": {
  "kernelspec": {
   "display_name": "Python 3",
   "language": "python",
   "name": "python3"
  },
  "language_info": {
   "codemirror_mode": {
    "name": "ipython",
    "version": 3
   },
   "file_extension": ".py",
   "mimetype": "text/x-python",
   "name": "python",
   "nbconvert_exporter": "python",
   "pygments_lexer": "ipython3",
   "version": "3.7.6"
  }
 },
 "nbformat": 4,
 "nbformat_minor": 2
}
