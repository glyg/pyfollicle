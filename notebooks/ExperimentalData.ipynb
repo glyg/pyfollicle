{
 "cells": [
  {
   "cell_type": "markdown",
   "metadata": {},
   "source": [
    "## Experimental data\n",
    "\n",
    "Reference: https://elifesciences.org/articles/32943\n",
    "\n",
    "\n",
    "It is conveninent to consider that cells have an average volume of 1\n",
    "\n",
    "\n",
    "| stade  | nombe de cellules | volume interne (μm3) |\n",
    "| ------ | --------- | ---------- |\n",
    "| 3 | 120 | 181008 |\n",
    "| 4 | 200 | 670400 |\n",
    "| 5 | 400 | 3352000 | \n",
    "| 6 | 700 | 12318600 | "
   ]
  },
  {
   "cell_type": "code",
   "execution_count": 5,
   "metadata": {},
   "outputs": [
    {
     "data": {
      "text/html": [
       "<div>\n",
       "<style scoped>\n",
       "    .dataframe tbody tr th:only-of-type {\n",
       "        vertical-align: middle;\n",
       "    }\n",
       "\n",
       "    .dataframe tbody tr th {\n",
       "        vertical-align: top;\n",
       "    }\n",
       "\n",
       "    .dataframe thead th {\n",
       "        text-align: right;\n",
       "    }\n",
       "</style>\n",
       "<table border=\"1\" class=\"dataframe\">\n",
       "  <thead>\n",
       "    <tr style=\"text-align: right;\">\n",
       "      <th></th>\n",
       "      <th>Nc</th>\n",
       "      <th>lumen_vol</th>\n",
       "    </tr>\n",
       "    <tr>\n",
       "      <th>stage</th>\n",
       "      <th></th>\n",
       "      <th></th>\n",
       "    </tr>\n",
       "  </thead>\n",
       "  <tbody>\n",
       "    <tr>\n",
       "      <th>3</th>\n",
       "      <td>120</td>\n",
       "      <td>181000</td>\n",
       "    </tr>\n",
       "    <tr>\n",
       "      <th>4</th>\n",
       "      <td>200</td>\n",
       "      <td>670400</td>\n",
       "    </tr>\n",
       "    <tr>\n",
       "      <th>5</th>\n",
       "      <td>400</td>\n",
       "      <td>3352000</td>\n",
       "    </tr>\n",
       "    <tr>\n",
       "      <th>6</th>\n",
       "      <td>700</td>\n",
       "      <td>12318600</td>\n",
       "    </tr>\n",
       "  </tbody>\n",
       "</table>\n",
       "</div>"
      ],
      "text/plain": [
       "        Nc  lumen_vol\n",
       "stage                \n",
       "3      120     181000\n",
       "4      200     670400\n",
       "5      400    3352000\n",
       "6      700   12318600"
      ]
     },
     "execution_count": 5,
     "metadata": {},
     "output_type": "execute_result"
    }
   ],
   "source": [
    "import numpy as np\n",
    "import pandas as pd\n",
    "import matplotlib.pyplot as plt\n",
    "\n",
    "\n",
    "growth = pd.DataFrame(\n",
    "    data=[[120, 181000], [200, 670400], [400, 3352000], [700, 12318600]],\n",
    "    index=pd.Index([3, 4, 5, 6], name='stage'),\n",
    "    columns=['Nc', 'lumen_vol']\n",
    ")\n",
    "growth"
   ]
  },
  {
   "cell_type": "markdown",
   "metadata": {},
   "source": [
    "$$\n",
    "\\ln(V_\\mathrm{lum})(t) = a + k_V t\\\\\n",
    "V_\\mathrm{lum}(t) = V_0 e^{k_V t}\n",
    "$$\n",
    "\n"
   ]
  },
  {
   "cell_type": "code",
   "execution_count": 6,
   "metadata": {},
   "outputs": [
    {
     "data": {
      "image/png": "[encoded data removed]",
      "text/plain": [
       "<Figure size 432x288 with 2 Axes>"
      ]
     },
     "metadata": {
      "needs_background": "light"
     },
     "output_type": "display_data"
    }
   ],
   "source": [
    "fig, (ax_v, ax_c) = plt.subplots(2, sharex=True)\n",
    "\n",
    "ax_v.plot(growth.lumen_vol, '-o')\n",
    "ax_v.set_yscale('log')\n",
    "ax_v.set_ylabel('Lumen volume (µm)')\n",
    "\n",
    "ax_c.plot(growth.Nc, '-o')\n",
    "ax_c.set_yscale('log')\n",
    "ax_c.set_ylabel('Cell number')\n",
    "_ = ax_c.set_xlabel(\"stage\")\n"
   ]
  },
  {
   "cell_type": "code",
   "execution_count": 7,
   "metadata": {},
   "outputs": [
    {
     "name": "stdout",
     "output_type": "stream",
     "text": [
      "Lumen volume growth rate: 1.43\n",
      "Division rate: 0.60\n"
     ]
    }
   ],
   "source": [
    "kV, lnV0 = np.polyfit(growth.index, np.log(growth.lumen_vol), 1)\n",
    "\n",
    "print(f\"Lumen volume growth rate: {kV:.2f}\")\n",
    "\n",
    "kD, lnc0 = np.polyfit(growth.index, np.log(growth.Nc), 1)\n",
    "\n",
    "print(f\"Division rate: {kD:.2f}\")\n"
   ]
  },
  {
   "cell_type": "code",
   "execution_count": null,
   "metadata": {},
   "outputs": [],
   "source": []
  }
 ],
 "metadata": {
  "kernelspec": {
   "display_name": "Python 3",
   "language": "python",
   "name": "python3"
  },
  "language_info": {
   "codemirror_mode": {
    "name": "ipython",
    "version": 3
   },
   "file_extension": ".py",
   "mimetype": "text/x-python",
   "name": "python",
   "nbconvert_exporter": "python",
   "pygments_lexer": "ipython3",
   "version": "3.8.6"
  }
 },
 "nbformat": 4,
 "nbformat_minor": 4
}
