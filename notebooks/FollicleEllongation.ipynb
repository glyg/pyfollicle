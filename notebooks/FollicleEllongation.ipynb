{
 "cells": [
  {
   "cell_type": "code",
   "execution_count": null,
   "metadata": {},
   "outputs": [],
   "source": [
    "from datetime import datetime\n",
    "\n",
    "import numpy as np\n",
    "import pandas as pd\n",
    "import matplotlib.pyplot as plt\n",
    "from matplotlib import rcParams\n",
    "%matplotlib inline\n",
    "import logging\n",
    "\n",
    "import ipyvolume as ipv\n",
    "import ipywidgets as widgets\n",
    "\n",
    "from ipywidgets import FloatProgress\n",
    "from IPython.display import display, Image\n",
    "\n",
    "from tyssue import HistoryHdf5\n",
    "from tyssue.solvers import QSSolver\n",
    "\n",
    "\n",
    "from tyssue.draw import sheet_view, browse_history\n",
    "from tyssue.io import hdf5\n",
    "from tyssue.draw import highlight_faces, create_gif, highlight_cells\n",
    "\n",
    "\n",
    "from pathlib import Path\n",
    "\n",
    "from utils import (\n",
    "    WAMonolayerGeometry as geom,\n",
    "    MonolayerView,\n",
    "    get_initial_follicle,\n",
    "    get_solver,\n",
    "    get_polar_cells,\n",
    "    update_gradient\n",
    ")\n",
    "\n",
    "rcParams[\"figure.figsize\"] = (9, 6)\n",
    "rcParams[\"figure.dpi\"] = 96\n",
    "\n",
    "from collections import deque\n",
    "\n",
    "class LogWidget(widgets.HTML):\n",
    "    \n",
    "    def __init__(self, maxlines=10):\n",
    "        \n",
    "        self.lines = deque(maxlen=maxlines)\n",
    "        super().__init__()\n",
    "    \n",
    "    def write(self, record):\n",
    "        self.lines.append(record)\n",
    "        self.value = '\\n'.join(\n",
    "            [f\"<p>{rec}</p>\" for rec in self.lines])\n",
    "    def flush(self):\n",
    "        pass\n",
    "\n",
    "        \n",
    "logger = logging.getLogger(\"tyssue\")\n",
    "logger.setLevel(\"DEBUG\")\n",
    "\n",
    "handled = False\n",
    "if not handled:\n",
    "    hand = logging.FileHandler(\"follicle.log\")\n",
    "    hand.setLevel(\"INFO\")\n",
    "    logger.addHandler(hand)\n",
    "    handled = True\n",
    "        \n",
    "        \n"
   ]
  },
  {
   "cell_type": "markdown",
   "metadata": {},
   "source": [
    "## Follicle monolayer creation\n"
   ]
  },
  {
   "cell_type": "markdown",
   "metadata": {},
   "source": [
    "## Base mechanical model\n",
    "\n",
    "\n",
    "By analogy with 2D Manning model (by a suggestion she did during a communication, I assume this will be published some time) we can write the basic potiential with\n",
    "\n",
    "$$\n",
    "E = \\frac{K_\\ell}{2}(V_\\ell - V_\\ell^0)^2 + \\sum_c \\frac{K_v}{2}(V_c - V_c^0)^2 + \\frac{K_A}{2}(A_c - A_c^0)^2\n",
    "$$\n",
    "\n",
    "By setting $V_c^0 = 1$ and $K_c^0 = 1$, we rewrite this:\n",
    "\n",
    "$$\n",
    "E = \\frac{K_\\ell}{2}(V_\\ell - V_\\ell^0)^2 + \\sum_c \\frac{1}{2}(V_c - 1)^2 + \\frac{K_A}{2}(A_c - s^0)^2\n",
    "$$\n",
    "\n",
    "Here $s^0$ is the form factor (as in 2D)\n",
    "\n",
    "For a sphere, the ratio $A / V^{2/3}$ is equal to $(36\\pi)^{1/3} \\approx 4.84$\n",
    "\n",
    "For a [truncated octahedron](https://en.wikipedia.org/wiki/Truncated_octahedron) (regular cells in bulk), it's 5.31 and 8.14 for a honeycomb (cuboidal cells)."
   ]
  },
  {
   "cell_type": "markdown",
   "metadata": {},
   "source": [
    "## Cell area as a weighted sum of face areas\n",
    "\n",
    "\n",
    "For now the model is isotropic, so cells will tend to adopt the most spherical shape possible. In order to have polarisation, we can introduce a factor (or weight) on each face of the cell to modulate its effective contribution to the total area, the total area $A_c$ is replaced by the weighted area $A'_c$:\n",
    "\n",
    "$$\n",
    "A_c = \\sum_f A_f \\quad \\mbox{becomes}\\\\\n",
    "A'_c = \\frac{n_f}{\\sum_f w_f}\\sum_f w_fA_f\n",
    "$$\n",
    "\n",
    "If all the weights are equal, the weighted area is equal to the normal area.\n",
    "\n"
   ]
  },
  {
   "cell_type": "markdown",
   "metadata": {},
   "source": [
    "### Settings for the mechanical model"
   ]
  },
  {
   "cell_type": "code",
   "execution_count": null,
   "metadata": {},
   "outputs": [],
   "source": [
    "# Number of cells\n",
    "Nc = 200\n",
    "\n",
    "specs = {\n",
    "    \"cell\": {\n",
    "        \"is_alive\": 1,\n",
    "        \"vol_elasticity\": 1.0,\n",
    "        \"prefered_vol\": 1.0,\n",
    "        \"weighted_area\": 1.0,\n",
    "        \"area_elasticity\": 0.1,\n",
    "        \"prefered_area\": 4.6,  # form factor\n",
    "    },\n",
    "    \"face\": {\n",
    "        \"weight\": 1.0,\n",
    "        \"is_alive\": 1,\n",
    "    },\n",
    "    \"settings\": {\n",
    "        \"lumen_vol_elasticity\": 1.0e-3,\n",
    "        \"lumen_prefered_vol\": 300,\n",
    "        \"apical_weight\": 1.0,\n",
    "    },\n",
    "}\n"
   ]
  },
  {
   "cell_type": "code",
   "execution_count": null,
   "metadata": {},
   "outputs": [],
   "source": [
    "follicle, model = get_initial_follicle(specs)\n",
    "print(f\"Follicle has {follicle.Nc} cells\")\n",
    "print(follicle.settings)"
   ]
  },
  {
   "cell_type": "markdown",
   "metadata": {},
   "source": [
    "#### 3D vizualisation"
   ]
  },
  {
   "cell_type": "code",
   "execution_count": null,
   "metadata": {},
   "outputs": [],
   "source": [
    "draw_specs = {\n",
    "    'edge': {\n",
    "        'visible': False,\n",
    "    },\n",
    "    'face': {\n",
    "        'visible': True,\n",
    "        'color': lambda sheet: sheet.face_df['area']\n",
    "    },\n",
    "}\n",
    "\n",
    "ipv.clear()\n",
    "\n",
    "# filter visible cells\n",
    "\n",
    "follicle.face_df['visible'] = (\n",
    "    (follicle.face_df['y'] > 0)\n",
    "    | (follicle.face_df['x'] > 0)\n",
    ")\n",
    "\n",
    "fig, mesh = sheet_view(follicle, mode=\"3D\", **draw_specs)\n",
    "fig"
   ]
  },
  {
   "cell_type": "markdown",
   "metadata": {},
   "source": [
    "## Contractility gradient\n",
    "\n",
    "The contractility gradient is modeled as an increase in the cells apical face _weight_"
   ]
  },
  {
   "cell_type": "code",
   "execution_count": null,
   "metadata": {},
   "outputs": [],
   "source": [
    "polar_cells = get_polar_cells(follicle)\n",
    "update_gradient(follicle, polar_cells, amp=6, span=3)"
   ]
  },
  {
   "cell_type": "code",
   "execution_count": null,
   "metadata": {},
   "outputs": [],
   "source": [
    "\n",
    "fig, ax = plt.subplots()\n",
    "ax.plot(\n",
    "    follicle.face_df.loc[follicle.apical_faces, \"z\"],\n",
    "    follicle.face_df.loc[follicle.apical_faces, \"weight\"],\n",
    "    'o',\n",
    "    label=\"cells apical face\"\n",
    ")\n",
    "ax.plot(\n",
    "    follicle.face_df.loc[follicle.basal_faces, \"z\"],\n",
    "    follicle.face_df.loc[follicle.basal_faces, \"weight\"],\n",
    "    'o',\n",
    "    label=\"cells basal face\"\n",
    ")\n",
    "\n",
    "ax.set_xlabel(\"Position along the P-D axis\")\n",
    "ax.set_ylabel(\"Face weight\")\n",
    "l = ax.legend()\n"
   ]
  },
  {
   "cell_type": "code",
   "execution_count": null,
   "metadata": {
    "scrolled": false
   },
   "outputs": [],
   "source": [
    "\n",
    "ipv.clear()\n",
    "follicle.face_df['visible'] = True\n",
    "follicle.face_df.loc[follicle.basal_faces, 'visible'] = False\n",
    "\n",
    "fig, mesh = sheet_view(follicle, mode=\"3D\", **draw_specs)\n",
    "fig"
   ]
  },
  {
   "cell_type": "markdown",
   "metadata": {},
   "source": [
    "### Initial quasistatic equilibrium with the chosen gradient parameters"
   ]
  },
  {
   "cell_type": "code",
   "execution_count": null,
   "metadata": {},
   "outputs": [],
   "source": [
    "quasistatic_solve = True\n",
    "\n",
    "if quasistatic_solve:\n",
    "    solver = QSSolver()\n",
    "    res = solver.find_energy_min(follicle, geom, model)\n",
    "    print(res.message)\n"
   ]
  },
  {
   "cell_type": "code",
   "execution_count": null,
   "metadata": {
    "scrolled": false
   },
   "outputs": [],
   "source": [
    "follicle.face_df['visible'] = (\n",
    "    (follicle.face_df['y'] > 0)\n",
    "    | (follicle.face_df['x'] > 0)\n",
    ")\n",
    "ipv.clear()\n",
    "fig, mesh = sheet_view(follicle, mode=\"3D\", **draw_specs)\n",
    "fig"
   ]
  },
  {
   "cell_type": "markdown",
   "metadata": {},
   "source": [
    "### More detailed viewer"
   ]
  },
  {
   "cell_type": "code",
   "execution_count": null,
   "metadata": {},
   "outputs": [],
   "source": [
    "follicle.face_df['visible'] = True\n",
    "MonolayerView(follicle, **draw_specs)"
   ]
  },
  {
   "cell_type": "markdown",
   "metadata": {},
   "source": [
    "## Cell division and dynamic model"
   ]
  },
  {
   "cell_type": "markdown",
   "metadata": {},
   "source": [
    "$$\n",
    "\\ln(V_\\mathrm{lum})(t) = a + k_V t\\\\\n",
    "V_\\mathrm{lum}(t) = V_0 e^{k_V t}\n",
    "$$\n",
    "\n"
   ]
  },
  {
   "cell_type": "code",
   "execution_count": null,
   "metadata": {},
   "outputs": [],
   "source": [
    "follicle.update_specs(\n",
    "    {'settings':\n",
    "     {\n",
    "        # Critical length to trigger rearangements\n",
    "        \"threshold_length\": 1e-2,  \n",
    "        # Frequency of rearangements\n",
    "        \"p_4\": 0.1,\n",
    "        \"p_5+\": 0.01,\n",
    "    },\n",
    "    'vert': {\n",
    "        \"viscosity\": 0.1\n",
    "    },\n",
    "})\n",
    "\n",
    "follicle.cell_df[\"id\"] = follicle.cell_df.index\n",
    "polar_cells_ids = tuple(follicle.cell_df.loc[list(polar_cells), \"id\"])\n",
    "\n",
    "parameters = {\n",
    "    \"amp\": 6,\n",
    "    \"span\": 3,\n",
    "    \"growth_rate\": 0.01,\n",
    "    \"growth_noise\": 0.01,\n",
    "    \"orientation\": \"apical\", # or \"vertical\"\n",
    "    \"critical_vol\": 1.4,\n",
    "    \"autonomous\": True,\n",
    "    \"polar_cells_ids\": polar_cells_ids,\n",
    "    \"lumen_growth_rate\": 0.014\n",
    "}\n",
    "    \n",
    "base_dir = Path(\"../data\")\n",
    "time_stamp = datetime.today().strftime(\"%y-%m-%d-%H-%M-%S\")\n",
    "history_file = Path(f\"hist2D_{time_stamp}.hf5\")\n",
    "\n",
    "# We take the time unit as 1/100th of a development stage\n",
    "dt = 1e-2\n",
    "time_span = 100\n",
    "\n",
    "progress = FloatProgress(min=0, max=time_span)\n",
    "solver = get_solver(\n",
    "    follicle,\n",
    "    model,\n",
    "    dt,\n",
    "    base_dir,\n",
    "    history_file,\n",
    "    parameters,\n",
    "    save_interval=dt*10)\n",
    "    \n",
    "def update_progress(mono, manager):\n",
    "    progress.value = manager.clock * dt\n",
    "    manager.append(update_progress)\n",
    "    \n",
    "solver.manager.append(update_progress)"
   ]
  },
  {
   "cell_type": "markdown",
   "metadata": {},
   "source": [
    "The created solver resolves the system of first order differential equations:\n",
    "\n",
    "$$\\eta v = \\sum F $$\n",
    "\n",
    "Where the forces are computed as the opposite of the gradients from the model\n"
   ]
  },
  {
   "cell_type": "code",
   "execution_count": null,
   "metadata": {
    "scrolled": true
   },
   "outputs": [],
   "source": [
    "log_widget = LogWidget()\n",
    "handler = logging.StreamHandler(log_widget)\n",
    "handler.setLevel(\"INFO\")\n",
    "logger.addHandler(handler)\n",
    "\n",
    "\n",
    "widgets.VBox([progress, log_widget])"
   ]
  },
  {
   "cell_type": "code",
   "execution_count": null,
   "metadata": {
    "scrolled": true
   },
   "outputs": [],
   "source": [
    "solver.solve(time_span, dt)"
   ]
  },
  {
   "cell_type": "code",
   "execution_count": null,
   "metadata": {
    "scrolled": false
   },
   "outputs": [],
   "source": [
    "draw_specs[\"edge\"][\"visible\"] = True\n",
    "\n",
    "browse_history(solver.history, **draw_specs)\n"
   ]
  },
  {
   "cell_type": "markdown",
   "metadata": {},
   "source": [
    "## Demo of cell division oriented by apical vertices"
   ]
  },
  {
   "cell_type": "code",
   "execution_count": null,
   "metadata": {},
   "outputs": [],
   "source": [
    "qssolver = QSSolver()\n",
    "res = qssolver.find_energy_min(solver.eptm, geom, model)"
   ]
  },
  {
   "cell_type": "code",
   "execution_count": null,
   "metadata": {},
   "outputs": [],
   "source": []
  },
  {
   "cell_type": "code",
   "execution_count": null,
   "metadata": {},
   "outputs": [],
   "source": [
    "from tyssue.utils import single_cell\n",
    "from tyssue import MonolayerGeometry as mgeom\n",
    "from tyssue.topology.monolayer_topology import cell_division\n",
    "\n",
    "scell = single_cell(follicle, 9, copy=True)\n",
    "\n",
    "mgeom.center(scell)\n",
    "mgeom.update_all(scell)\n",
    "\n",
    "apical_verts = scell.vert_df.loc[scell.vert_df[\"segment\"]==\"apical\"]\n",
    "\n",
    "u, s, vh = np.linalg.svd(apical_verts[scell.coords])\n",
    "\n",
    "cell_division(scell, 0, orientation=\"apical\")\n",
    "\n",
    "ipv.clear()\n",
    "fig, mesh = sheet_view(scell, mode=\"3D\")\n",
    "colors = [\"red\", \"green\", \"blue\"]\n",
    "lines = [\n",
    "    ipv.plot(\n",
    "        x=[0, s[i]*vh[i, 0]],\n",
    "        y=[0, s[i]*vh[i, 1]],\n",
    "        z=[0, s[i]*vh[i, 2]],\n",
    "        color=colors[i]\n",
    "    )\n",
    "    for i in range(3)\n",
    "]\n",
    "fig"
   ]
  },
  {
   "cell_type": "code",
   "execution_count": null,
   "metadata": {},
   "outputs": [],
   "source": []
  }
 ],
 "metadata": {
  "kernelspec": {
   "display_name": "Python 3",
   "language": "python",
   "name": "python3"
  },
  "language_info": {
   "codemirror_mode": {
    "name": "ipython",
    "version": 3
   },
   "file_extension": ".py",
   "mimetype": "text/x-python",
   "name": "python",
   "nbconvert_exporter": "python",
   "pygments_lexer": "ipython3",
   "version": "3.8.6"
  }
 },
 "nbformat": 4,
 "nbformat_minor": 2
}
