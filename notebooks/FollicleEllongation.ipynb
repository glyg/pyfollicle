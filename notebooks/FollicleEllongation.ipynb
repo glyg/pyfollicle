{
 "cells": [
  {
   "cell_type": "code",
   "execution_count": 1,
   "metadata": {},
   "outputs": [],
   "source": [
    "from datetime import datetime\n",
    "\n",
    "import numpy as np\n",
    "import pandas as pd\n",
    "import matplotlib.pyplot as plt\n",
    "%matplotlib inline\n",
    "\n",
    "import ipyvolume as ipv\n",
    "from ipywidgets import FloatProgress\n",
    "from IPython.display import display, Image\n",
    "\n",
    "from tyssue import HistoryHdf5, EventManager\n",
    "\n",
    "from tyssue.draw import sheet_view, browse_history\n",
    "from tyssue.geometry.bulk_geometry import ClosedMonolayerGeometry as geom\n",
    "from tyssue.io import hdf5\n",
    "from tyssue.dynamics import model_factory, effectors\n",
    "from tyssue.generation.shapes import spherical_monolayer\n",
    "\n",
    "from tyssue.behaviors import EventManager\n",
    "from tyssue.behaviors import increase, decrease, reconnect\n",
    "from tyssue.solvers.viscous import EulerSolver\n",
    "from tyssue.utils.decorators import face_lookup\n",
    "\n",
    "\n",
    "from tyssue.draw import highlight_faces, create_gif\n",
    "from tyssue.solvers.quasistatic import QSSolver\n",
    "\n",
    "\n",
    "from tyssue import HistoryHdf5\n",
    "\n",
    "\n",
    "\n",
    "from pathlib import Path\n",
    "\n",
    "from tyssue.utils.decorators import cell_lookup\n",
    "from tyssue.topology.monolayer_topology import cell_division\n"
   ]
  },
  {
   "cell_type": "markdown",
   "metadata": {},
   "source": [
    "Reference: https://elifesciences.org/articles/32943\n",
    "\n",
    "\n",
    "It is conveninent to consider that cells have an average volume of 1\n",
    "\n",
    "\n",
    "| stade  | nombe de cellules | volume interne (μm3) |\n",
    "| ------ | --------- | ---------- |\n",
    "| 3 | 120 | 181008 |\n",
    "| 4 | 200 | 670400 |\n",
    "| 5 | 400 | 3352000 | \n",
    "| 6 | 700 | 12318600 | "
   ]
  },
  {
   "cell_type": "markdown",
   "metadata": {},
   "source": [
    "## Experimental data"
   ]
  },
  {
   "cell_type": "code",
   "execution_count": 2,
   "metadata": {},
   "outputs": [
    {
     "data": {
      "text/html": [
       "<div>\n",
       "<style scoped>\n",
       "    .dataframe tbody tr th:only-of-type {\n",
       "        vertical-align: middle;\n",
       "    }\n",
       "\n",
       "    .dataframe tbody tr th {\n",
       "        vertical-align: top;\n",
       "    }\n",
       "\n",
       "    .dataframe thead th {\n",
       "        text-align: right;\n",
       "    }\n",
       "</style>\n",
       "<table border=\"1\" class=\"dataframe\">\n",
       "  <thead>\n",
       "    <tr style=\"text-align: right;\">\n",
       "      <th></th>\n",
       "      <th>Nc</th>\n",
       "      <th>lumen_vol</th>\n",
       "    </tr>\n",
       "    <tr>\n",
       "      <th>stage</th>\n",
       "      <th></th>\n",
       "      <th></th>\n",
       "    </tr>\n",
       "  </thead>\n",
       "  <tbody>\n",
       "    <tr>\n",
       "      <th>3</th>\n",
       "      <td>12</td>\n",
       "      <td>181000</td>\n",
       "    </tr>\n",
       "    <tr>\n",
       "      <th>4</th>\n",
       "      <td>200</td>\n",
       "      <td>670400</td>\n",
       "    </tr>\n",
       "    <tr>\n",
       "      <th>5</th>\n",
       "      <td>400</td>\n",
       "      <td>3352000</td>\n",
       "    </tr>\n",
       "    <tr>\n",
       "      <th>6</th>\n",
       "      <td>700</td>\n",
       "      <td>12318600</td>\n",
       "    </tr>\n",
       "  </tbody>\n",
       "</table>\n",
       "</div>"
      ],
      "text/plain": [
       "        Nc  lumen_vol\n",
       "stage                \n",
       "3       12     181000\n",
       "4      200     670400\n",
       "5      400    3352000\n",
       "6      700   12318600"
      ]
     },
     "execution_count": 2,
     "metadata": {},
     "output_type": "execute_result"
    }
   ],
   "source": [
    "growth = pd.DataFrame(\n",
    "    data=[[12, 181000], [200, 670400], [400, 3352000], [700, 12318600]],\n",
    "    index=pd.Index([3, 4, 5, 6], name='stage'),\n",
    "    columns=['Nc', 'lumen_vol']\n",
    ")\n",
    "growth"
   ]
  },
  {
   "cell_type": "markdown",
   "metadata": {},
   "source": [
    "$$\n",
    "\\ln(V_\\mathrm{lum})(t) = a + k_V t\\\\\n",
    "V_\\mathrm{lum}(t) = V_0 e^{k_V t}\n",
    "$$\n",
    "\n"
   ]
  },
  {
   "cell_type": "code",
   "execution_count": 3,
   "metadata": {},
   "outputs": [
    {
     "data": {
      "image/png": "[encoded data removed]",
      "text/plain": [
       "<Figure size 432x288 with 2 Axes>"
      ]
     },
     "metadata": {
      "needs_background": "light"
     },
     "output_type": "display_data"
    }
   ],
   "source": [
    "fig, (ax_v, ax_c) = plt.subplots(2, sharex=True)\n",
    "\n",
    "ax_v.plot(growth.lumen_vol, '-o')\n",
    "ax_v.set_yscale('log')\n",
    "ax_v.set_ylabel('Lumen volume (µm)')\n",
    "\n",
    "ax_c.plot(growth.Nc, '-o')\n",
    "ax_c.set_yscale('log')\n",
    "ax_c.set_ylabel('Cell number')\n",
    "_ = ax_c.set_xlabel(\"stage\")\n"
   ]
  },
  {
   "cell_type": "code",
   "execution_count": 4,
   "metadata": {},
   "outputs": [
    {
     "name": "stdout",
     "output_type": "stream",
     "text": [
      "Lumen volume growth rate: 1.43\n",
      "Division rate: 1.29\n"
     ]
    }
   ],
   "source": [
    "kV, lnV0 = np.polyfit(growth.index, np.log(growth.lumen_vol), 1)\n",
    "\n",
    "print(f\"Lumen volume growth rate: {kV:.2f}\")\n",
    "\n",
    "kD, lnc0 = np.polyfit(growth.index, np.log(growth.Nc), 1)\n",
    "\n",
    "print(f\"Division rate: {kD:.2f}\")\n"
   ]
  },
  {
   "cell_type": "markdown",
   "metadata": {},
   "source": [
    "## Follicle monolayer creation\n"
   ]
  },
  {
   "cell_type": "code",
   "execution_count": 6,
   "metadata": {},
   "outputs": [
    {
     "name": "stdout",
     "output_type": "stream",
     "text": [
      "Follicle has 203 cells\n"
     ]
    }
   ],
   "source": [
    "follicle = spherical_monolayer(9., 12., 200, apical='in')\n",
    "follicle.settings[\"lumen_side\"] = \"apical\"\n",
    "geom.update_all(follicle)\n",
    "geom.scale(follicle, follicle.cell_df.vol.mean()**(-1/3), list(\"xyz\"))\n",
    "geom.update_all(follicle)\n",
    "\n",
    "for df in follicle.datasets.values():\n",
    "    df.dropna(axis=1, how='any', inplace=True)\n",
    "\n",
    "print(f\"Follicle has {follicle.Nc} cells\")"
   ]
  },
  {
   "cell_type": "code",
   "execution_count": 7,
   "metadata": {},
   "outputs": [
    {
     "name": "stdout",
     "output_type": "stream",
     "text": [
      "{'lumen_side': 'apical', 'lumen_vol': 150.52864922182738}\n"
     ]
    }
   ],
   "source": [
    "print(follicle.settings)"
   ]
  },
  {
   "cell_type": "code",
   "execution_count": 8,
   "metadata": {},
   "outputs": [],
   "source": [
    "draw_specs = {\n",
    "    'edge': {\n",
    "        'visible': False,\n",
    "    },\n",
    "    'face': {\n",
    "        'visible': True,\n",
    "        'color': lambda sheet: sheet.face_df['area']\n",
    "    },\n",
    "}\n"
   ]
  },
  {
   "cell_type": "code",
   "execution_count": 9,
   "metadata": {},
   "outputs": [
    {
     "name": "stderr",
     "output_type": "stream",
     "text": [
      "/home/guillaume/miniconda3/envs/tyssue/lib/python3.7/site-packages/numpy/core/fromnumeric.py:2495: FutureWarning: Method .ptp is deprecated and will be removed in a future version. Use numpy.ptp instead.\n",
      "  return ptp(axis=axis, out=out, **kwargs)\n"
     ]
    },
    {
     "data": {
      "application/vnd.jupyter.widget-view+json": {
       "model_id": "0b3981ac65f64eafa031c9c76139adfa",
       "version_major": 2,
       "version_minor": 0
      },
      "text/plain": [
       "Figure(camera=PerspectiveCamera(fov=46.0, position=(0.0, 0.0, 2.0), quaternion=(0.0, 0.0, 0.0, 1.0), scale=(1.…"
      ]
     },
     "metadata": {},
     "output_type": "display_data"
    }
   ],
   "source": [
    "ipv.clear()\n",
    "follicle.face_df['visible'] = (follicle.face_df['y'] > 0) | (follicle.face_df['x'] > 0)\n",
    "fig, mesh = sheet_view(follicle, mode=\"3D\", **draw_specs)\n",
    "fig"
   ]
  },
  {
   "cell_type": "code",
   "execution_count": 10,
   "metadata": {},
   "outputs": [],
   "source": [
    "bck0 = follicle.copy()"
   ]
  },
  {
   "cell_type": "code",
   "execution_count": 11,
   "metadata": {},
   "outputs": [
    {
     "name": "stderr",
     "output_type": "stream",
     "text": [
      "Reseting column is_alive of the cell dataset with new specs\n",
      "Reseting column is_alive of the face dataset with new specs\n"
     ]
    }
   ],
   "source": [
    "follicle = bck0.copy()\n",
    "\n",
    "model = model_factory([\n",
    "    effectors.LumenVolumeElasticity,\n",
    "    effectors.FaceAreaElasticity,\n",
    "    effectors.PerimeterElasticity,\n",
    "    effectors.CellVolumeElasticity,\n",
    "    effectors.CellAreaElasticity,\n",
    "    ])\n",
    "\n",
    "\n",
    "\n",
    "specs = {\n",
    "    'cell': {\n",
    "        'is_alive': 1,\n",
    "        'area_elasticity': 0.1,\n",
    "        'prefered_area': follicle.cell_df.area.mean()*0.8,\n",
    "        'vol_elasticity': 1.0,\n",
    "        'prefered_vol': 1.0\n",
    "    },\n",
    "    'face': {\n",
    "        'is_alive': 1,\n",
    "        'area_elasticity': 1.0,\n",
    "        'prefered_area': 1.0,\n",
    "        'perimeter_elasticity': 0.1,\n",
    "        'prefered_perimeter': 3.81,\n",
    "    },\n",
    "    'settings': {\n",
    "        'lumen_vol_elasticity': 1./ follicle.Nc,\n",
    "        'lumen_prefered_vol': follicle.settings['lumen_vol'],\n",
    "    }\n",
    "}\n",
    "\n",
    "follicle.update_specs(specs, reset=True)\n",
    "\n",
    "follicle.face_df.loc[follicle.basal_faces, 'perimeter_elasticity'] = 0.0\n",
    "follicle.face_df.loc[follicle.basal_faces, 'area_elasticity'] = 0\n",
    "follicle.face_df.loc[follicle.lateral_faces, 'perimeter_elasticity'] = 0.0\n",
    "follicle.face_df.loc[follicle.lateral_faces, 'area_elasticity'] = 0\n",
    "\n",
    "A0 = follicle.face_df.loc[follicle.apical_faces, 'area'].mean()\n",
    "follicle.face_df.loc[follicle.apical_faces, 'prefered_area'] = A0\n",
    "follicle.face_df.loc[follicle.apical_faces, 'prefered_perimeter'] = 3.81 * A0**0.5\n",
    "\n"
   ]
  },
  {
   "cell_type": "code",
   "execution_count": 12,
   "metadata": {},
   "outputs": [
    {
     "name": "stdout",
     "output_type": "stream",
     "text": [
      "b'CONVERGENCE: NORM_OF_PROJECTED_GRADIENT_<=_PGTOL'\n"
     ]
    }
   ],
   "source": [
    "solver = QSSolver()\n",
    "res = solver.find_energy_min(follicle, geom, model)\n",
    "print(res.message)\n",
    "\n"
   ]
  },
  {
   "cell_type": "code",
   "execution_count": 13,
   "metadata": {},
   "outputs": [
    {
     "data": {
      "application/vnd.jupyter.widget-view+json": {
       "model_id": "8d6871d261874fd08cbb8b277361a5c0",
       "version_major": 2,
       "version_minor": 0
      },
      "text/plain": [
       "Figure(camera=PerspectiveCamera(fov=46.0, position=(0.0, 0.0, 2.0), quaternion=(0.0, 0.0, 0.0, 1.0), scale=(1.…"
      ]
     },
     "metadata": {},
     "output_type": "display_data"
    }
   ],
   "source": [
    "ipv.clear()\n",
    "follicle.face_df['visible'] = (\n",
    "    (\n",
    "        (follicle.face_df['y'] > 0)\n",
    "        | (follicle.face_df['x'] > 0)\n",
    "    )\n",
    "    #& (follicle.face_df['segment'] == \"apical\")\n",
    ")\n",
    "# follicle.face_df['visible'] = True\n",
    "fig, mesh = sheet_view(follicle, mode=\"3D\", **draw_specs)\n",
    "fig"
   ]
  },
  {
   "cell_type": "code",
   "execution_count": 14,
   "metadata": {},
   "outputs": [],
   "source": [
    "def contractility_grad_along_z(z, z_a=10, ant_increase=6, post_increase=6):\n",
    "    \"\"\"Returns the amplitude of the gradient for z \n",
    "    (along the posterior-anterior axis of the follicle).\n",
    "    \n",
    "    The gradient is modeled as a quadratic function of z, such that the increase in\n",
    "    contractility is equal to ant_increase at z_a and to post_increase at -z_a.\n",
    "    \n",
    "    \"\"\"\n",
    "    \n",
    "    # we look for a quadradic function with C(-z_a) = ant_increase, C(z_a) = post_increase\n",
    "    # and C(z_min) = 0 - we find the correct coefs p2, p1 and p0 bellow\n",
    "    \n",
    "    app = ant_increase + post_increase\n",
    "    amp = ant_increase - post_increase\n",
    "    if amp == 0.:\n",
    "        p2 = ant_increase / z_a**2\n",
    "        p1 = 0\n",
    "        p0 = 0\n",
    "    else:\n",
    "        p1 = amp / (2 * z_a)\n",
    "        inv_poly = [2*z_a**2, -app, p1**2]\n",
    "        p2_0, p2_1 = np.poly1d(inv_poly).roots\n",
    "        if isinstance(p2_0, np.complex):\n",
    "            p2_0, p2_1 = np.real([p2_0, p2_1])\n",
    "        p2 = p2_0 if p2_0 >= 0 else p2_1\n",
    "        p0 = p1**2 / (4*p2)\n",
    "\n",
    "    poly = np.poly1d([p2, p1, p0])\n",
    "    return np.polyval(poly, z)\n",
    "\n",
    "def contractility_grad(follicle, cell, amp, span, coords=['x', 'y', 'z']):\n",
    "    \n",
    "    cell_pos = follicle.cell_df.loc[cell, coords].to_numpy()\n",
    "    distance = np.linalg.norm(\n",
    "        follicle.face_df[coords] - cell_pos[None, :],\n",
    "        axis=1)\n",
    "    \n",
    "    grad = amp * np.exp(-distance / span)\n",
    "    return grad - grad.min()\n"
   ]
  },
  {
   "cell_type": "code",
   "execution_count": 15,
   "metadata": {},
   "outputs": [],
   "source": [
    "bck1 = follicle.copy()"
   ]
  },
  {
   "cell_type": "markdown",
   "metadata": {},
   "source": [
    "## Static contractility gradient"
   ]
  },
  {
   "cell_type": "code",
   "execution_count": 81,
   "metadata": {},
   "outputs": [],
   "source": [
    "follicle = bck1.copy()\n",
    "\n",
    "anterior_cell = follicle.cell_df['z'].idxmin() \n",
    "posterior_cell = follicle.cell_df['z'].idxmax() \n",
    "\n",
    "follicle.face_df[\"contractile_grad\"] = 1 + (\n",
    "    contractility_grad(follicle, anterior_cell, amp=6, span=1)\n",
    "    + contractility_grad(follicle, posterior_cell, amp=6, span=1)\n",
    ")\n",
    "\n",
    "follicle.face_df[\"prefered_area\"] /= follicle.face_df[\"contractile_grad\"]\n",
    "follicle.face_df[\"prefered_perimeter\"] /= follicle.face_df[\"contractile_grad\"]**0.5\n"
   ]
  },
  {
   "cell_type": "code",
   "execution_count": 82,
   "metadata": {},
   "outputs": [
    {
     "data": {
      "text/plain": [
       "[<matplotlib.lines.Line2D at 0x7f0b75c4bdd0>]"
      ]
     },
     "execution_count": 82,
     "metadata": {},
     "output_type": "execute_result"
    },
    {
     "data": {
      "image/png": "[encoded data removed]",
      "text/plain": [
       "<Figure size 432x288 with 1 Axes>"
      ]
     },
     "metadata": {
      "needs_background": "light"
     },
     "output_type": "display_data"
    }
   ],
   "source": [
    "fig, ax = plt.subplots()\n",
    "ax.plot(\n",
    "    follicle.face_df.loc[follicle.apical_faces, 'z'],\n",
    "    follicle.face_df.loc[follicle.apical_faces, 'prefered_area'], '.')"
   ]
  },
  {
   "cell_type": "code",
   "execution_count": 83,
   "metadata": {},
   "outputs": [],
   "source": [
    "draw_specs = {\n",
    "    'edge': {\n",
    "        'visible': False,\n",
    "    },\n",
    "    'face': {\n",
    "        'visible': True,\n",
    "        'color': lambda sheet: sheet.face_df['contractile_grad']\n",
    "    },\n",
    "}\n"
   ]
  },
  {
   "cell_type": "code",
   "execution_count": 84,
   "metadata": {},
   "outputs": [
    {
     "name": "stdout",
     "output_type": "stream",
     "text": [
      "b'CONVERGENCE: REL_REDUCTION_OF_F_<=_FACTR*EPSMCH'\n"
     ]
    }
   ],
   "source": [
    "solver = QSSolver()\n",
    "res = solver.find_energy_min(follicle, geom, model)\n",
    "print(res.message)\n"
   ]
  },
  {
   "cell_type": "code",
   "execution_count": 85,
   "metadata": {},
   "outputs": [
    {
     "data": {
      "application/vnd.jupyter.widget-view+json": {
       "model_id": "e7f02c38797a44e6aefbef0b880dc171",
       "version_major": 2,
       "version_minor": 0
      },
      "text/plain": [
       "Figure(camera=PerspectiveCamera(fov=46.0, position=(0.0, 0.0, 2.0), quaternion=(0.0, 0.0, 0.0, 1.0), scale=(1.…"
      ]
     },
     "metadata": {},
     "output_type": "display_data"
    }
   ],
   "source": [
    "\n",
    "ipv.clear()\n",
    "\n",
    "fig, mesh = sheet_view(follicle, mode=\"3D\", **draw_specs)\n",
    "fig"
   ]
  },
  {
   "cell_type": "code",
   "execution_count": null,
   "metadata": {},
   "outputs": [],
   "source": []
  },
  {
   "cell_type": "code",
   "execution_count": 86,
   "metadata": {},
   "outputs": [
    {
     "data": {
      "image/png": "[encoded data removed]",
      "text/plain": [
       "<Figure size 576x576 with 1 Axes>"
      ]
     },
     "metadata": {
      "needs_background": "light"
     },
     "output_type": "display_data"
    }
   ],
   "source": [
    "fig, ax = sheet_view(follicle.get_sub_sheet('apical'), mode=\"2D\", coords=[\"z\", \"x\"], **draw_specs)\n",
    "fig.set_size_inches(8, 8)"
   ]
  },
  {
   "cell_type": "code",
   "execution_count": 87,
   "metadata": {},
   "outputs": [
    {
     "data": {
      "image/png": "[encoded data removed]",
      "text/plain": [
       "<Figure size 576x576 with 1 Axes>"
      ]
     },
     "metadata": {
      "needs_background": "light"
     },
     "output_type": "display_data"
    }
   ],
   "source": [
    "basal_s = follicle.get_sub_sheet('basal')\n",
    "basal_s.reset_index()\n",
    "fig, ax = sheet_view(basal_s, mode=\"2D\", coords=[\"z\", \"x\"], **draw_specs)\n",
    "fig.set_size_inches(8, 8)\n"
   ]
  },
  {
   "cell_type": "markdown",
   "metadata": {},
   "source": [
    "### Increasing lumen volume\n",
    "\n",
    "\n",
    "\n"
   ]
  },
  {
   "cell_type": "code",
   "execution_count": 18,
   "metadata": {},
   "outputs": [],
   "source": [
    "follicle.settings['lumen_prefered_vol'] = 2.\n"
   ]
  },
  {
   "cell_type": "code",
   "execution_count": 20,
   "metadata": {},
   "outputs": [
    {
     "name": "stdout",
     "output_type": "stream",
     "text": [
      "b'CONVERGENCE: NORM_OF_PROJECTED_GRADIENT_<=_PGTOL'\n"
     ]
    }
   ],
   "source": [
    "solver = QSSolver()\n",
    "res = solver.find_energy_min(follicle, geom, model)\n",
    "print(res.message)\n"
   ]
  },
  {
   "cell_type": "code",
   "execution_count": 21,
   "metadata": {},
   "outputs": [
    {
     "data": {
      "application/vnd.jupyter.widget-view+json": {
       "model_id": "9a96b94a0cff46a6bd9ad16c360423c0",
       "version_major": 2,
       "version_minor": 0
      },
      "text/plain": [
       "Figure(camera=PerspectiveCamera(fov=46.0, position=(0.0, 0.0, 2.0), quaternion=(0.0, 0.0, 0.0, 1.0), scale=(1.…"
      ]
     },
     "metadata": {},
     "output_type": "display_data"
    }
   ],
   "source": [
    "\n",
    "ipv.clear()\n",
    "\n",
    "fig, mesh = sheet_view(follicle, mode=\"3D\", **draw_specs)\n",
    "fig"
   ]
  },
  {
   "cell_type": "markdown",
   "metadata": {},
   "source": [
    "## Cell division and dynamic model"
   ]
  },
  {
   "cell_type": "markdown",
   "metadata": {},
   "source": [
    "$$\n",
    "\\ln(V_\\mathrm{lum})(t) = a + k_V t\\\\\n",
    "V_\\mathrm{lum}(t) = V_0 e^{k_V t}\n",
    "$$\n",
    "\n"
   ]
  },
  {
   "cell_type": "code",
   "execution_count": 32,
   "metadata": {},
   "outputs": [],
   "source": []
  },
  {
   "cell_type": "code",
   "execution_count": 36,
   "metadata": {},
   "outputs": [],
   "source": [
    "### follicle = bck1\n",
    "\n",
    "# We take the time unit as 1/100th of a development stage\n",
    "\n",
    "dt = 1e-2\n",
    "\n",
    "default_division_spec = {\n",
    "    \"cell\": -1,\n",
    "    \"growth_rate\": 0.014,\n",
    "    \"critical_vol\": 2.,\n",
    "    \"autonomous\": True,\n",
    "}\n",
    "\n",
    "follicle.update_specs(\n",
    "    {'settings':\n",
    "     {\n",
    "        \"threshold_length\": 1e-1,  # Critical length to trigger rearangements\n",
    "        \"p_4\": 1.,  ## Frequency of rearangements\n",
    "        \"p_5+\": 0.1,\n",
    "    },\n",
    "    'vert': {\n",
    "        \"viscosity\": 0.1\n",
    "    },\n",
    "    'edge': {\n",
    "        'is_valid': 1,\n",
    "    }\n",
    "})\n",
    "\n",
    "\n",
    "\n",
    "# This will go in tyssue in the next release\n",
    "@cell_lookup\n",
    "def division(mono, manager, **kwargs):\n",
    "    \"\"\"Cell division happens through cell growth up to a critical volume,\n",
    "    followed by actual division of the cell.\n",
    "    \n",
    "    Parameters\n",
    "    ----------\n",
    "    mono : a `Monolayer` instance\n",
    "    manager : an `EventManager` instance\n",
    "    cell_id : int,\n",
    "      index of the mother cell\n",
    "    growth_rate : float, default 0.1\n",
    "      rate of increase of the prefered volume\n",
    "    critical_vol : float, default 2.\n",
    "      volume at which the cells stops to grow and devides\n",
    "    \"\"\"\n",
    "    division_spec = default_division_spec\n",
    "    division_spec.update(**kwargs)\n",
    "\n",
    "    cell = division_spec[\"cell\"]\n",
    "    Vc = division_spec[\"critical_vol\"] * mono.specs[\"cell\"][\"prefered_vol\"]\n",
    "    if mono.cell_df.loc[cell, \"vol\"] < Vc:\n",
    "        dv = 1+division_spec[\"growth_rate\"]*mono.settings['dt']\n",
    "        da = dv**(1/3)\n",
    "        increase(\n",
    "            mono,\n",
    "            'cell',\n",
    "            cell,\n",
    "            dv,\n",
    "            \"prefered_vol\"\n",
    "        )\n",
    "        increase(\n",
    "            mono,\n",
    "            'cell',\n",
    "            cell,\n",
    "            1+da,\n",
    "            \"prefered_area\"\n",
    "        )\n",
    "        manager.append(division, **division_spec)\n",
    "    else:\n",
    "        print(f'division of cell {cell}')\n",
    "        mono.cell_df.loc[cell, \"prefered_vol\"] = mono.specs[\"cell\"][\"prefered_vol\"]\n",
    "        daughter = cell_division(mono, cell, 'vertical')\n",
    "        daughter_id = mono.cell_df.id.max() + 1\n",
    "        mono.cell_df.loc[daughter, \"id\"] = daughter_id\n",
    "        if division_spec[\"autonomous\"]:\n",
    "            manager.append(division, **division_spec)\n",
    "            division_spec['cell_id'] = daughter_id\n",
    "            manager.append(division, **division_spec)\n",
    "            \n",
    "            \n",
    "def lumen_growth(mono, manager, **kwargs):\n",
    "    \n",
    "    growth_rate = 0.02# kwargs.get('growth_rate', 0.014)\n",
    "    dt = mono.settings[\"dt\"]\n",
    "    mono.settings['lumen_prefered_vol'] *= 1 + growth_rate*dt\n",
    "    manager.append(lumen_growth, **kwargs)\n",
    "    \n",
    "\n",
    "base_dir = Path(\"../data\")\n",
    "time_stamp = datetime.today().strftime(\"%y-%m-%d-%H-%M-%S\")\n",
    "history_file = Path(f\"hist2D_{time_stamp}.hf5\")\n",
    "\n",
    "\n",
    "follicle.cell_df['id'] = follicle.cell_df.index.copy()\n",
    "\n",
    "# Copy the initial follicle\n",
    "eptm = follicle.copy()\n",
    "\n",
    "\n",
    "eptm.settings[\"dt\"] = dt\n",
    "\n",
    "manager = EventManager(\"cell\")\n",
    "# Auto solve rearangements\n",
    "#manager.append(reconnect)\n",
    "\n",
    "for cell_id in eptm.cell_df['id']:\n",
    "    manager.append(division, cell_id=cell_id)\n",
    "\n",
    "manager.append(lumen_growth, growth_rate=1.4e-2)\n",
    "\n",
    "\n",
    "history = HistoryHdf5(\n",
    "    eptm,\n",
    "    save_every=0.1,\n",
    "    dt=dt,\n",
    "    hf5file=base_dir / history_file,\n",
    "    extra_cols={\n",
    "        elem: list(follicle.datasets[elem].columns) for elem in follicle.datasets\n",
    "    },  # record everything\n",
    ")\n",
    "\n",
    "solver = EulerSolver(\n",
    "    eptm,\n",
    "    geom,\n",
    "    model,\n",
    "    manager=manager,\n",
    "    history=history,\n",
    "    bounds=(\n",
    "        -eptm.edge_df.length.median() / 10.0,\n",
    "        eptm.edge_df.length.median() / 10.0,\n",
    "    ),\n",
    ")\n",
    "\n",
    "manager.update()\n"
   ]
  },
  {
   "cell_type": "code",
   "execution_count": 37,
   "metadata": {},
   "outputs": [
    {
     "name": "stdout",
     "output_type": "stream",
     "text": [
      "150.52864922182738\n"
     ]
    }
   ],
   "source": [
    "print(eptm.settings['lumen_prefered_vol'])"
   ]
  },
  {
   "cell_type": "code",
   "execution_count": 40,
   "metadata": {},
   "outputs": [
    {
     "name": "stdout",
     "output_type": "stream",
     "text": [
      "division of cell 102\n",
      "division of cell 150\n",
      "division of cell 110\n",
      "division of cell 2\n",
      "division of cell 129\n",
      "division of cell 65\n",
      "division of cell 160\n",
      "division of cell 173\n",
      "division of cell 49\n",
      "division of cell 144\n",
      "division of cell 138\n",
      "division of cell 157\n",
      "division of cell 187\n",
      "division of cell 193\n",
      "division of cell 79\n",
      "division of cell 40\n",
      "division of cell 159\n",
      "division of cell 27\n",
      "division of cell 71\n",
      "division of cell 62\n",
      "division of cell 32\n",
      "division of cell 61\n",
      "division of cell 73\n",
      "division of cell 46\n",
      "division of cell 9\n",
      "division of cell 25\n",
      "division of cell 76\n",
      "division of cell 59\n",
      "division of cell 70\n",
      "division of cell 77\n",
      "division of cell 189\n",
      "division of cell 147\n",
      "division of cell 67\n",
      "division of cell 164\n",
      "division of cell 42\n",
      "division of cell 126\n",
      "division of cell 105\n",
      "division of cell 195\n",
      "division of cell 14\n",
      "division of cell 158\n",
      "division of cell 97\n",
      "division of cell 38\n",
      "division of cell 120\n",
      "division of cell 23\n",
      "division of cell 21\n",
      "division of cell 124\n",
      "division of cell 115\n",
      "division of cell 56\n",
      "division of cell 41\n",
      "division of cell 90\n",
      "division of cell 136\n",
      "division of cell 92\n",
      "division of cell 36\n",
      "division of cell 64\n",
      "division of cell 201\n",
      "division of cell 48\n",
      "division of cell 69\n",
      "division of cell 198\n",
      "division of cell 88\n",
      "division of cell 28\n",
      "division of cell 108\n",
      "division of cell 87\n",
      "division of cell 179\n",
      "division of cell 127\n",
      "division of cell 8\n",
      "division of cell 84\n",
      "division of cell 24\n",
      "division of cell 135\n",
      "division of cell 22\n",
      "division of cell 96\n",
      "division of cell 192\n",
      "division of cell 125\n",
      "division of cell 123\n",
      "division of cell 91\n",
      "division of cell 134\n",
      "division of cell 174\n",
      "division of cell 94\n",
      "division of cell 170\n",
      "division of cell 138\n",
      "division of cell 178\n",
      "division of cell 119\n",
      "division of cell 166\n",
      "division of cell 165\n",
      "division of cell 199\n",
      "division of cell 12\n",
      "division of cell 93\n",
      "division of cell 98\n",
      "division of cell 80\n",
      "division of cell 122\n",
      "division of cell 74\n",
      "division of cell 39\n",
      "division of cell 78\n",
      "division of cell 114\n",
      "division of cell 6\n",
      "division of cell 54\n",
      "division of cell 155\n",
      "division of cell 102\n",
      "division of cell 183\n",
      "division of cell 117\n",
      "division of cell 53\n",
      "division of cell 75\n",
      "division of cell 130\n",
      "division of cell 57\n",
      "division of cell 104\n",
      "division of cell 121\n",
      "division of cell 85\n",
      "division of cell 51\n",
      "division of cell 137\n",
      "division of cell 37\n",
      "division of cell 197\n",
      "division of cell 7\n",
      "division of cell 118\n",
      "division of cell 146\n",
      "division of cell 18\n",
      "division of cell 169\n",
      "division of cell 19\n",
      "division of cell 55\n",
      "division of cell 34\n",
      "division of cell 35\n",
      "division of cell 180\n",
      "division of cell 185\n",
      "division of cell 81\n",
      "division of cell 82\n",
      "division of cell 58\n",
      "division of cell 156\n",
      "division of cell 73\n",
      "division of cell 100\n",
      "division of cell 128\n",
      "division of cell 112\n",
      "division of cell 63\n",
      "division of cell 44\n",
      "division of cell 182\n",
      "division of cell 5\n",
      "division of cell 116\n",
      "division of cell 83\n",
      "division of cell 334\n",
      "division of cell 4\n",
      "division of cell 234\n",
      "division of cell 15\n",
      "division of cell 66\n",
      "division of cell 131\n",
      "division of cell 160\n",
      "division of cell 111\n",
      "division of cell 46\n",
      "division of cell 109\n",
      "division of cell 30\n",
      "division of cell 109\n"
     ]
    },
    {
     "ename": "ValueError",
     "evalue": "not enough values to unpack (expected 1, got 0)",
     "output_type": "error",
     "traceback": [
      "\u001b[0;31m---------------------------------------------------------------------------\u001b[0m",
      "\u001b[0;31mValueError\u001b[0m                                Traceback (most recent call last)",
      "\u001b[0;32m<ipython-input-40-c0c081a17c1f>\u001b[0m in \u001b[0;36m<module>\u001b[0;34m\u001b[0m\n\u001b[0;32m----> 1\u001b[0;31m \u001b[0msolver\u001b[0m\u001b[0;34m.\u001b[0m\u001b[0msolve\u001b[0m\u001b[0;34m(\u001b[0m\u001b[0;36m100\u001b[0m\u001b[0;34m,\u001b[0m \u001b[0mdt\u001b[0m\u001b[0;34m)\u001b[0m\u001b[0;34m\u001b[0m\u001b[0;34m\u001b[0m\u001b[0m\n\u001b[0m\u001b[1;32m      2\u001b[0m \u001b[0mprint\u001b[0m\u001b[0;34m(\u001b[0m\u001b[0meptm\u001b[0m\u001b[0;34m.\u001b[0m\u001b[0msettings\u001b[0m\u001b[0;34m[\u001b[0m\u001b[0;34m'lumen_prefered_vol'\u001b[0m\u001b[0;34m]\u001b[0m\u001b[0;34m)\u001b[0m\u001b[0;34m\u001b[0m\u001b[0;34m\u001b[0m\u001b[0m\n",
      "\u001b[0;32m~/miniconda3/envs/tyssue/lib/python3.7/site-packages/tyssue-0.7.0-py3.7-linux-x86_64.egg/tyssue/solvers/viscous.py\u001b[0m in \u001b[0;36msolve\u001b[0;34m(self, tf, dt, on_topo_change, topo_change_args)\u001b[0m\n\u001b[1;32m    129\u001b[0m             \u001b[0mself\u001b[0m\u001b[0;34m.\u001b[0m\u001b[0mprev_t\u001b[0m \u001b[0;34m=\u001b[0m \u001b[0mt\u001b[0m\u001b[0;34m\u001b[0m\u001b[0;34m\u001b[0m\u001b[0m\n\u001b[1;32m    130\u001b[0m             \u001b[0;32mif\u001b[0m \u001b[0mself\u001b[0m\u001b[0;34m.\u001b[0m\u001b[0mmanager\u001b[0m \u001b[0;32mis\u001b[0m \u001b[0;32mnot\u001b[0m \u001b[0;32mNone\u001b[0m\u001b[0;34m:\u001b[0m\u001b[0;34m\u001b[0m\u001b[0;34m\u001b[0m\u001b[0m\n\u001b[0;32m--> 131\u001b[0;31m                 \u001b[0mself\u001b[0m\u001b[0;34m.\u001b[0m\u001b[0mmanager\u001b[0m\u001b[0;34m.\u001b[0m\u001b[0mexecute\u001b[0m\u001b[0;34m(\u001b[0m\u001b[0mself\u001b[0m\u001b[0;34m.\u001b[0m\u001b[0meptm\u001b[0m\u001b[0;34m)\u001b[0m\u001b[0;34m\u001b[0m\u001b[0;34m\u001b[0m\u001b[0m\n\u001b[0m\u001b[1;32m    132\u001b[0m                 \u001b[0mself\u001b[0m\u001b[0;34m.\u001b[0m\u001b[0mgeom\u001b[0m\u001b[0;34m.\u001b[0m\u001b[0mupdate_all\u001b[0m\u001b[0;34m(\u001b[0m\u001b[0mself\u001b[0m\u001b[0;34m.\u001b[0m\u001b[0meptm\u001b[0m\u001b[0;34m)\u001b[0m\u001b[0;34m\u001b[0m\u001b[0;34m\u001b[0m\u001b[0m\n\u001b[1;32m    133\u001b[0m                 \u001b[0mself\u001b[0m\u001b[0;34m.\u001b[0m\u001b[0mmanager\u001b[0m\u001b[0;34m.\u001b[0m\u001b[0mupdate\u001b[0m\u001b[0;34m(\u001b[0m\u001b[0;34m)\u001b[0m\u001b[0;34m\u001b[0m\u001b[0;34m\u001b[0m\u001b[0m\n",
      "\u001b[0;32m~/miniconda3/envs/tyssue/lib/python3.7/site-packages/tyssue-0.7.0-py3.7-linux-x86_64.egg/tyssue/behaviors/event_manager.py\u001b[0m in \u001b[0;36mexecute\u001b[0;34m(self, eptm)\u001b[0m\n\u001b[1;32m    111\u001b[0m                 \u001b[0melem_id\u001b[0m \u001b[0;34m=\u001b[0m \u001b[0;34m-\u001b[0m\u001b[0;36m1\u001b[0m\u001b[0;34m\u001b[0m\u001b[0;34m\u001b[0m\u001b[0m\n\u001b[1;32m    112\u001b[0m             \u001b[0mlogger\u001b[0m\u001b[0;34m.\u001b[0m\u001b[0minfo\u001b[0m\u001b[0;34m(\u001b[0m\u001b[0;34mf\"{self.clock}, {elem_id}, {behavior.__name__}\"\u001b[0m\u001b[0;34m)\u001b[0m\u001b[0;34m\u001b[0m\u001b[0;34m\u001b[0m\u001b[0m\n\u001b[0;32m--> 113\u001b[0;31m             \u001b[0mbehavior\u001b[0m\u001b[0;34m(\u001b[0m\u001b[0meptm\u001b[0m\u001b[0;34m,\u001b[0m \u001b[0mself\u001b[0m\u001b[0;34m,\u001b[0m \u001b[0;34m**\u001b[0m\u001b[0mkwargs\u001b[0m\u001b[0;34m)\u001b[0m\u001b[0;34m\u001b[0m\u001b[0;34m\u001b[0m\u001b[0m\n\u001b[0m\u001b[1;32m    114\u001b[0m \u001b[0;34m\u001b[0m\u001b[0m\n\u001b[1;32m    115\u001b[0m     \u001b[0;32mdef\u001b[0m \u001b[0mupdate\u001b[0m\u001b[0;34m(\u001b[0m\u001b[0mself\u001b[0m\u001b[0;34m)\u001b[0m\u001b[0;34m:\u001b[0m\u001b[0;34m\u001b[0m\u001b[0;34m\u001b[0m\u001b[0m\n",
      "\u001b[0;32m~/miniconda3/envs/tyssue/lib/python3.7/site-packages/tyssue-0.7.0-py3.7-linux-x86_64.egg/tyssue/utils/decorators.py\u001b[0m in \u001b[0;36mwith_cell_lookup\u001b[0;34m(*args, **kwargs)\u001b[0m\n\u001b[1;32m     93\u001b[0m             \u001b[0;32mreturn\u001b[0m\u001b[0;34m\u001b[0m\u001b[0;34m\u001b[0m\u001b[0m\n\u001b[1;32m     94\u001b[0m         \u001b[0mkwargs\u001b[0m\u001b[0;34m[\u001b[0m\u001b[0;34m\"cell\"\u001b[0m\u001b[0;34m]\u001b[0m \u001b[0;34m=\u001b[0m \u001b[0mcell\u001b[0m\u001b[0;34m\u001b[0m\u001b[0;34m\u001b[0m\u001b[0m\n\u001b[0;32m---> 95\u001b[0;31m         \u001b[0;32mreturn\u001b[0m \u001b[0mfunc\u001b[0m\u001b[0;34m(\u001b[0m\u001b[0;34m*\u001b[0m\u001b[0margs\u001b[0m\u001b[0;34m,\u001b[0m \u001b[0;34m**\u001b[0m\u001b[0mkwargs\u001b[0m\u001b[0;34m)\u001b[0m\u001b[0;34m\u001b[0m\u001b[0;34m\u001b[0m\u001b[0m\n\u001b[0m\u001b[1;32m     96\u001b[0m \u001b[0;34m\u001b[0m\u001b[0m\n\u001b[1;32m     97\u001b[0m     \u001b[0;32mreturn\u001b[0m \u001b[0mwith_cell_lookup\u001b[0m\u001b[0;34m\u001b[0m\u001b[0;34m\u001b[0m\u001b[0m\n",
      "\u001b[0;32m<ipython-input-36-d8617a874afa>\u001b[0m in \u001b[0;36mdivision\u001b[0;34m(mono, manager, **kwargs)\u001b[0m\n\u001b[1;32m     72\u001b[0m         \u001b[0mprint\u001b[0m\u001b[0;34m(\u001b[0m\u001b[0;34mf'division of cell {cell}'\u001b[0m\u001b[0;34m)\u001b[0m\u001b[0;34m\u001b[0m\u001b[0;34m\u001b[0m\u001b[0m\n\u001b[1;32m     73\u001b[0m         \u001b[0mmono\u001b[0m\u001b[0;34m.\u001b[0m\u001b[0mcell_df\u001b[0m\u001b[0;34m.\u001b[0m\u001b[0mloc\u001b[0m\u001b[0;34m[\u001b[0m\u001b[0mcell\u001b[0m\u001b[0;34m,\u001b[0m \u001b[0;34m\"prefered_vol\"\u001b[0m\u001b[0;34m]\u001b[0m \u001b[0;34m=\u001b[0m \u001b[0mmono\u001b[0m\u001b[0;34m.\u001b[0m\u001b[0mspecs\u001b[0m\u001b[0;34m[\u001b[0m\u001b[0;34m\"cell\"\u001b[0m\u001b[0;34m]\u001b[0m\u001b[0;34m[\u001b[0m\u001b[0;34m\"prefered_vol\"\u001b[0m\u001b[0;34m]\u001b[0m\u001b[0;34m\u001b[0m\u001b[0;34m\u001b[0m\u001b[0m\n\u001b[0;32m---> 74\u001b[0;31m         \u001b[0mdaughter\u001b[0m \u001b[0;34m=\u001b[0m \u001b[0mcell_division\u001b[0m\u001b[0;34m(\u001b[0m\u001b[0mmono\u001b[0m\u001b[0;34m,\u001b[0m \u001b[0mcell\u001b[0m\u001b[0;34m,\u001b[0m \u001b[0;34m'vertical'\u001b[0m\u001b[0;34m)\u001b[0m\u001b[0;34m\u001b[0m\u001b[0;34m\u001b[0m\u001b[0m\n\u001b[0m\u001b[1;32m     75\u001b[0m         \u001b[0mdaughter_id\u001b[0m \u001b[0;34m=\u001b[0m \u001b[0mmono\u001b[0m\u001b[0;34m.\u001b[0m\u001b[0mcell_df\u001b[0m\u001b[0;34m.\u001b[0m\u001b[0mid\u001b[0m\u001b[0;34m.\u001b[0m\u001b[0mmax\u001b[0m\u001b[0;34m(\u001b[0m\u001b[0;34m)\u001b[0m \u001b[0;34m+\u001b[0m \u001b[0;36m1\u001b[0m\u001b[0;34m\u001b[0m\u001b[0;34m\u001b[0m\u001b[0m\n\u001b[1;32m     76\u001b[0m         \u001b[0mmono\u001b[0m\u001b[0;34m.\u001b[0m\u001b[0mcell_df\u001b[0m\u001b[0;34m.\u001b[0m\u001b[0mloc\u001b[0m\u001b[0;34m[\u001b[0m\u001b[0mdaughter\u001b[0m\u001b[0;34m,\u001b[0m \u001b[0;34m\"id\"\u001b[0m\u001b[0;34m]\u001b[0m \u001b[0;34m=\u001b[0m \u001b[0mdaughter_id\u001b[0m\u001b[0;34m\u001b[0m\u001b[0;34m\u001b[0m\u001b[0m\n",
      "\u001b[0;32m~/miniconda3/envs/tyssue/lib/python3.7/site-packages/tyssue-0.7.0-py3.7-linux-x86_64.egg/tyssue/topology/monolayer_topology.py\u001b[0m in \u001b[0;36mcell_division\u001b[0;34m(monolayer, mother, orientation, psi)\u001b[0m\n\u001b[1;32m     51\u001b[0m         \u001b[0mbasal_edges\u001b[0m \u001b[0;34m=\u001b[0m \u001b[0;34m[\u001b[0m\u001b[0;34m]\u001b[0m\u001b[0;34m\u001b[0m\u001b[0;34m\u001b[0m\u001b[0m\n\u001b[1;32m     52\u001b[0m         \u001b[0;32mfor\u001b[0m \u001b[0mae\u001b[0m \u001b[0;32min\u001b[0m \u001b[0mapical_edges\u001b[0m\u001b[0;34m[\u001b[0m\u001b[0;34m:\u001b[0m\u001b[0;34m:\u001b[0m\u001b[0;34m-\u001b[0m\u001b[0;36m1\u001b[0m\u001b[0;34m]\u001b[0m\u001b[0;34m:\u001b[0m\u001b[0;34m\u001b[0m\u001b[0;34m\u001b[0m\u001b[0m\n\u001b[0;32m---> 53\u001b[0;31m             \u001b[0mbasal_edges\u001b[0m\u001b[0;34m.\u001b[0m\u001b[0mappend\u001b[0m\u001b[0;34m(\u001b[0m\u001b[0mfind_basal_edge\u001b[0m\u001b[0;34m(\u001b[0m\u001b[0mmonolayer\u001b[0m\u001b[0;34m,\u001b[0m \u001b[0mae\u001b[0m\u001b[0;34m)\u001b[0m\u001b[0;34m)\u001b[0m\u001b[0;34m\u001b[0m\u001b[0;34m\u001b[0m\u001b[0m\n\u001b[0m\u001b[1;32m     54\u001b[0m         \u001b[0mdivision_edges\u001b[0m \u001b[0;34m=\u001b[0m \u001b[0mlist\u001b[0m\u001b[0;34m(\u001b[0m\u001b[0mapical_edges\u001b[0m\u001b[0;34m)\u001b[0m \u001b[0;34m+\u001b[0m \u001b[0mbasal_edges\u001b[0m\u001b[0;34m\u001b[0m\u001b[0;34m\u001b[0m\u001b[0m\n\u001b[1;32m     55\u001b[0m         \u001b[0mvertices\u001b[0m \u001b[0;34m=\u001b[0m \u001b[0mget_division_vertices\u001b[0m\u001b[0;34m(\u001b[0m\u001b[0mmonolayer\u001b[0m\u001b[0;34m,\u001b[0m \u001b[0mdivision_edges\u001b[0m\u001b[0;34m=\u001b[0m\u001b[0mdivision_edges\u001b[0m\u001b[0;34m)\u001b[0m\u001b[0;34m\u001b[0m\u001b[0;34m\u001b[0m\u001b[0m\n",
      "\u001b[0;32m~/miniconda3/envs/tyssue/lib/python3.7/site-packages/tyssue-0.7.0-py3.7-linux-x86_64.egg/tyssue/topology/monolayer_topology.py\u001b[0m in \u001b[0;36mfind_basal_edge\u001b[0;34m(monolayer, apical_edge)\u001b[0m\n\u001b[1;32m    113\u001b[0m         \u001b[0;34m&\u001b[0m \u001b[0;34m(\u001b[0m\u001b[0mtrgt_segment\u001b[0m \u001b[0;34m==\u001b[0m \u001b[0;34m\"basal\"\u001b[0m\u001b[0;34m)\u001b[0m\u001b[0;34m\u001b[0m\u001b[0;34m\u001b[0m\u001b[0m\n\u001b[1;32m    114\u001b[0m         \u001b[0;34m&\u001b[0m \u001b[0;34m(\u001b[0m\u001b[0mcell_edges\u001b[0m\u001b[0;34m[\u001b[0m\u001b[0;34m\"srce\"\u001b[0m\u001b[0;34m]\u001b[0m \u001b[0;34m==\u001b[0m \u001b[0msrce\u001b[0m\u001b[0;34m)\u001b[0m\u001b[0;34m\u001b[0m\u001b[0;34m\u001b[0m\u001b[0m\n\u001b[0;32m--> 115\u001b[0;31m     ][\"trgt\"]\n\u001b[0m\u001b[1;32m    116\u001b[0m     b_srce, = cell_edges[\n\u001b[1;32m    117\u001b[0m         \u001b[0;34m(\u001b[0m\u001b[0msrce_segment\u001b[0m \u001b[0;34m==\u001b[0m \u001b[0;34m\"basal\"\u001b[0m\u001b[0;34m)\u001b[0m\u001b[0;34m\u001b[0m\u001b[0;34m\u001b[0m\u001b[0m\n",
      "\u001b[0;31mValueError\u001b[0m: not enough values to unpack (expected 1, got 0)"
     ]
    }
   ],
   "source": [
    "solver.solve(100, dt)\n",
    "print(eptm.settings['lumen_prefered_vol'])"
   ]
  },
  {
   "cell_type": "code",
   "execution_count": 41,
   "metadata": {
    "scrolled": false
   },
   "outputs": [
    {
     "name": "stderr",
     "output_type": "stream",
     "text": [
      "/home/guillaume/miniconda3/envs/tyssue/lib/python3.7/site-packages/numpy/core/fromnumeric.py:2495: FutureWarning: Method .ptp is deprecated and will be removed in a future version. Use numpy.ptp instead.\n",
      "  return ptp(axis=axis, out=out, **kwargs)\n"
     ]
    },
    {
     "data": {
      "application/vnd.jupyter.widget-view+json": {
       "model_id": "c6bb2a4571354c95959d3affc557b1e9",
       "version_major": 2,
       "version_minor": 0
      },
      "text/plain": [
       "VBox(children=(Figure(camera=PerspectiveCamera(fov=46.0, position=(0.0, 0.0, 2.0), quaternion=(0.0, 0.0, 0.0, …"
      ]
     },
     "metadata": {},
     "output_type": "display_data"
    },
    {
     "data": {
      "application/vnd.jupyter.widget-view+json": {
       "model_id": "44b22d5bf3f34bc9943519daaf2da8e9",
       "version_major": 2,
       "version_minor": 0
      },
      "text/plain": [
       "interactive(children=(IntSlider(value=0, description='i', max=64), Output()), _dom_classes=('widget-interact',…"
      ]
     },
     "metadata": {},
     "output_type": "display_data"
    }
   ],
   "source": [
    "browse_history(solver.history, **draw_specs)"
   ]
  },
  {
   "cell_type": "code",
   "execution_count": 42,
   "metadata": {},
   "outputs": [
    {
     "name": "stderr",
     "output_type": "stream",
     "text": [
      "/home/guillaume/miniconda3/envs/tyssue/lib/python3.7/site-packages/tyssue-0.7.0-py3.7-linux-x86_64.egg/tyssue/geometry/bulk_geometry.py:106: RuntimeWarning: divide by zero encountered in true_divide\n",
      "  weighted_pos.values / eptm.face_df[\"perimeter\"].values[:, np.newaxis]\n",
      "/home/guillaume/miniconda3/envs/tyssue/lib/python3.7/site-packages/tyssue-0.7.0-py3.7-linux-x86_64.egg/tyssue/geometry/bulk_geometry.py:106: RuntimeWarning: invalid value encountered in true_divide\n",
      "  weighted_pos.values / eptm.face_df[\"perimeter\"].values[:, np.newaxis]\n"
     ]
    },
    {
     "data": {
      "text/plain": [
       "      fun: nan\n",
       " hess_inv: <4164x4164 LbfgsInvHessProduct with dtype=float64>\n",
       "      jac: array([ 2.71583968e+195, -1.47734766e+195, -9.78516269e+194, ...,\n",
       "        1.45742573e+195, -4.04651409e+194,  4.71696539e+194])\n",
       "  message: b'ABNORMAL_TERMINATION_IN_LNSRCH'\n",
       "     nfev: 21\n",
       "      nit: 0\n",
       "   status: 2\n",
       "  success: False\n",
       "        x: array([-1.03922077, -1.90419839, -1.96047451, ..., -4.32001538,\n",
       "       -1.41726674, -1.75277538])"
      ]
     },
     "execution_count": 42,
     "metadata": {},
     "output_type": "execute_result"
    }
   ],
   "source": [
    "QSSolver().find_energy_min(eptm, geom, model)"
   ]
  },
  {
   "cell_type": "code",
   "execution_count": null,
   "metadata": {},
   "outputs": [],
   "source": []
  }
 ],
 "metadata": {
  "kernelspec": {
   "display_name": "Python 3",
   "language": "python",
   "name": "python3"
  },
  "language_info": {
   "codemirror_mode": {
    "name": "ipython",
    "version": 3
   },
   "file_extension": ".py",
   "mimetype": "text/x-python",
   "name": "python",
   "nbconvert_exporter": "python",
   "pygments_lexer": "ipython3",
   "version": "3.7.5"
  }
 },
 "nbformat": 4,
 "nbformat_minor": 2
}
