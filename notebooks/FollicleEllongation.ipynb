{
 "cells": [
  {
   "cell_type": "code",
   "execution_count": 1,
   "metadata": {},
   "outputs": [],
   "source": [
    "from datetime import datetime\n",
    "\n",
    "import numpy as np\n",
    "import pandas as pd\n",
    "import matplotlib.pyplot as plt\n",
    "%matplotlib inline\n",
    "\n",
    "import ipyvolume as ipv\n",
    "from ipywidgets import FloatProgress\n",
    "from IPython.display import display, Image\n",
    "\n",
    "from tyssue import HistoryHdf5, EventManager\n",
    "\n",
    "from tyssue.draw import sheet_view, browse_history\n",
    "from tyssue.geometry.bulk_geometry import ClosedMonolayerGeometry as geom\n",
    "from tyssue.io import hdf5\n",
    "from tyssue.dynamics import model_factory, effectors\n",
    "from tyssue.generation.shapes import spherical_monolayer\n",
    "\n",
    "from tyssue.behaviors import EventManager\n",
    "from tyssue.behaviors import increase, decrease, reconnect\n",
    "from tyssue.solvers.viscous import EulerSolver\n",
    "from tyssue.utils.decorators import face_lookup\n",
    "\n",
    "\n",
    "from tyssue.draw import highlight_faces, create_gif, highlight_cells\n",
    "from tyssue.solvers.quasistatic import QSSolver\n",
    "\n",
    "\n",
    "from tyssue import HistoryHdf5\n",
    "\n",
    "\n",
    "\n",
    "from pathlib import Path\n",
    "\n",
    "from tyssue.utils.decorators import cell_lookup\n",
    "from tyssue.topology.monolayer_topology import cell_division\n",
    "\n",
    "from tyssue.dynamics import units\n",
    "from tyssue.dynamics.sheet_gradients import area_grad\n",
    "\n",
    "from tyssue.utils import to_nd\n"
   ]
  },
  {
   "cell_type": "code",
   "execution_count": 2,
   "metadata": {},
   "outputs": [],
   "source": [
    "import logging\n",
    "logger = logging.getLogger(\"tyssue\")\n",
    "logger.setLevel(\"DEBUG\")\n",
    "handled = False\n",
    "if not handled:\n",
    "    hand = logging.FileHandler(\"follicle.log\")\n",
    "    hand.setLevel(\"INFO\")\n",
    "    logger.addHandler(hand)\n",
    "    handled = True\n"
   ]
  },
  {
   "cell_type": "markdown",
   "metadata": {},
   "source": [
    "Reference: https://elifesciences.org/articles/32943\n",
    "\n",
    "\n",
    "It is conveninent to consider that cells have an average volume of 1\n",
    "\n",
    "\n",
    "| stade  | nombe de cellules | volume interne (μm3) |\n",
    "| ------ | --------- | ---------- |\n",
    "| 3 | 120 | 181008 |\n",
    "| 4 | 200 | 670400 |\n",
    "| 5 | 400 | 3352000 | \n",
    "| 6 | 700 | 12318600 | "
   ]
  },
  {
   "cell_type": "markdown",
   "metadata": {},
   "source": [
    "## Experimental data"
   ]
  },
  {
   "cell_type": "code",
   "execution_count": 3,
   "metadata": {},
   "outputs": [
    {
     "data": {
      "text/html": [
       "<div>\n",
       "<style scoped>\n",
       "    .dataframe tbody tr th:only-of-type {\n",
       "        vertical-align: middle;\n",
       "    }\n",
       "\n",
       "    .dataframe tbody tr th {\n",
       "        vertical-align: top;\n",
       "    }\n",
       "\n",
       "    .dataframe thead th {\n",
       "        text-align: right;\n",
       "    }\n",
       "</style>\n",
       "<table border=\"1\" class=\"dataframe\">\n",
       "  <thead>\n",
       "    <tr style=\"text-align: right;\">\n",
       "      <th></th>\n",
       "      <th>Nc</th>\n",
       "      <th>lumen_vol</th>\n",
       "    </tr>\n",
       "    <tr>\n",
       "      <th>stage</th>\n",
       "      <th></th>\n",
       "      <th></th>\n",
       "    </tr>\n",
       "  </thead>\n",
       "  <tbody>\n",
       "    <tr>\n",
       "      <th>3</th>\n",
       "      <td>120</td>\n",
       "      <td>181000</td>\n",
       "    </tr>\n",
       "    <tr>\n",
       "      <th>4</th>\n",
       "      <td>200</td>\n",
       "      <td>670400</td>\n",
       "    </tr>\n",
       "    <tr>\n",
       "      <th>5</th>\n",
       "      <td>400</td>\n",
       "      <td>3352000</td>\n",
       "    </tr>\n",
       "    <tr>\n",
       "      <th>6</th>\n",
       "      <td>700</td>\n",
       "      <td>12318600</td>\n",
       "    </tr>\n",
       "  </tbody>\n",
       "</table>\n",
       "</div>"
      ],
      "text/plain": [
       "        Nc  lumen_vol\n",
       "stage                \n",
       "3      120     181000\n",
       "4      200     670400\n",
       "5      400    3352000\n",
       "6      700   12318600"
      ]
     },
     "execution_count": 3,
     "metadata": {},
     "output_type": "execute_result"
    }
   ],
   "source": [
    "growth = pd.DataFrame(\n",
    "    data=[[120, 181000], [200, 670400], [400, 3352000], [700, 12318600]],\n",
    "    index=pd.Index([3, 4, 5, 6], name='stage'),\n",
    "    columns=['Nc', 'lumen_vol']\n",
    ")\n",
    "growth"
   ]
  },
  {
   "cell_type": "markdown",
   "metadata": {},
   "source": [
    "$$\n",
    "\\ln(V_\\mathrm{lum})(t) = a + k_V t\\\\\n",
    "V_\\mathrm{lum}(t) = V_0 e^{k_V t}\n",
    "$$\n",
    "\n"
   ]
  },
  {
   "cell_type": "code",
   "execution_count": 4,
   "metadata": {},
   "outputs": [
    {
     "data": {
      "image/png": "[encoded data removed]",
      "text/plain": [
       "<Figure size 432x288 with 2 Axes>"
      ]
     },
     "metadata": {
      "needs_background": "light"
     },
     "output_type": "display_data"
    }
   ],
   "source": [
    "fig, (ax_v, ax_c) = plt.subplots(2, sharex=True)\n",
    "\n",
    "ax_v.plot(growth.lumen_vol, '-o')\n",
    "ax_v.set_yscale('log')\n",
    "ax_v.set_ylabel('Lumen volume (µm)')\n",
    "\n",
    "ax_c.plot(growth.Nc, '-o')\n",
    "ax_c.set_yscale('log')\n",
    "ax_c.set_ylabel('Cell number')\n",
    "_ = ax_c.set_xlabel(\"stage\")\n"
   ]
  },
  {
   "cell_type": "code",
   "execution_count": 5,
   "metadata": {},
   "outputs": [
    {
     "name": "stdout",
     "output_type": "stream",
     "text": [
      "Lumen volume growth rate: 1.43\n",
      "Division rate: 0.60\n"
     ]
    }
   ],
   "source": [
    "kV, lnV0 = np.polyfit(growth.index, np.log(growth.lumen_vol), 1)\n",
    "\n",
    "print(f\"Lumen volume growth rate: {kV:.2f}\")\n",
    "\n",
    "kD, lnc0 = np.polyfit(growth.index, np.log(growth.Nc), 1)\n",
    "\n",
    "print(f\"Division rate: {kD:.2f}\")\n"
   ]
  },
  {
   "cell_type": "markdown",
   "metadata": {},
   "source": [
    "## Follicle monolayer creation\n"
   ]
  },
  {
   "cell_type": "code",
   "execution_count": 6,
   "metadata": {},
   "outputs": [],
   "source": [
    "# Number of cells\n",
    "Nc = 200"
   ]
  },
  {
   "cell_type": "code",
   "execution_count": 11,
   "metadata": {},
   "outputs": [
    {
     "name": "stdout",
     "output_type": "stream",
     "text": [
      "Follicle has 208 cells\n"
     ]
    }
   ],
   "source": [
    "follicle = spherical_monolayer(9., 12., Nc, apical='in')\n",
    "follicle.settings[\"lumen_side\"] = \"apical\"\n",
    "\n",
    "geom.update_all(follicle)\n",
    "geom.scale(follicle, follicle.cell_df.vol.mean()**(-1/3), list(\"xyz\"))\n",
    "geom.update_all(follicle)\n",
    "\n",
    "\n",
    "for df in follicle.datasets.values():\n",
    "    if np.nan in df:\n",
    "        print(f\"nan values in {df.index.name}\")\n",
    "    df.dropna(axis=1, how='any', inplace=True)\n",
    "\n",
    "print(f\"Follicle has {follicle.Nc} cells\")"
   ]
  },
  {
   "cell_type": "code",
   "execution_count": 12,
   "metadata": {},
   "outputs": [
    {
     "name": "stdout",
     "output_type": "stream",
     "text": [
      "{'lumen_side': 'apical', 'lumen_vol': 154.13740035666262}\n"
     ]
    }
   ],
   "source": [
    "print(follicle.settings)"
   ]
  },
  {
   "cell_type": "code",
   "execution_count": 13,
   "metadata": {},
   "outputs": [],
   "source": [
    "draw_specs = {\n",
    "    'edge': {\n",
    "        'visible': False,\n",
    "    },\n",
    "    'face': {\n",
    "        'visible': True,\n",
    "        'color': lambda sheet: sheet.face_df['area']\n",
    "    },\n",
    "}\n"
   ]
  },
  {
   "cell_type": "code",
   "execution_count": 14,
   "metadata": {},
   "outputs": [
    {
     "data": {
      "application/vnd.jupyter.widget-view+json": {
       "model_id": "ab6b3885d89c420780813e977c8c54d6",
       "version_major": 2,
       "version_minor": 0
      },
      "text/plain": [
       "Figure(camera=PerspectiveCamera(fov=45.0, position=(0.0, 0.0, 2.0), projectionMatrix=(1.0, 0.0, 0.0, 0.0, 0.0,…"
      ]
     },
     "metadata": {},
     "output_type": "display_data"
    }
   ],
   "source": [
    "ipv.clear()\n",
    "follicle.face_df['visible'] = (follicle.face_df['y'] > 0) | (follicle.face_df['x'] > 0)\n",
    "fig, mesh = sheet_view(follicle, mode=\"3D\", **draw_specs)\n",
    "fig"
   ]
  },
  {
   "cell_type": "code",
   "execution_count": 15,
   "metadata": {},
   "outputs": [],
   "source": [
    "bck0 = follicle.copy()"
   ]
  },
  {
   "cell_type": "markdown",
   "metadata": {},
   "source": [
    "## Mechanical model\n",
    "\n",
    "\n",
    "By analogy with 2D Manning model (by a suggestion she did during a communication, I assume this will be published some time) we can write the basic potiential with\n",
    "\n",
    "$$\n",
    "E = \\frac{K_\\ell}{2}(V_\\ell - V_\\ell^0)^2 + \\sum_c \\frac{K_v}{2}(V_c - V_c^0)^2 + \\frac{K_A}{2}(A_c - A_c^0)^2\n",
    "$$\n",
    "\n",
    "By setting $V_c^0 = 1$ and $K_c^0 = 1$, we rewrite this:\n",
    "\n",
    "$$\n",
    "E = \\frac{K_\\ell}{2}(V_\\ell - V_\\ell^0)^2 + \\sum_c \\frac{1}{2}(V_c - 1)^2 + \\frac{K_A}{2}(A_c - s^0)^2\n",
    "$$\n",
    "\n",
    "Here $s^0$ is the form factor (as in 2D)\n",
    "\n",
    "For a sphere, the ratio $A / V^{2/3}$ is equal to $(36\\pi)^{1/3} \\approx 4.84$\n",
    "\n",
    "For a [truncated octahedron](https://en.wikipedia.org/wiki/Truncated_octahedron) (regular cells in bulk), it's 5.31 and 8.14 for a honeycomb (cuboidal cells)."
   ]
  },
  {
   "cell_type": "code",
   "execution_count": 16,
   "metadata": {},
   "outputs": [
    {
     "name": "stdout",
     "output_type": "stream",
     "text": [
      "4.835975862049408 5.314739699971957 8.144257693571506\n"
     ]
    }
   ],
   "source": [
    "sphere = (36*np.pi)**(1/3)\n",
    "truncocta = (6 + 12 * 3**0.5) / (4 * 2**(1/3))\n",
    "honeycomb = (3*3**0.5 + 6) / ((3/2) * 3**0.5)**(1/3)\n",
    "\n",
    "\n",
    "print(sphere, truncocta, honeycomb)"
   ]
  },
  {
   "cell_type": "code",
   "execution_count": 17,
   "metadata": {},
   "outputs": [],
   "source": [
    "follicle = bck0.copy()\n",
    "\n",
    "model = model_factory([\n",
    "    effectors.LumenVolumeElasticity,\n",
    "    effectors.CellAreaElasticity,\n",
    "    effectors.CellVolumeElasticity,\n",
    "    ])\n",
    "\n",
    "\n",
    "\n",
    "specs = {\n",
    "    'cell': {\n",
    "        'is_alive': 1,\n",
    "        'vol_elasticity': 1.0,\n",
    "        'prefered_vol': 1.0, # so that we have some variability\n",
    "        'area_elasticity': 0.1,\n",
    "        'prefered_area': 4.6, # form factor\n",
    "    },\n",
    "    'face': {\n",
    "        'is_alive': 1,\n",
    "    },\n",
    "    'settings': {\n",
    "        'lumen_vol_elasticity': 100.,\n",
    "        'lumen_prefered_vol': 200,\n",
    "    }\n",
    "}\n",
    "\n",
    "follicle.update_specs(specs, reset=True)\n",
    "\n"
   ]
  },
  {
   "cell_type": "code",
   "execution_count": 18,
   "metadata": {},
   "outputs": [
    {
     "data": {
      "text/plain": [
       "{'lumen_side': 'apical',\n",
       " 'lumen_vol': 154.13740035666262,\n",
       " 'lumen_vol_elasticity': 100.0,\n",
       " 'lumen_prefered_vol': 200}"
      ]
     },
     "execution_count": 18,
     "metadata": {},
     "output_type": "execute_result"
    }
   ],
   "source": [
    "follicle.settings"
   ]
  },
  {
   "cell_type": "code",
   "execution_count": 19,
   "metadata": {},
   "outputs": [
    {
     "name": "stdout",
     "output_type": "stream",
     "text": [
      "b'CONVERGENCE: REL_REDUCTION_OF_F_<=_FACTR*EPSMCH'\n"
     ]
    }
   ],
   "source": [
    "solver = QSSolver()\n",
    "res = solver.find_energy_min(follicle, geom, model)\n",
    "print(res.message)\n",
    "\n"
   ]
  },
  {
   "cell_type": "code",
   "execution_count": 20,
   "metadata": {},
   "outputs": [
    {
     "data": {
      "application/vnd.jupyter.widget-view+json": {
       "model_id": "22f6ab1070c64b8288ece225a1aa6966",
       "version_major": 2,
       "version_minor": 0
      },
      "text/plain": [
       "Figure(camera=PerspectiveCamera(fov=45.0, position=(0.0, 0.0, 2.0), projectionMatrix=(1.0, 0.0, 0.0, 0.0, 0.0,…"
      ]
     },
     "metadata": {},
     "output_type": "display_data"
    }
   ],
   "source": [
    "ipv.clear()\n",
    "follicle.face_df['visible'] = (\n",
    "    (\n",
    "        (follicle.face_df['y'] > 0)\n",
    "        | (follicle.face_df['x'] > 0)\n",
    "    )\n",
    "    #& (follicle.face_df['segment'] == \"apical\")\n",
    ")\n",
    "# reset full visibility\n",
    "# follicle.face_df['visible'] = True\n",
    "fig, mesh = sheet_view(follicle, mode=\"3D\", **draw_specs)\n",
    "fig"
   ]
  },
  {
   "cell_type": "code",
   "execution_count": 21,
   "metadata": {},
   "outputs": [
    {
     "name": "stdout",
     "output_type": "stream",
     "text": [
      "rho :  1.23\n",
      "mean apical radius:  3.653\n"
     ]
    }
   ],
   "source": [
    "r_a = np.linalg.norm(\n",
    "    follicle.vert_df.loc[follicle.apical_verts, ['x', 'y', 'z']],\n",
    "    axis=1\n",
    ")\n",
    "r_b = np.linalg.norm(\n",
    "    follicle.vert_df.loc[follicle.basal_verts, ['x', 'y', 'z']],\n",
    "    axis=1\n",
    ")\n",
    "rho = r_b.mean()/r_a.mean()\n",
    "print(f\"rho : {rho: .2f}\")\n",
    "print(f\"mean apical radius: {r_a.mean(): .3f}\")"
   ]
  },
  {
   "cell_type": "markdown",
   "metadata": {},
   "source": [
    "## Cell area as a weighted sum of face areas\n",
    "\n",
    "\n",
    "For now the model is isotropic, so cells will tend to adopt the most spherical shape possible. In order to have polarisation, we can introduce a factor (or weight) on each face of the cell to modulate its effective contribution to the total area, the total area $A_c$ is replaced by the weighted area $A'_c$:\n",
    "\n",
    "$$\n",
    "A_c = \\sum_f A_f \\quad \\mbox{becomes}\\\\\n",
    "A'_c = \\frac{n_f}{\\sum_f w_f}\\sum_f w_fA_f\n",
    "$$\n",
    "\n",
    "If all the weights are equal, the weighted area is equal to the normal area.\n",
    "\n",
    "We need to adapt our model definition to take this into account:\n",
    "\n",
    "\n",
    "\n"
   ]
  },
  {
   "cell_type": "code",
   "execution_count": 22,
   "metadata": {},
   "outputs": [],
   "source": [
    "\n",
    "\n",
    "class WAMonolayerGeometry(geom):\n",
    "\n",
    "    @classmethod\n",
    "    def update_all(cls, eptm):\n",
    "        \n",
    "        super().update_all(eptm)\n",
    "        cls.normalize_face_weights(eptm)\n",
    "        cls.update_weithed_area(eptm)\n",
    "        \n",
    "    @staticmethod\n",
    "    def normalize_face_weights(eptm):\n",
    "        \n",
    "        eptm.face_df[\"cell\"] = eptm.edge_df.groupby(\"face\")['cell'].first()\n",
    "        sum_weights = eptm.face_df.groupby(\"cell\")[\"weight\"].sum()\n",
    "        weight_norm = (eptm.cell_df['num_faces'] / sum_weights).loc[eptm.face_df[\"cell\"].to_numpy()]\n",
    "        eptm.face_df[\"weight\"] *= weight_norm.to_numpy()\n",
    "        \n",
    "    @staticmethod\n",
    "    def update_weithed_area(eptm):\n",
    "        eptm.edge_df[\"face_weight\"] = eptm.upcast_face(eptm.face_df['weight'])\n",
    "        eptm.cell_df[\"weighted_area\"] = eptm.sum_cell(eptm.edge_df.eval(\"sub_area * face_weight\"))\n",
    "\n",
    "\n",
    "class WeightedCellAreaElasticity(effectors.AbstractEffector):\n",
    "    \n",
    "    dimensions = units.area_elasticity\n",
    "    magnitude = \"area_elasticity\"\n",
    "    label = \"Weighted Area elasticity\"\n",
    "    element = \"cell\"\n",
    "    specs = {\n",
    "        \"cell\": {\n",
    "            \"is_alive\": 1,\n",
    "            \"weighted_area\": 1.0,\n",
    "            \"area_elasticity\": 1.0,\n",
    "            \"prefered_area\": 1.0,\n",
    "        },\n",
    "        \"face\": {\n",
    "            \"area\": 1.0,\n",
    "            \"weight\": 1.0,\n",
    "        }\n",
    "    }\n",
    "    spatial_ref = \"prefered_area\", units.area\n",
    "\n",
    "    @staticmethod\n",
    "    def get_nrj_norm(specs):\n",
    "        return specs[\"cell\"][\"area_elasticity\"] * specs[\"cell\"][\"prefered_area\"] ** 2\n",
    "\n",
    "    @staticmethod\n",
    "    def energy(eptm):\n",
    "        \n",
    "        return effectors.elastic_energy(\n",
    "            eptm.cell_df,\n",
    "            \"weighted_area\", \n",
    "            \"area_elasticity * is_alive\", \"prefered_area\")\n",
    "\n",
    "    @staticmethod\n",
    "    def gradient(eptm):\n",
    "        ka_a0_ = effectors.elastic_force(\n",
    "            eptm.cell_df, \"weighted_area\", \"area_elasticity * is_alive\", \"prefered_area\"\n",
    "        )\n",
    "        face_weight = eptm.edge_df[\"face_weight\"].to_numpy()\n",
    "        \n",
    "        ka_a0 = to_nd(eptm.upcast_cell(ka_a0_) * face_weight, 3)\n",
    "\n",
    "        grad_a_srce, grad_a_trgt = area_grad(eptm)\n",
    "\n",
    "        \n",
    "        grad_a_srce = ka_a0 * grad_a_srce\n",
    "        grad_a_trgt = ka_a0 * grad_a_trgt\n",
    "        grad_a_srce.columns = [\"g\" + u for u in eptm.coords]\n",
    "        grad_a_trgt.columns = [\"g\" + u for u in eptm.coords]\n",
    "\n",
    "        return grad_a_srce, grad_a_trgt\n",
    "    \n"
   ]
  },
  {
   "cell_type": "code",
   "execution_count": 23,
   "metadata": {},
   "outputs": [],
   "source": [
    "wgeom = WAMonolayerGeometry\n",
    "\n",
    "follicle = bck0.copy()\n",
    "\n",
    "model = model_factory([\n",
    "    effectors.LumenVolumeElasticity,\n",
    "    WeightedCellAreaElasticity,\n",
    "    effectors.CellVolumeElasticity,\n",
    "    ])\n",
    "\n",
    "\n",
    "specs = {\n",
    "    'cell': {\n",
    "        'is_alive': 1,\n",
    "        'vol_elasticity': 1.0,\n",
    "        'prefered_vol': 1.0,\n",
    "        \"weighted_area\": 1.0,\n",
    "        'area_elasticity': 0.01,\n",
    "        'prefered_area': 4.0, # form factor\n",
    "    },\n",
    "    'face': {\n",
    "        'weight': 1.0,\n",
    "        'is_alive': 1,\n",
    "    },\n",
    "    'settings': {\n",
    "        'lumen_vol_elasticity': 1.e-3,\n",
    "        'lumen_prefered_vol': 160,\n",
    "    }\n",
    "}\n",
    "\n",
    "follicle.update_specs(specs, reset=True)\n",
    "\n",
    "\n",
    "\n",
    "#follicle.face_df['surface_tension'] = 10.0\n",
    "follicle.face_df[\"weight\"] = 1.0\n",
    "follicle.face_df.loc[follicle.apical_faces, 'weight'] = 1.0\n",
    "wgeom.update_all(follicle)"
   ]
  },
  {
   "cell_type": "code",
   "execution_count": 24,
   "metadata": {
    "scrolled": false
   },
   "outputs": [
    {
     "name": "stdout",
     "output_type": "stream",
     "text": [
      "b'CONVERGENCE: REL_REDUCTION_OF_F_<=_FACTR*EPSMCH'\n"
     ]
    },
    {
     "data": {
      "application/vnd.jupyter.widget-view+json": {
       "model_id": "44c2357b318b496b8904ac3e2ac96f95",
       "version_major": 2,
       "version_minor": 0
      },
      "text/plain": [
       "Figure(camera=PerspectiveCamera(fov=45.0, position=(0.0, 0.0, 2.0), projectionMatrix=(1.0, 0.0, 0.0, 0.0, 0.0,…"
      ]
     },
     "metadata": {},
     "output_type": "display_data"
    }
   ],
   "source": [
    "solver = QSSolver()\n",
    "res = solver.find_energy_min(follicle, wgeom, model)\n",
    "print(res.message)\n",
    "\n",
    "\n",
    "draw_specs[\"face\"][\"color\"] = follicle.face_df['area']\n",
    "\n",
    "ipv.clear()\n",
    "follicle.face_df['visible'] = (\n",
    "    (\n",
    "        (follicle.face_df['y'] > 0)\n",
    "        | (follicle.face_df['x'] > 0)\n",
    "    )\n",
    "    #& (follicle.face_df['segment'] == \"apical\")\n",
    ")\n",
    "# reset full visibility\n",
    "# follicle.face_df['visible'] = True\n",
    "fig, mesh = sheet_view(follicle, mode=\"3D\", **draw_specs)\n",
    "fig"
   ]
  },
  {
   "cell_type": "code",
   "execution_count": 25,
   "metadata": {},
   "outputs": [
    {
     "name": "stdout",
     "output_type": "stream",
     "text": [
      "rho :  1.30\n"
     ]
    }
   ],
   "source": [
    "r_a = np.linalg.norm(\n",
    "    follicle.vert_df.loc[follicle.apical_verts, ['x', 'y', 'z']],\n",
    "    axis=1\n",
    ")\n",
    "r_b = np.linalg.norm(\n",
    "    follicle.vert_df.loc[follicle.basal_verts, ['x', 'y', 'z']],\n",
    "    axis=1\n",
    ")\n",
    "rho = r_b.mean()/r_a.mean()\n",
    "print(f\"rho : {rho: .2f}\")"
   ]
  },
  {
   "cell_type": "code",
   "execution_count": 26,
   "metadata": {},
   "outputs": [
    {
     "data": {
      "text/plain": [
       "5.593348654312971"
      ]
     },
     "execution_count": 26,
     "metadata": {},
     "output_type": "execute_result"
    }
   ],
   "source": [
    "follicle.cell_df.area.mean()"
   ]
  },
  {
   "cell_type": "code",
   "execution_count": 27,
   "metadata": {},
   "outputs": [
    {
     "data": {
      "text/plain": [
       "0.93626751073455"
      ]
     },
     "execution_count": 27,
     "metadata": {},
     "output_type": "execute_result"
    }
   ],
   "source": [
    "follicle.cell_df.vol.mean()"
   ]
  },
  {
   "cell_type": "markdown",
   "metadata": {},
   "source": [
    "\n",
    "## follicle.settings"
   ]
  },
  {
   "cell_type": "code",
   "execution_count": 28,
   "metadata": {},
   "outputs": [],
   "source": [
    "\n",
    "def contractility_grad(follicle, cell, amp, span, coords=['x', 'y', 'z'], elem=\"face\"):\n",
    "    \n",
    "    cell_pos = follicle.cell_df.loc[cell, coords].to_numpy()\n",
    "    distance = np.linalg.norm(\n",
    "        follicle.datasets[elem][coords] - cell_pos[None, :],\n",
    "        axis=1)\n",
    "    \n",
    "    grad = amp * np.exp(-distance / span)\n",
    "    return grad# - grad.min()\n"
   ]
  },
  {
   "cell_type": "code",
   "execution_count": 29,
   "metadata": {},
   "outputs": [],
   "source": [
    "bck1 = follicle.copy()"
   ]
  },
  {
   "cell_type": "markdown",
   "metadata": {},
   "source": [
    "## Static contractility gradient"
   ]
  },
  {
   "cell_type": "code",
   "execution_count": 30,
   "metadata": {},
   "outputs": [],
   "source": [
    "follicle = bck1.copy()\n",
    "\n",
    "anterior_cell = follicle.cell_df['z'].idxmin() \n",
    "posterior_cell = follicle.cell_df['z'].idxmax() \n",
    "anterior_faces = follicle.edge_df.query(f'cell == {anterior_cell}')[\"face\"].unique()\n",
    "posterior_faces = follicle.edge_df.query(f'cell == {posterior_cell}')[\"face\"].unique()\n",
    "\n",
    "face_gradient = (\n",
    "    contractility_grad(follicle, anterior_cell, amp=6.0, span=1)\n",
    "    + contractility_grad(follicle, posterior_cell, amp=6.0, span=1)\n",
    ")\n",
    "\n",
    "\n",
    "follicle.face_df[\"contractile_grad\"] = face_gradient\n",
    "\n",
    "follicle.face_df.loc[anterior_faces, \"contractile_grad\"] = 1\n",
    "follicle.face_df.loc[posterior_faces, \"contractile_grad\"] = 1\n",
    "\n",
    "follicle.face_df[\"weight\"] = 1.0\n",
    "follicle.face_df.loc[follicle.apical_faces, \"weight\"] += follicle.face_df.loc[\n",
    "    follicle.apical_faces, \"contractile_grad\"]\n",
    "wgeom.update_all(follicle)\n"
   ]
  },
  {
   "cell_type": "code",
   "execution_count": 31,
   "metadata": {},
   "outputs": [
    {
     "data": {
      "text/plain": [
       "[<matplotlib.lines.Line2D at 0x7f6b3d293fa0>]"
      ]
     },
     "execution_count": 31,
     "metadata": {},
     "output_type": "execute_result"
    },
    {
     "data": {
      "image/png": "[encoded data removed]",
      "text/plain": [
       "<Figure size 432x288 with 1 Axes>"
      ]
     },
     "metadata": {
      "needs_background": "light"
     },
     "output_type": "display_data"
    }
   ],
   "source": [
    "fig, ax = plt.subplots()\n",
    "ax.plot(follicle.face_df.loc[follicle.apical_faces, \"z\"],\n",
    "        follicle.face_df.loc[follicle.apical_faces, \"weight\"], 'o')\n",
    "ax.plot(follicle.face_df.loc[follicle.basal_faces, \"z\"],\n",
    "        follicle.face_df.loc[follicle.basal_faces, \"weight\"], 'o')"
   ]
  },
  {
   "cell_type": "code",
   "execution_count": 32,
   "metadata": {},
   "outputs": [],
   "source": [
    "draw_specs = {\n",
    "    'edge': {\n",
    "        'visible': False,\n",
    "    },\n",
    "    'face': {\n",
    "        'visible': True,\n",
    "        'color': lambda sheet: sheet.face_df['area']\n",
    "    },\n",
    "}\n"
   ]
  },
  {
   "cell_type": "code",
   "execution_count": 33,
   "metadata": {
    "scrolled": false
   },
   "outputs": [
    {
     "data": {
      "application/vnd.jupyter.widget-view+json": {
       "model_id": "c02808d4f5a743609d828a48c8336785",
       "version_major": 2,
       "version_minor": 0
      },
      "text/plain": [
       "Figure(camera=PerspectiveCamera(fov=45.0, position=(0.0, 0.0, 2.0), projectionMatrix=(1.0, 0.0, 0.0, 0.0, 0.0,…"
      ]
     },
     "metadata": {},
     "output_type": "display_data"
    }
   ],
   "source": [
    "\n",
    "ipv.clear()\n",
    "follicle.face_df['visible'] = True\n",
    "follicle.face_df.loc[follicle.basal_faces, 'visible'] = False\n",
    "\n",
    "fig, mesh = sheet_view(follicle, mode=\"3D\", **draw_specs)\n",
    "fig"
   ]
  },
  {
   "cell_type": "code",
   "execution_count": 34,
   "metadata": {},
   "outputs": [
    {
     "name": "stdout",
     "output_type": "stream",
     "text": [
      "b'CONVERGENCE: REL_REDUCTION_OF_F_<=_FACTR*EPSMCH'\n"
     ]
    }
   ],
   "source": [
    "quasistatic_solve = True\n",
    "\n",
    "if quasistatic_solve:\n",
    "    solver = QSSolver()\n",
    "    res = solver.find_energy_min(follicle, wgeom, model)\n",
    "    print(res.message)\n"
   ]
  },
  {
   "cell_type": "code",
   "execution_count": null,
   "metadata": {},
   "outputs": [],
   "source": []
  },
  {
   "cell_type": "code",
   "execution_count": 35,
   "metadata": {
    "scrolled": false
   },
   "outputs": [
    {
     "data": {
      "application/vnd.jupyter.widget-view+json": {
       "model_id": "026501eedfa54615bb9e0603152c4b8e",
       "version_major": 2,
       "version_minor": 0
      },
      "text/plain": [
       "Figure(camera=PerspectiveCamera(fov=45.0, position=(0.0, 0.0, 2.0), projectionMatrix=(1.0, 0.0, 0.0, 0.0, 0.0,…"
      ]
     },
     "metadata": {},
     "output_type": "display_data"
    }
   ],
   "source": [
    "\n",
    "ipv.clear()\n",
    "follicle.face_df['visible'] = False\n",
    "follicle.face_df.loc[follicle.apical_faces, 'visible'] = True\n",
    "\n",
    "fig, mesh = sheet_view(follicle, mode=\"3D\", **draw_specs)\n",
    "fig"
   ]
  },
  {
   "cell_type": "code",
   "execution_count": 36,
   "metadata": {},
   "outputs": [],
   "source": [
    "import ipywidgets as widgets\n",
    "from IPython.display import display\n",
    "\n",
    "class MonolayerView(widgets.HBox):\n",
    "    \n",
    "    def __init__(self, eptm):\n",
    "        \n",
    "        plt.ioff()\n",
    "        ipv.clear()\n",
    "        self.fig3D, self.mesh = sheet_view(eptm, mode=\"3D\", **draw_specs);\n",
    "        self.graph_widget = widgets.Output()\n",
    "        with self.graph_widget:\n",
    "            \n",
    "            self.fig2D, (self.ax0, self.ax1) = plt.subplots(2, 1, sharey=True, sharex=True)\n",
    "            apical = eptm.get_sub_sheet('apical')\n",
    "            apical.reset_index(),\n",
    "            apical.reset_topo(),\n",
    "            apical.face_df['visisble'] = True            \n",
    "            _ = sheet_view(\n",
    "                apical,\n",
    "                mode=\"2D\", \n",
    "                coords=[\"x\", \"y\"],\n",
    "                ax=self.ax0,\n",
    "                edge={\"visible\": False},\n",
    "                face={\n",
    "                    \"visible\": True,\n",
    "                    \"color\": apical.face_df.area\n",
    "                }\n",
    "            )\n",
    "            basal = eptm.get_sub_sheet('basal')\n",
    "            basal.face_df['visible'] = True            \n",
    "            basal.reset_index(),\n",
    "            basal.reset_topo(),\n",
    "            _ = sheet_view(\n",
    "                basal,\n",
    "                mode=\"2D\",\n",
    "                coords=[\"x\", \"y\"],\n",
    "                ax=self.ax1,\n",
    "                edge={\"visible\": False},\n",
    "                face={\n",
    "                    \"visible\": True,\n",
    "                    \"color\": basal.face_df.area\n",
    "                }\n",
    "            )\n",
    "            self.ax0.set_title('Apical mesh')\n",
    "            self.ax1.set_title('Basal mesh')\n",
    "            self.fig2D.set_size_inches(5, 8)\n",
    "            plt.close(self.fig2D)\n",
    "            display(self.fig2D)\n",
    "            \n",
    "        super().__init__([self.fig3D, self.graph_widget])\n",
    "        \n",
    "        "
   ]
  },
  {
   "cell_type": "code",
   "execution_count": 38,
   "metadata": {},
   "outputs": [
    {
     "data": {
      "application/vnd.jupyter.widget-view+json": {
       "model_id": "6f61ce3afc404783956989fbdc1c5ffe",
       "version_major": 2,
       "version_minor": 0
      },
      "text/plain": [
       "MonolayerView(children=(Figure(camera=PerspectiveCamera(fov=45.0, position=(0.0, 0.0, 2.0), projectionMatrix=(…"
      ]
     },
     "metadata": {},
     "output_type": "display_data"
    }
   ],
   "source": [
    "MonolayerView(follicle)"
   ]
  },
  {
   "cell_type": "code",
   "execution_count": 39,
   "metadata": {},
   "outputs": [
    {
     "data": {
      "text/plain": [
       "[<matplotlib.lines.Line2D at 0x7f6b853d9250>]"
      ]
     },
     "execution_count": 39,
     "metadata": {},
     "output_type": "execute_result"
    },
    {
     "data": {
      "image/png": "[encoded data removed]",
      "text/plain": [
       "<Figure size 432x288 with 1 Axes>"
      ]
     },
     "metadata": {
      "needs_background": "light"
     },
     "output_type": "display_data"
    }
   ],
   "source": [
    "fig, ax = plt.subplots()\n",
    "\n",
    "ax.plot(follicle.cell_df['z'], follicle.cell_df['vol'], \"o\")\n",
    "ax.plot(follicle.cell_df['z'], follicle.cell_df['prefered_vol'], \"o\")\n"
   ]
  },
  {
   "cell_type": "markdown",
   "metadata": {},
   "source": [
    "## Cell division and dynamic model"
   ]
  },
  {
   "cell_type": "markdown",
   "metadata": {},
   "source": [
    "$$\n",
    "\\ln(V_\\mathrm{lum})(t) = a + k_V t\\\\\n",
    "V_\\mathrm{lum}(t) = V_0 e^{k_V t}\n",
    "$$\n",
    "\n"
   ]
  },
  {
   "cell_type": "code",
   "execution_count": 40,
   "metadata": {},
   "outputs": [],
   "source": [
    "bck1 = follicle"
   ]
  },
  {
   "cell_type": "code",
   "execution_count": 41,
   "metadata": {},
   "outputs": [],
   "source": [
    "def reset_segments(monolayer):\n",
    "    monolayer.get_opposite_faces()\n",
    "    face_normals = monolayer.face_df[monolayer.coords].copy()\n",
    "    \n",
    "    for nu in monolayer.ncoords:\n",
    "        face_normals[nu[1]] = monolayer.sum_face(\n",
    "            monolayer.edge_df[nu])\n",
    "\n",
    "    proj = (\n",
    "        face_normals\n",
    "        * monolayer.face_df[monolayer.coords].to_numpy()\n",
    "    ).sum(axis=1)\n",
    "\n",
    "    monolayer.face_df.loc[proj>0, \"segment\"] = \"basal\"\n",
    "    monolayer.face_df.loc[proj<0, \"segment\"] = \"apical\"\n",
    "    monolayer.face_df.loc[monolayer.face_df.opposite !=-1, \"segment\"] = \"lateral\"\n",
    "    "
   ]
  },
  {
   "cell_type": "code",
   "execution_count": 42,
   "metadata": {},
   "outputs": [],
   "source": [
    "follicle = bck1\n",
    "\n",
    "# We take the time unit as 1/100th of a development stage\n",
    "\n",
    "dt = 5e-2\n",
    "\n",
    "default_division_spec = {\n",
    "    \"cell\": -1,\n",
    "    \"growth_rate\": 0.02,\n",
    "    \"growth_noise\": 0.02,\n",
    "    \"critical_vol\": 1.3,\n",
    "    \"autonomous\": True,\n",
    "}\n",
    "\n",
    "follicle.update_specs(\n",
    "    {'settings':\n",
    "     {\n",
    "        # Critical length to trigger rearangements\n",
    "        \"threshold_length\": 1e-1,  \n",
    "        # Frequency of rearangements\n",
    "        \"p_4\": 1.,\n",
    "        \"p_5+\": 0.1,\n",
    "    },\n",
    "    'vert': {\n",
    "        \"viscosity\": 0.1\n",
    "    },\n",
    "    'edge': {\n",
    "        'is_valid': 1,\n",
    "    }\n",
    "})\n",
    "\n",
    "text_widget = widgets.Output()\n",
    "\n",
    "\n",
    "# This will go in tyssue in the next release\n",
    "@cell_lookup\n",
    "def division(mono, manager, **kwargs):\n",
    "    \"\"\"Cell division happens through cell growth up to a critical volume,\n",
    "    followed by actual division of the cell.\n",
    "    \n",
    "    Parameters\n",
    "    ----------\n",
    "    mono : a `Monolayer` instance\n",
    "    manager : an `EventManager` instance\n",
    "    cell_id : int,\n",
    "      index of the mother cell\n",
    "    growth_rate : float, default 0.1\n",
    "      rate of increase of the prefered volume\n",
    "    critical_vol : float, default 2.\n",
    "      volume at which the cells stops to grow and devides\n",
    "    \"\"\"\n",
    "    division_spec = default_division_spec\n",
    "    division_spec.update(**kwargs)\n",
    "\n",
    "    cell = division_spec[\"cell\"]\n",
    "    Vc = division_spec[\"critical_vol\"] * mono.specs[\"cell\"][\"prefered_vol\"]\n",
    "    text_widget.clear_output(wait=True)\n",
    "\n",
    "    if mono.cell_df.loc[cell, \"vol\"] < Vc:\n",
    "        with text_widget:\n",
    "            print(f\"{manager.clock:.2f}\")\n",
    "\n",
    "        growth_rate = np.random.normal(\n",
    "           loc=division_spec[\"growth_rate\"],\n",
    "           scale= division_spec[\"growth_noise\"]\n",
    "        )\n",
    "        dv = 1 + growth_rate * mono.settings['dt']\n",
    "        da = dv**(1/3)\n",
    "        increase(\n",
    "            mono,\n",
    "            'cell',\n",
    "            cell,\n",
    "            dv,\n",
    "            \"prefered_vol\"\n",
    "        )\n",
    "        manager.append(division, **division_spec)\n",
    "    else:\n",
    "        with text_widget:\n",
    "            print(f'{manager.clock:.2f}: division of cell {cell}')\n",
    "        mono.cell_df.loc[cell, \"prefered_vol\"] = mono.specs[\"cell\"][\"prefered_vol\"]\n",
    "        daughter = cell_division(mono, cell, 'vertical')\n",
    "\n",
    "        if division_spec[\"autonomous\"]:\n",
    "            manager.append(division, **division_spec)\n",
    "            division_spec['cell_id'] = mono.cell_df.loc[daughter, \"id\"]\n",
    "        reset_segments(mono)   \n",
    "            \n",
    "def lumen_growth(mono, manager, **kwargs):\n",
    "\n",
    "    growth_rate = kwargs.get('growth_rate', 0.014)\n",
    "    dt = mono.settings[\"dt\"]\n",
    "    manager.clock += dt\n",
    "    mono.settings['lumen_prefered_vol'] *= 1 + growth_rate*dt\n",
    "    manager.append(lumen_growth, **kwargs)\n",
    "    \n",
    "def check_opposite(mono, manager, **kwargs):\n",
    "    mono.get_opposite_faces()\n",
    "    manager.append(check_opposite, **kwargs)\n",
    "    \n",
    "\n",
    "base_dir = Path(\"../data\")\n",
    "time_stamp = datetime.today().strftime(\"%y-%m-%d-%H-%M-%S\")\n",
    "history_file = Path(f\"hist2D_{time_stamp}.hf5\")\n",
    "\n",
    "\n",
    "follicle.cell_df['id'] = follicle.cell_df.index.copy()\n",
    "\n",
    "# Copy the initial follicle\n",
    "eptm = follicle.copy()\n",
    "\n",
    "eptm.edge_df[['srce', 'trgt']] = eptm.edge_df[['srce', 'trgt']].astype(int)\n",
    "\n",
    "eptm.settings[\"dt\"] = dt\n",
    "\n",
    "manager = EventManager(\"cell\")\n",
    "# Auto solve rearangements\n",
    "manager.append(reconnect)\n",
    "\n",
    "for cell_id in eptm.cell_df['id']:\n",
    "    manager.append(division, cell_id=cell_id)\n",
    "\n",
    "manager.append(lumen_growth, growth_rate=1.4e-2)\n",
    "manager.append(check_opposite)\n",
    "\n",
    "history = HistoryHdf5(\n",
    "    eptm,\n",
    "    save_every=0.1,\n",
    "    dt=dt,\n",
    "    hf5file=base_dir / history_file,\n",
    "    extra_cols={\n",
    "        elem: list(follicle.datasets[elem].columns) for elem in follicle.datasets\n",
    "    },  # record everything\n",
    ")\n",
    "\n",
    "# history = HistoryHdf5(\n",
    "#     eptm,\n",
    "#     save_every=0.1,\n",
    "#     dt=dt,\n",
    "#     hf5file='../data/hist2D_20-11-06-10-41-06.hf5',\n",
    "#     extra_cols={\n",
    "#         elem: list(follicle.datasets[elem].columns) for elem in follicle.datasets\n",
    "#     },  # record everything\n",
    "#     overwrite=True\n",
    "# )\n",
    "\n",
    "\n",
    "solver = EulerSolver(\n",
    "    eptm,\n",
    "    geom,\n",
    "    model,\n",
    "    manager=manager,\n",
    "    history=history,\n",
    "    bounds=(\n",
    "        -eptm.edge_df.length.median(),\n",
    "        eptm.edge_df.length.median(),\n",
    "    ),\n",
    ")\n",
    "\n",
    "manager.update()\n"
   ]
  },
  {
   "cell_type": "markdown",
   "metadata": {},
   "source": [
    "$$\\eta v = \\sum F $$"
   ]
  },
  {
   "cell_type": "code",
   "execution_count": 44,
   "metadata": {},
   "outputs": [
    {
     "name": "stdout",
     "output_type": "stream",
     "text": [
      "Automatic pdb calling has been turned ON\n"
     ]
    }
   ],
   "source": [
    "%pdb"
   ]
  },
  {
   "cell_type": "code",
   "execution_count": 49,
   "metadata": {},
   "outputs": [],
   "source": [
    "solver.eptm = solver.history.retrieve(19.30)"
   ]
  },
  {
   "cell_type": "code",
   "execution_count": 50,
   "metadata": {
    "scrolled": true
   },
   "outputs": [
    {
     "data": {
      "application/vnd.jupyter.widget-view+json": {
       "model_id": "1da7a3bbaafd4139ba7abd07375f4f53",
       "version_major": 2,
       "version_minor": 0
      },
      "text/plain": [
       "Output(outputs=({'output_type': 'stream', 'text': '19.40\\n', 'name': 'stdout'},))"
      ]
     },
     "metadata": {},
     "output_type": "display_data"
    },
    {
     "ename": "ValueError",
     "evalue": "Invalid topology, faces have more than one neighbor: [frozenset({1811, 1812, 1573}), frozenset({1810, 1811, 1269}), frozenset({1811, 1812, 1573}), frozenset({1810, 1811, 1269}), frozenset({1811, 1812, 1573}), frozenset({1811, 1812, 1573}), frozenset({1810, 1811, 1269}), frozenset({1810, 1811, 1269})]",
     "output_type": "error",
     "traceback": [
      "\u001b[0;31m---------------------------------------------------------------------------\u001b[0m",
      "\u001b[0;31mValueError\u001b[0m                                Traceback (most recent call last)",
      "\u001b[0;32m<ipython-input-50-ae0e9a232e15>\u001b[0m in \u001b[0;36m<module>\u001b[0;34m\u001b[0m\n\u001b[1;32m      1\u001b[0m \u001b[0mdisplay\u001b[0m\u001b[0;34m(\u001b[0m\u001b[0mtext_widget\u001b[0m\u001b[0;34m)\u001b[0m\u001b[0;34m\u001b[0m\u001b[0;34m\u001b[0m\u001b[0m\n\u001b[0;32m----> 2\u001b[0;31m \u001b[0msolver\u001b[0m\u001b[0;34m.\u001b[0m\u001b[0msolve\u001b[0m\u001b[0;34m(\u001b[0m\u001b[0;36m120\u001b[0m\u001b[0;34m,\u001b[0m \u001b[0mdt\u001b[0m\u001b[0;34m)\u001b[0m\u001b[0;34m\u001b[0m\u001b[0;34m\u001b[0m\u001b[0m\n\u001b[0m",
      "\u001b[0;32m~/miniconda3/envs/tyssue/lib/python3.8/site-packages/tyssue-0.7.1-py3.8-linux-x86_64.egg/tyssue/solvers/viscous.py\u001b[0m in \u001b[0;36msolve\u001b[0;34m(self, tf, dt, on_topo_change, topo_change_args)\u001b[0m\n\u001b[1;32m    132\u001b[0m             \u001b[0mself\u001b[0m\u001b[0;34m.\u001b[0m\u001b[0mprev_t\u001b[0m \u001b[0;34m=\u001b[0m \u001b[0mt\u001b[0m\u001b[0;34m\u001b[0m\u001b[0;34m\u001b[0m\u001b[0m\n\u001b[1;32m    133\u001b[0m             \u001b[0;32mif\u001b[0m \u001b[0mself\u001b[0m\u001b[0;34m.\u001b[0m\u001b[0mmanager\u001b[0m \u001b[0;32mis\u001b[0m \u001b[0;32mnot\u001b[0m \u001b[0;32mNone\u001b[0m\u001b[0;34m:\u001b[0m\u001b[0;34m\u001b[0m\u001b[0;34m\u001b[0m\u001b[0m\n\u001b[0;32m--> 134\u001b[0;31m                 \u001b[0mself\u001b[0m\u001b[0;34m.\u001b[0m\u001b[0mmanager\u001b[0m\u001b[0;34m.\u001b[0m\u001b[0mexecute\u001b[0m\u001b[0;34m(\u001b[0m\u001b[0mself\u001b[0m\u001b[0;34m.\u001b[0m\u001b[0meptm\u001b[0m\u001b[0;34m)\u001b[0m\u001b[0;34m\u001b[0m\u001b[0;34m\u001b[0m\u001b[0m\n\u001b[0m\u001b[1;32m    135\u001b[0m                 \u001b[0mself\u001b[0m\u001b[0;34m.\u001b[0m\u001b[0mgeom\u001b[0m\u001b[0;34m.\u001b[0m\u001b[0mupdate_all\u001b[0m\u001b[0;34m(\u001b[0m\u001b[0mself\u001b[0m\u001b[0;34m.\u001b[0m\u001b[0meptm\u001b[0m\u001b[0;34m)\u001b[0m\u001b[0;34m\u001b[0m\u001b[0;34m\u001b[0m\u001b[0m\n\u001b[1;32m    136\u001b[0m                 \u001b[0mself\u001b[0m\u001b[0;34m.\u001b[0m\u001b[0mmanager\u001b[0m\u001b[0;34m.\u001b[0m\u001b[0mupdate\u001b[0m\u001b[0;34m(\u001b[0m\u001b[0;34m)\u001b[0m\u001b[0;34m\u001b[0m\u001b[0;34m\u001b[0m\u001b[0m\n",
      "\u001b[0;32m~/miniconda3/envs/tyssue/lib/python3.8/site-packages/tyssue-0.7.1-py3.8-linux-x86_64.egg/tyssue/behaviors/event_manager.py\u001b[0m in \u001b[0;36mexecute\u001b[0;34m(self, eptm)\u001b[0m\n\u001b[1;32m    111\u001b[0m                 \u001b[0melem_id\u001b[0m \u001b[0;34m=\u001b[0m \u001b[0;34m-\u001b[0m\u001b[0;36m1\u001b[0m\u001b[0;34m\u001b[0m\u001b[0;34m\u001b[0m\u001b[0m\n\u001b[1;32m    112\u001b[0m             \u001b[0mlogger\u001b[0m\u001b[0;34m.\u001b[0m\u001b[0minfo\u001b[0m\u001b[0;34m(\u001b[0m\u001b[0;34mf\"{self.clock}, {elem_id}, {behavior.__name__}\"\u001b[0m\u001b[0;34m)\u001b[0m\u001b[0;34m\u001b[0m\u001b[0;34m\u001b[0m\u001b[0m\n\u001b[0;32m--> 113\u001b[0;31m             \u001b[0mbehavior\u001b[0m\u001b[0;34m(\u001b[0m\u001b[0meptm\u001b[0m\u001b[0;34m,\u001b[0m \u001b[0mself\u001b[0m\u001b[0;34m,\u001b[0m \u001b[0;34m**\u001b[0m\u001b[0mkwargs\u001b[0m\u001b[0;34m)\u001b[0m\u001b[0;34m\u001b[0m\u001b[0;34m\u001b[0m\u001b[0m\n\u001b[0m\u001b[1;32m    114\u001b[0m \u001b[0;34m\u001b[0m\u001b[0m\n\u001b[1;32m    115\u001b[0m     \u001b[0;32mdef\u001b[0m \u001b[0mupdate\u001b[0m\u001b[0;34m(\u001b[0m\u001b[0mself\u001b[0m\u001b[0;34m)\u001b[0m\u001b[0;34m:\u001b[0m\u001b[0;34m\u001b[0m\u001b[0;34m\u001b[0m\u001b[0m\n",
      "\u001b[0;32m~/miniconda3/envs/tyssue/lib/python3.8/site-packages/tyssue-0.7.1-py3.8-linux-x86_64.egg/tyssue/utils/decorators.py\u001b[0m in \u001b[0;36mwith_cell_lookup\u001b[0;34m(*args, **kwargs)\u001b[0m\n\u001b[1;32m     93\u001b[0m             \u001b[0;32mreturn\u001b[0m\u001b[0;34m\u001b[0m\u001b[0;34m\u001b[0m\u001b[0m\n\u001b[1;32m     94\u001b[0m         \u001b[0mkwargs\u001b[0m\u001b[0;34m[\u001b[0m\u001b[0;34m\"cell\"\u001b[0m\u001b[0;34m]\u001b[0m \u001b[0;34m=\u001b[0m \u001b[0mcell\u001b[0m\u001b[0;34m\u001b[0m\u001b[0;34m\u001b[0m\u001b[0m\n\u001b[0;32m---> 95\u001b[0;31m         \u001b[0;32mreturn\u001b[0m \u001b[0mfunc\u001b[0m\u001b[0;34m(\u001b[0m\u001b[0;34m*\u001b[0m\u001b[0margs\u001b[0m\u001b[0;34m,\u001b[0m \u001b[0;34m**\u001b[0m\u001b[0mkwargs\u001b[0m\u001b[0;34m)\u001b[0m\u001b[0;34m\u001b[0m\u001b[0;34m\u001b[0m\u001b[0m\n\u001b[0m\u001b[1;32m     96\u001b[0m \u001b[0;34m\u001b[0m\u001b[0m\n\u001b[1;32m     97\u001b[0m     \u001b[0;32mreturn\u001b[0m \u001b[0mwith_cell_lookup\u001b[0m\u001b[0;34m\u001b[0m\u001b[0;34m\u001b[0m\u001b[0m\n",
      "\u001b[0;32m<ipython-input-42-2d48017a8e14>\u001b[0m in \u001b[0;36mdivision\u001b[0;34m(mono, manager, **kwargs)\u001b[0m\n\u001b[1;32m     84\u001b[0m             \u001b[0mmanager\u001b[0m\u001b[0;34m.\u001b[0m\u001b[0mappend\u001b[0m\u001b[0;34m(\u001b[0m\u001b[0mdivision\u001b[0m\u001b[0;34m,\u001b[0m \u001b[0;34m**\u001b[0m\u001b[0mdivision_spec\u001b[0m\u001b[0;34m)\u001b[0m\u001b[0;34m\u001b[0m\u001b[0;34m\u001b[0m\u001b[0m\n\u001b[1;32m     85\u001b[0m             \u001b[0mdivision_spec\u001b[0m\u001b[0;34m[\u001b[0m\u001b[0;34m'cell_id'\u001b[0m\u001b[0;34m]\u001b[0m \u001b[0;34m=\u001b[0m \u001b[0mmono\u001b[0m\u001b[0;34m.\u001b[0m\u001b[0mcell_df\u001b[0m\u001b[0;34m.\u001b[0m\u001b[0mloc\u001b[0m\u001b[0;34m[\u001b[0m\u001b[0mdaughter\u001b[0m\u001b[0;34m,\u001b[0m \u001b[0;34m\"id\"\u001b[0m\u001b[0;34m]\u001b[0m\u001b[0;34m\u001b[0m\u001b[0;34m\u001b[0m\u001b[0m\n\u001b[0;32m---> 86\u001b[0;31m         \u001b[0mreset_segments\u001b[0m\u001b[0;34m(\u001b[0m\u001b[0mmono\u001b[0m\u001b[0;34m)\u001b[0m\u001b[0;34m\u001b[0m\u001b[0;34m\u001b[0m\u001b[0m\n\u001b[0m\u001b[1;32m     87\u001b[0m \u001b[0;34m\u001b[0m\u001b[0m\n\u001b[1;32m     88\u001b[0m \u001b[0;32mdef\u001b[0m \u001b[0mlumen_growth\u001b[0m\u001b[0;34m(\u001b[0m\u001b[0mmono\u001b[0m\u001b[0;34m,\u001b[0m \u001b[0mmanager\u001b[0m\u001b[0;34m,\u001b[0m \u001b[0;34m**\u001b[0m\u001b[0mkwargs\u001b[0m\u001b[0;34m)\u001b[0m\u001b[0;34m:\u001b[0m\u001b[0;34m\u001b[0m\u001b[0;34m\u001b[0m\u001b[0m\n",
      "\u001b[0;32m<ipython-input-41-cbeb17ced699>\u001b[0m in \u001b[0;36mreset_segments\u001b[0;34m(monolayer)\u001b[0m\n\u001b[1;32m      1\u001b[0m \u001b[0;32mdef\u001b[0m \u001b[0mreset_segments\u001b[0m\u001b[0;34m(\u001b[0m\u001b[0mmonolayer\u001b[0m\u001b[0;34m)\u001b[0m\u001b[0;34m:\u001b[0m\u001b[0;34m\u001b[0m\u001b[0;34m\u001b[0m\u001b[0m\n\u001b[0;32m----> 2\u001b[0;31m     \u001b[0mmonolayer\u001b[0m\u001b[0;34m.\u001b[0m\u001b[0mget_opposite_faces\u001b[0m\u001b[0;34m(\u001b[0m\u001b[0;34m)\u001b[0m\u001b[0;34m\u001b[0m\u001b[0;34m\u001b[0m\u001b[0m\n\u001b[0m\u001b[1;32m      3\u001b[0m     \u001b[0mface_normals\u001b[0m \u001b[0;34m=\u001b[0m \u001b[0mmonolayer\u001b[0m\u001b[0;34m.\u001b[0m\u001b[0mface_df\u001b[0m\u001b[0;34m[\u001b[0m\u001b[0mmonolayer\u001b[0m\u001b[0;34m.\u001b[0m\u001b[0mcoords\u001b[0m\u001b[0;34m]\u001b[0m\u001b[0;34m.\u001b[0m\u001b[0mcopy\u001b[0m\u001b[0;34m(\u001b[0m\u001b[0;34m)\u001b[0m\u001b[0;34m\u001b[0m\u001b[0;34m\u001b[0m\u001b[0m\n\u001b[1;32m      4\u001b[0m \u001b[0;34m\u001b[0m\u001b[0m\n\u001b[1;32m      5\u001b[0m     \u001b[0;32mfor\u001b[0m \u001b[0mnu\u001b[0m \u001b[0;32min\u001b[0m \u001b[0mmonolayer\u001b[0m\u001b[0;34m.\u001b[0m\u001b[0mncoords\u001b[0m\u001b[0;34m:\u001b[0m\u001b[0;34m\u001b[0m\u001b[0;34m\u001b[0m\u001b[0m\n",
      "\u001b[0;32m~/miniconda3/envs/tyssue/lib/python3.8/site-packages/tyssue-0.7.1-py3.8-linux-x86_64.egg/tyssue/core/objects.py\u001b[0m in \u001b[0;36mget_opposite_faces\u001b[0;34m(self)\u001b[0m\n\u001b[1;32m    860\u001b[0m         \u001b[0mcardinal\u001b[0m \u001b[0;34m=\u001b[0m \u001b[0mgrouped\u001b[0m\u001b[0;34m.\u001b[0m\u001b[0mapply\u001b[0m\u001b[0;34m(\u001b[0m\u001b[0mlen\u001b[0m\u001b[0;34m)\u001b[0m\u001b[0;34m\u001b[0m\u001b[0;34m\u001b[0m\u001b[0m\n\u001b[1;32m    861\u001b[0m         \u001b[0;32mif\u001b[0m \u001b[0mcardinal\u001b[0m\u001b[0;34m.\u001b[0m\u001b[0mmax\u001b[0m\u001b[0;34m(\u001b[0m\u001b[0;34m)\u001b[0m \u001b[0;34m>\u001b[0m \u001b[0;36m2\u001b[0m\u001b[0;34m:\u001b[0m\u001b[0;34m\u001b[0m\u001b[0;34m\u001b[0m\u001b[0m\n\u001b[0;32m--> 862\u001b[0;31m             raise ValueError(\n\u001b[0m\u001b[1;32m    863\u001b[0m                 \"Invalid topology, faces have more than one neighbor: {}\".format(\n\u001b[1;32m    864\u001b[0m                     \u001b[0mlist\u001b[0m\u001b[0;34m(\u001b[0m\u001b[0mface_v2\u001b[0m\u001b[0;34m[\u001b[0m\u001b[0mcardinal\u001b[0m \u001b[0;34m>\u001b[0m \u001b[0;36m2\u001b[0m\u001b[0;34m]\u001b[0m\u001b[0;34m.\u001b[0m\u001b[0mindex\u001b[0m\u001b[0;34m)\u001b[0m\u001b[0;34m\u001b[0m\u001b[0;34m\u001b[0m\u001b[0m\n",
      "\u001b[0;31mValueError\u001b[0m: Invalid topology, faces have more than one neighbor: [frozenset({1811, 1812, 1573}), frozenset({1810, 1811, 1269}), frozenset({1811, 1812, 1573}), frozenset({1810, 1811, 1269}), frozenset({1811, 1812, 1573}), frozenset({1811, 1812, 1573}), frozenset({1810, 1811, 1269}), frozenset({1810, 1811, 1269})]"
     ]
    },
    {
     "name": "stdout",
     "output_type": "stream",
     "text": [
      "> \u001b[0;32m/home/guillaume/miniconda3/envs/tyssue/lib/python3.8/site-packages/tyssue-0.7.1-py3.8-linux-x86_64.egg/tyssue/core/objects.py\u001b[0m(862)\u001b[0;36mget_opposite_faces\u001b[0;34m()\u001b[0m\n",
      "\u001b[0;32m    860 \u001b[0;31m        \u001b[0mcardinal\u001b[0m \u001b[0;34m=\u001b[0m \u001b[0mgrouped\u001b[0m\u001b[0;34m.\u001b[0m\u001b[0mapply\u001b[0m\u001b[0;34m(\u001b[0m\u001b[0mlen\u001b[0m\u001b[0;34m)\u001b[0m\u001b[0;34m\u001b[0m\u001b[0;34m\u001b[0m\u001b[0m\n",
      "\u001b[0m\u001b[0;32m    861 \u001b[0;31m        \u001b[0;32mif\u001b[0m \u001b[0mcardinal\u001b[0m\u001b[0;34m.\u001b[0m\u001b[0mmax\u001b[0m\u001b[0;34m(\u001b[0m\u001b[0;34m)\u001b[0m \u001b[0;34m>\u001b[0m \u001b[0;36m2\u001b[0m\u001b[0;34m:\u001b[0m\u001b[0;34m\u001b[0m\u001b[0;34m\u001b[0m\u001b[0m\n",
      "\u001b[0m\u001b[0;32m--> 862 \u001b[0;31m            raise ValueError(\n",
      "\u001b[0m\u001b[0;32m    863 \u001b[0;31m                \"Invalid topology, faces have more than one neighbor: {}\".format(\n",
      "\u001b[0m\u001b[0;32m    864 \u001b[0;31m                    \u001b[0mlist\u001b[0m\u001b[0;34m(\u001b[0m\u001b[0mface_v2\u001b[0m\u001b[0;34m[\u001b[0m\u001b[0mcardinal\u001b[0m \u001b[0;34m>\u001b[0m \u001b[0;36m2\u001b[0m\u001b[0;34m]\u001b[0m\u001b[0;34m.\u001b[0m\u001b[0mindex\u001b[0m\u001b[0;34m)\u001b[0m\u001b[0;34m\u001b[0m\u001b[0;34m\u001b[0m\u001b[0m\n",
      "\u001b[0m\n",
      "ipdb> c\n"
     ]
    }
   ],
   "source": [
    "display(text_widget)\n",
    "solver.solve(120, dt)"
   ]
  },
  {
   "cell_type": "code",
   "execution_count": 51,
   "metadata": {
    "scrolled": false
   },
   "outputs": [
    {
     "data": {
      "application/vnd.jupyter.widget-view+json": {
       "model_id": "aacd5558d4b141129a7b27305a51b291",
       "version_major": 2,
       "version_minor": 0
      },
      "text/plain": [
       "VBox(children=(Figure(camera=PerspectiveCamera(fov=45.0, position=(0.0, 0.0, 2.0), projectionMatrix=(1.0, 0.0,…"
      ]
     },
     "metadata": {},
     "output_type": "display_data"
    },
    {
     "data": {
      "application/vnd.jupyter.widget-view+json": {
       "model_id": "df4d403a994f4ef6b6c803bc5e8b0ca8",
       "version_major": 2,
       "version_minor": 0
      },
      "text/plain": [
       "interactive(children=(IntSlider(value=0, description='i', max=305), Output()), _dom_classes=('widget-interact'…"
      ]
     },
     "metadata": {},
     "output_type": "display_data"
    }
   ],
   "source": [
    "draw_specs[\"edge\"][\"visible\"] = True\n",
    "highlight_cells\n",
    "browse_history(solver.history, **draw_specs)\n"
   ]
  },
  {
   "cell_type": "code",
   "execution_count": 40,
   "metadata": {},
   "outputs": [],
   "source": [
    "solver.eptm.face_df.loc[:, \"visible\"] = False\n",
    "\n",
    "solver.eptm.face_df.loc[\n",
    "    (solver.eptm.face_df.opposite == -1)\n",
    "    & (solver.eptm.face_df.segment == \"lateral\"),\n",
    "    \"visible\"] = True"
   ]
  },
  {
   "cell_type": "code",
   "execution_count": 41,
   "metadata": {},
   "outputs": [
    {
     "data": {
      "text/html": [
       "<div>\n",
       "<style scoped>\n",
       "    .dataframe tbody tr th:only-of-type {\n",
       "        vertical-align: middle;\n",
       "    }\n",
       "\n",
       "    .dataframe tbody tr th {\n",
       "        vertical-align: top;\n",
       "    }\n",
       "\n",
       "    .dataframe thead th {\n",
       "        text-align: right;\n",
       "    }\n",
       "</style>\n",
       "<table border=\"1\" class=\"dataframe\">\n",
       "  <thead>\n",
       "    <tr style=\"text-align: right;\">\n",
       "      <th></th>\n",
       "      <th>x</th>\n",
       "      <th>y</th>\n",
       "      <th>z</th>\n",
       "      <th>num_sides</th>\n",
       "      <th>area</th>\n",
       "      <th>perimeter</th>\n",
       "      <th>is_alive</th>\n",
       "      <th>segment</th>\n",
       "      <th>visible</th>\n",
       "      <th>face_o</th>\n",
       "      <th>opposite</th>\n",
       "      <th>height</th>\n",
       "      <th>rho</th>\n",
       "      <th>vol</th>\n",
       "      <th>phi</th>\n",
       "      <th>theta</th>\n",
       "      <th>weight</th>\n",
       "      <th>cell</th>\n",
       "      <th>contractile_grad</th>\n",
       "    </tr>\n",
       "    <tr>\n",
       "      <th>face</th>\n",
       "      <th></th>\n",
       "      <th></th>\n",
       "      <th></th>\n",
       "      <th></th>\n",
       "      <th></th>\n",
       "      <th></th>\n",
       "      <th></th>\n",
       "      <th></th>\n",
       "      <th></th>\n",
       "      <th></th>\n",
       "      <th></th>\n",
       "      <th></th>\n",
       "      <th></th>\n",
       "      <th></th>\n",
       "      <th></th>\n",
       "      <th></th>\n",
       "      <th></th>\n",
       "      <th></th>\n",
       "      <th></th>\n",
       "    </tr>\n",
       "  </thead>\n",
       "  <tbody>\n",
       "    <tr>\n",
       "      <th>3037</th>\n",
       "      <td>-0.243497</td>\n",
       "      <td>-1.279636</td>\n",
       "      <td>3.713487</td>\n",
       "      <td>5</td>\n",
       "      <td>1.805545</td>\n",
       "      <td>5.496876</td>\n",
       "      <td>1</td>\n",
       "      <td>lateral</td>\n",
       "      <td>True</td>\n",
       "      <td>0</td>\n",
       "      <td>-1</td>\n",
       "      <td>4.334827</td>\n",
       "      <td>8.334827</td>\n",
       "      <td>17.759341</td>\n",
       "      <td>-2.114213</td>\n",
       "      <td>0.458461</td>\n",
       "      <td>0.926727</td>\n",
       "      <td>134</td>\n",
       "      <td>0.371337</td>\n",
       "    </tr>\n",
       "  </tbody>\n",
       "</table>\n",
       "</div>"
      ],
      "text/plain": [
       "             x         y         z  num_sides      area  perimeter  is_alive  \\\n",
       "face                                                                           \n",
       "3037 -0.243497 -1.279636  3.713487          5  1.805545   5.496876         1   \n",
       "\n",
       "      segment  visible  face_o  opposite    height       rho        vol  \\\n",
       "face                                                                      \n",
       "3037  lateral     True       0        -1  4.334827  8.334827  17.759341   \n",
       "\n",
       "           phi     theta    weight  cell  contractile_grad  \n",
       "face                                                        \n",
       "3037 -2.114213  0.458461  0.926727   134          0.371337  "
      ]
     },
     "execution_count": 41,
     "metadata": {},
     "output_type": "execute_result"
    }
   ],
   "source": [
    "solver.eptm.face_df.loc[\n",
    "    (solver.eptm.face_df.opposite == -1)\n",
    "    & (solver.eptm.face_df.segment == \"lateral\")]"
   ]
  },
  {
   "cell_type": "code",
   "execution_count": 42,
   "metadata": {},
   "outputs": [],
   "source": [
    "geom.update_all(solver.eptm)"
   ]
  },
  {
   "cell_type": "code",
   "execution_count": 43,
   "metadata": {},
   "outputs": [],
   "source": [
    "eptm = solver.eptm"
   ]
  },
  {
   "cell_type": "code",
   "execution_count": 44,
   "metadata": {},
   "outputs": [],
   "source": [
    "stfc = ['srce', 'trgt', 'face', 'cell']"
   ]
  },
  {
   "cell_type": "code",
   "execution_count": 47,
   "metadata": {},
   "outputs": [
    {
     "data": {
      "text/html": [
       "<div>\n",
       "<style scoped>\n",
       "    .dataframe tbody tr th:only-of-type {\n",
       "        vertical-align: middle;\n",
       "    }\n",
       "\n",
       "    .dataframe tbody tr th {\n",
       "        vertical-align: top;\n",
       "    }\n",
       "\n",
       "    .dataframe thead th {\n",
       "        text-align: right;\n",
       "    }\n",
       "</style>\n",
       "<table border=\"1\" class=\"dataframe\">\n",
       "  <thead>\n",
       "    <tr style=\"text-align: right;\">\n",
       "      <th></th>\n",
       "      <th>srce</th>\n",
       "      <th>trgt</th>\n",
       "      <th>face</th>\n",
       "      <th>cell</th>\n",
       "    </tr>\n",
       "    <tr>\n",
       "      <th>edge</th>\n",
       "      <th></th>\n",
       "      <th></th>\n",
       "      <th></th>\n",
       "      <th></th>\n",
       "    </tr>\n",
       "  </thead>\n",
       "  <tbody>\n",
       "    <tr>\n",
       "      <th>13627</th>\n",
       "      <td>1467</td>\n",
       "      <td>1466</td>\n",
       "      <td>3037</td>\n",
       "      <td>373</td>\n",
       "    </tr>\n",
       "    <tr>\n",
       "      <th>13628</th>\n",
       "      <td>1468</td>\n",
       "      <td>1467</td>\n",
       "      <td>3037</td>\n",
       "      <td>373</td>\n",
       "    </tr>\n",
       "    <tr>\n",
       "      <th>13629</th>\n",
       "      <td>1469</td>\n",
       "      <td>1468</td>\n",
       "      <td>3037</td>\n",
       "      <td>373</td>\n",
       "    </tr>\n",
       "    <tr>\n",
       "      <th>13630</th>\n",
       "      <td>1470</td>\n",
       "      <td>1469</td>\n",
       "      <td>3037</td>\n",
       "      <td>373</td>\n",
       "    </tr>\n",
       "    <tr>\n",
       "      <th>13631</th>\n",
       "      <td>1466</td>\n",
       "      <td>1470</td>\n",
       "      <td>3037</td>\n",
       "      <td>373</td>\n",
       "    </tr>\n",
       "  </tbody>\n",
       "</table>\n",
       "</div>"
      ],
      "text/plain": [
       "       srce  trgt  face  cell\n",
       "edge                         \n",
       "13627  1467  1466  3037   373\n",
       "13628  1468  1467  3037   373\n",
       "13629  1469  1468  3037   373\n",
       "13630  1470  1469  3037   373\n",
       "13631  1466  1470  3037   373"
      ]
     },
     "execution_count": 47,
     "metadata": {},
     "output_type": "execute_result"
    }
   ],
   "source": [
    "eptm.edge_df.loc[eptm.edge_df[\"face\"] == 3037, stfc]"
   ]
  },
  {
   "cell_type": "code",
   "execution_count": 46,
   "metadata": {},
   "outputs": [
    {
     "data": {
      "text/html": [
       "<div>\n",
       "<style scoped>\n",
       "    .dataframe tbody tr th:only-of-type {\n",
       "        vertical-align: middle;\n",
       "    }\n",
       "\n",
       "    .dataframe tbody tr th {\n",
       "        vertical-align: top;\n",
       "    }\n",
       "\n",
       "    .dataframe thead th {\n",
       "        text-align: right;\n",
       "    }\n",
       "</style>\n",
       "<table border=\"1\" class=\"dataframe\">\n",
       "  <thead>\n",
       "    <tr style=\"text-align: right;\">\n",
       "      <th></th>\n",
       "      <th>srce</th>\n",
       "      <th>trgt</th>\n",
       "      <th>face</th>\n",
       "      <th>cell</th>\n",
       "    </tr>\n",
       "    <tr>\n",
       "      <th>edge</th>\n",
       "      <th></th>\n",
       "      <th></th>\n",
       "      <th></th>\n",
       "      <th></th>\n",
       "    </tr>\n",
       "  </thead>\n",
       "  <tbody>\n",
       "    <tr>\n",
       "      <th>249</th>\n",
       "      <td>114</td>\n",
       "      <td>1012</td>\n",
       "      <td>62</td>\n",
       "      <td>62</td>\n",
       "    </tr>\n",
       "    <tr>\n",
       "      <th>522</th>\n",
       "      <td>114</td>\n",
       "      <td>339</td>\n",
       "      <td>2104</td>\n",
       "      <td>100</td>\n",
       "    </tr>\n",
       "    <tr>\n",
       "      <th>4760</th>\n",
       "      <td>114</td>\n",
       "      <td>1012</td>\n",
       "      <td>1007</td>\n",
       "      <td>100</td>\n",
       "    </tr>\n",
       "    <tr>\n",
       "      <th>5245</th>\n",
       "      <td>114</td>\n",
       "      <td>339</td>\n",
       "      <td>1130</td>\n",
       "      <td>101</td>\n",
       "    </tr>\n",
       "    <tr>\n",
       "      <th>13193</th>\n",
       "      <td>114</td>\n",
       "      <td>1424</td>\n",
       "      <td>101</td>\n",
       "      <td>101</td>\n",
       "    </tr>\n",
       "    <tr>\n",
       "      <th>13194</th>\n",
       "      <td>114</td>\n",
       "      <td>1424</td>\n",
       "      <td>2106</td>\n",
       "      <td>62</td>\n",
       "    </tr>\n",
       "    <tr>\n",
       "      <th>13195</th>\n",
       "      <td>114</td>\n",
       "      <td>1424</td>\n",
       "      <td>1005</td>\n",
       "      <td>100</td>\n",
       "    </tr>\n",
       "  </tbody>\n",
       "</table>\n",
       "</div>"
      ],
      "text/plain": [
       "       srce  trgt  face  cell\n",
       "edge                         \n",
       "249     114  1012    62    62\n",
       "522     114   339  2104   100\n",
       "4760    114  1012  1007   100\n",
       "5245    114   339  1130   101\n",
       "13193   114  1424   101   101\n",
       "13194   114  1424  2106    62\n",
       "13195   114  1424  1005   100"
      ]
     },
     "execution_count": 46,
     "metadata": {},
     "output_type": "execute_result"
    }
   ],
   "source": [
    "eptm.edge_df.loc[eptm.edge_df[\"srce\"] == 114, stfc]"
   ]
  },
  {
   "cell_type": "code",
   "execution_count": 114,
   "metadata": {},
   "outputs": [
    {
     "data": {
      "text/html": [
       "<div>\n",
       "<style scoped>\n",
       "    .dataframe tbody tr th:only-of-type {\n",
       "        vertical-align: middle;\n",
       "    }\n",
       "\n",
       "    .dataframe tbody tr th {\n",
       "        vertical-align: top;\n",
       "    }\n",
       "\n",
       "    .dataframe thead th {\n",
       "        text-align: right;\n",
       "    }\n",
       "</style>\n",
       "<table border=\"1\" class=\"dataframe\">\n",
       "  <thead>\n",
       "    <tr style=\"text-align: right;\">\n",
       "      <th></th>\n",
       "      <th>x</th>\n",
       "      <th>y</th>\n",
       "      <th>z</th>\n",
       "      <th>is_alive</th>\n",
       "      <th>area</th>\n",
       "      <th>vol</th>\n",
       "      <th>num_faces</th>\n",
       "      <th>num_ridges</th>\n",
       "      <th>vol_elasticity</th>\n",
       "      <th>prefered_vol</th>\n",
       "      <th>weighted_area</th>\n",
       "      <th>area_elasticity</th>\n",
       "      <th>prefered_area</th>\n",
       "      <th>id</th>\n",
       "    </tr>\n",
       "    <tr>\n",
       "      <th>cell</th>\n",
       "      <th></th>\n",
       "      <th></th>\n",
       "      <th></th>\n",
       "      <th></th>\n",
       "      <th></th>\n",
       "      <th></th>\n",
       "      <th></th>\n",
       "      <th></th>\n",
       "      <th></th>\n",
       "      <th></th>\n",
       "      <th></th>\n",
       "      <th></th>\n",
       "      <th></th>\n",
       "      <th></th>\n",
       "    </tr>\n",
       "  </thead>\n",
       "  <tbody>\n",
       "    <tr>\n",
       "      <th>221</th>\n",
       "      <td>-0.067155</td>\n",
       "      <td>-0.409254</td>\n",
       "      <td>3.937848</td>\n",
       "      <td>1</td>\n",
       "      <td>6.102872</td>\n",
       "      <td>0.873218</td>\n",
       "      <td>7</td>\n",
       "      <td>30</td>\n",
       "      <td>1.0</td>\n",
       "      <td>1.0</td>\n",
       "      <td>5.150396</td>\n",
       "      <td>0.01</td>\n",
       "      <td>4.0</td>\n",
       "      <td>221</td>\n",
       "    </tr>\n",
       "    <tr>\n",
       "      <th>222</th>\n",
       "      <td>1.770961</td>\n",
       "      <td>2.719839</td>\n",
       "      <td>-2.397402</td>\n",
       "      <td>1</td>\n",
       "      <td>5.476510</td>\n",
       "      <td>0.825121</td>\n",
       "      <td>7</td>\n",
       "      <td>30</td>\n",
       "      <td>1.0</td>\n",
       "      <td>1.0</td>\n",
       "      <td>5.546281</td>\n",
       "      <td>0.01</td>\n",
       "      <td>4.0</td>\n",
       "      <td>222</td>\n",
       "    </tr>\n",
       "    <tr>\n",
       "      <th>223</th>\n",
       "      <td>2.622221</td>\n",
       "      <td>3.123002</td>\n",
       "      <td>0.336873</td>\n",
       "      <td>1</td>\n",
       "      <td>5.648956</td>\n",
       "      <td>0.866331</td>\n",
       "      <td>7</td>\n",
       "      <td>33</td>\n",
       "      <td>1.0</td>\n",
       "      <td>1.0</td>\n",
       "      <td>5.576966</td>\n",
       "      <td>0.01</td>\n",
       "      <td>4.0</td>\n",
       "      <td>223</td>\n",
       "    </tr>\n",
       "    <tr>\n",
       "      <th>224</th>\n",
       "      <td>1.795880</td>\n",
       "      <td>-2.533210</td>\n",
       "      <td>-2.626610</td>\n",
       "      <td>1</td>\n",
       "      <td>5.540746</td>\n",
       "      <td>0.824541</td>\n",
       "      <td>7</td>\n",
       "      <td>30</td>\n",
       "      <td>1.0</td>\n",
       "      <td>1.0</td>\n",
       "      <td>5.563575</td>\n",
       "      <td>0.01</td>\n",
       "      <td>4.0</td>\n",
       "      <td>224</td>\n",
       "    </tr>\n",
       "    <tr>\n",
       "      <th>225</th>\n",
       "      <td>-0.677059</td>\n",
       "      <td>-0.920366</td>\n",
       "      <td>-3.991676</td>\n",
       "      <td>1</td>\n",
       "      <td>4.884278</td>\n",
       "      <td>0.652484</td>\n",
       "      <td>7</td>\n",
       "      <td>30</td>\n",
       "      <td>1.0</td>\n",
       "      <td>1.0</td>\n",
       "      <td>5.307189</td>\n",
       "      <td>0.01</td>\n",
       "      <td>4.0</td>\n",
       "      <td>225</td>\n",
       "    </tr>\n",
       "  </tbody>\n",
       "</table>\n",
       "</div>"
      ],
      "text/plain": [
       "             x         y         z  is_alive      area       vol  num_faces  \\\n",
       "cell                                                                          \n",
       "221  -0.067155 -0.409254  3.937848         1  6.102872  0.873218          7   \n",
       "222   1.770961  2.719839 -2.397402         1  5.476510  0.825121          7   \n",
       "223   2.622221  3.123002  0.336873         1  5.648956  0.866331          7   \n",
       "224   1.795880 -2.533210 -2.626610         1  5.540746  0.824541          7   \n",
       "225  -0.677059 -0.920366 -3.991676         1  4.884278  0.652484          7   \n",
       "\n",
       "      num_ridges  vol_elasticity  prefered_vol  weighted_area  \\\n",
       "cell                                                            \n",
       "221           30             1.0           1.0       5.150396   \n",
       "222           30             1.0           1.0       5.546281   \n",
       "223           33             1.0           1.0       5.576966   \n",
       "224           30             1.0           1.0       5.563575   \n",
       "225           30             1.0           1.0       5.307189   \n",
       "\n",
       "      area_elasticity  prefered_area   id  \n",
       "cell                                       \n",
       "221              0.01            4.0  221  \n",
       "222              0.01            4.0  222  \n",
       "223              0.01            4.0  223  \n",
       "224              0.01            4.0  224  \n",
       "225              0.01            4.0  225  "
      ]
     },
     "execution_count": 114,
     "metadata": {},
     "output_type": "execute_result"
    }
   ],
   "source": [
    "eptm.cell_df.tail()"
   ]
  },
  {
   "cell_type": "code",
   "execution_count": 95,
   "metadata": {},
   "outputs": [
    {
     "ename": "ValueError",
     "evalue": "Invalid topology, faces have more than one neighbor: [frozenset({0, 962, 3}), frozenset({0, 962, 3}), frozenset({0, 962, 3})]",
     "output_type": "error",
     "traceback": [
      "\u001b[0;31m---------------------------------------------------------------------------\u001b[0m",
      "\u001b[0;31mValueError\u001b[0m                                Traceback (most recent call last)",
      "\u001b[0;32m<ipython-input-95-0466283d3acf>\u001b[0m in \u001b[0;36m<module>\u001b[0;34m\u001b[0m\n\u001b[0;32m----> 1\u001b[0;31m \u001b[0meptm\u001b[0m\u001b[0;34m.\u001b[0m\u001b[0mget_opposite_faces\u001b[0m\u001b[0;34m(\u001b[0m\u001b[0;34m)\u001b[0m\u001b[0;34m\u001b[0m\u001b[0;34m\u001b[0m\u001b[0m\n\u001b[0m",
      "\u001b[0;32m~/miniconda3/envs/tyssue/lib/python3.8/site-packages/tyssue-0.7.1-py3.8-linux-x86_64.egg/tyssue/core/objects.py\u001b[0m in \u001b[0;36mget_opposite_faces\u001b[0;34m(self)\u001b[0m\n\u001b[1;32m    867\u001b[0m         \u001b[0mcardinal\u001b[0m \u001b[0;34m=\u001b[0m \u001b[0mgrouped\u001b[0m\u001b[0;34m.\u001b[0m\u001b[0mapply\u001b[0m\u001b[0;34m(\u001b[0m\u001b[0mlen\u001b[0m\u001b[0;34m)\u001b[0m\u001b[0;34m\u001b[0m\u001b[0;34m\u001b[0m\u001b[0m\n\u001b[1;32m    868\u001b[0m         \u001b[0;32mif\u001b[0m \u001b[0mcardinal\u001b[0m\u001b[0;34m.\u001b[0m\u001b[0mmax\u001b[0m\u001b[0;34m(\u001b[0m\u001b[0;34m)\u001b[0m \u001b[0;34m>\u001b[0m \u001b[0;36m2\u001b[0m\u001b[0;34m:\u001b[0m\u001b[0;34m\u001b[0m\u001b[0;34m\u001b[0m\u001b[0m\n\u001b[0;32m--> 869\u001b[0;31m             raise ValueError(\n\u001b[0m\u001b[1;32m    870\u001b[0m                 \"Invalid topology, faces have more than one neighbor: {}\".format(\n\u001b[1;32m    871\u001b[0m                     \u001b[0mlist\u001b[0m\u001b[0;34m(\u001b[0m\u001b[0mface_v2\u001b[0m\u001b[0;34m[\u001b[0m\u001b[0mcardinal\u001b[0m \u001b[0;34m>\u001b[0m \u001b[0;36m2\u001b[0m\u001b[0;34m]\u001b[0m\u001b[0;34m.\u001b[0m\u001b[0mindex\u001b[0m\u001b[0;34m)\u001b[0m\u001b[0;34m\u001b[0m\u001b[0;34m\u001b[0m\u001b[0m\n",
      "\u001b[0;31mValueError\u001b[0m: Invalid topology, faces have more than one neighbor: [frozenset({0, 962, 3}), frozenset({0, 962, 3}), frozenset({0, 962, 3})]"
     ]
    }
   ],
   "source": [
    "eptm.get_opposite_faces()"
   ]
  },
  {
   "cell_type": "code",
   "execution_count": 116,
   "metadata": {},
   "outputs": [
    {
     "data": {
      "application/vnd.jupyter.widget-view+json": {
       "model_id": "7ba6613975264e15bbdbecf82cb9c439",
       "version_major": 2,
       "version_minor": 0
      },
      "text/plain": [
       "Figure(camera=PerspectiveCamera(fov=45.0, position=(0.0, 0.0, 2.0), projectionMatrix=(1.0, 0.0, 0.0, 0.0, 0.0,…"
      ]
     },
     "metadata": {},
     "output_type": "display_data"
    }
   ],
   "source": [
    "highlight_cells(eptm, [71, ], reset_visible=True)\n",
    "ipv.clear()\n",
    "\n",
    "fig3D, mesh = sheet_view(\n",
    "    eptm,\n",
    "    mode=\"3D\",\n",
    "    **draw_specs\n",
    ")\n",
    "\n",
    "fig3D"
   ]
  },
  {
   "cell_type": "code",
   "execution_count": null,
   "metadata": {},
   "outputs": [],
   "source": []
  }
 ],
 "metadata": {
  "kernelspec": {
   "display_name": "Python 3",
   "language": "python",
   "name": "python3"
  },
  "language_info": {
   "codemirror_mode": {
    "name": "ipython",
    "version": 3
   },
   "file_extension": ".py",
   "mimetype": "text/x-python",
   "name": "python",
   "nbconvert_exporter": "python",
   "pygments_lexer": "ipython3",
   "version": "3.8.6"
  }
 },
 "nbformat": 4,
 "nbformat_minor": 2
}
