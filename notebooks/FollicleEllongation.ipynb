{
 "cells": [
  {
   "cell_type": "code",
   "execution_count": 1,
   "metadata": {},
   "outputs": [],
   "source": [
    "from datetime import datetime\n",
    "\n",
    "import numpy as np\n",
    "import pandas as pd\n",
    "import matplotlib.pyplot as plt\n",
    "from matplotlib import rcParams\n",
    "%matplotlib inline\n",
    "import logging\n",
    "\n",
    "import ipyvolume as ipv\n",
    "import ipywidgets as widgets\n",
    "\n",
    "from ipywidgets import FloatProgress\n",
    "from IPython.display import display, Image\n",
    "\n",
    "from tyssue import HistoryHdf5\n",
    "from tyssue.solvers import QSSolver\n",
    "\n",
    "\n",
    "from tyssue.draw import sheet_view, browse_history\n",
    "from tyssue.io import hdf5\n",
    "from tyssue.draw import highlight_faces, create_gif, highlight_cells\n",
    "\n",
    "\n",
    "from pathlib import Path\n",
    "\n",
    "from utils import (\n",
    "    WAMonolayerGeometry as geom,\n",
    "    MonolayerView,\n",
    "    get_initial_follicle,\n",
    "    get_solver,\n",
    "    get_polar_cells,\n",
    "    update_gradient\n",
    ")\n",
    "\n",
    "rcParams[\"figure.figsize\"] = (9, 6)\n",
    "rcParams[\"figure.dpi\"] = 96\n",
    "\n",
    "from collections import deque\n",
    "\n",
    "class LogWidget(widgets.HTML):\n",
    "    \n",
    "    def __init__(self, maxlines=10):\n",
    "        \n",
    "        self.lines = deque(maxlen=maxlines)\n",
    "        super().__init__()\n",
    "    \n",
    "    def write(self, record):\n",
    "        self.lines.append(record)\n",
    "        self.value = '\\n'.join(\n",
    "            [f\"<p>{rec}</p>\" for rec in self.lines])\n",
    "    def flush(self):\n",
    "        pass\n",
    "\n",
    "        \n",
    "logger = logging.getLogger(\"tyssue\")\n",
    "logger.setLevel(\"DEBUG\") # INFO ERROR WARNING\n",
    "\n",
    "handled = False\n",
    "if not handled:\n",
    "    hand = logging.FileHandler(\"follicle.log\")\n",
    "    hand.setLevel(\"INFO\")\n",
    "    logger.addHandler(hand)\n",
    "    handled = True\n",
    "        \n",
    "        \n"
   ]
  },
  {
   "cell_type": "markdown",
   "metadata": {},
   "source": [
    "## Follicle monolayer creation\n"
   ]
  },
  {
   "cell_type": "markdown",
   "metadata": {},
   "source": [
    "## Base mechanical model\n",
    "\n",
    "\n",
    "By analogy with 2D Manning model (by a suggestion she did during a communication, I assume this will be published some time) we can write the basic potiential with\n",
    "\n",
    "$$\n",
    "E = \\frac{K_\\ell}{2}(V_\\ell - V_\\ell^0)^2 + \\sum_c \\frac{K_v}{2}(V_c - V_c^0)^2 + \\frac{K_A}{2}(A_c - A_c^0)^2\n",
    "$$\n",
    "\n",
    "By setting $V_c^0 = 1$ and $K_c^0 = 1$, we rewrite this:\n",
    "\n",
    "$$\n",
    "E = \\frac{K_\\ell}{2}(V_\\ell - V_\\ell^0)^2 + \\sum_c \\frac{1}{2}(V_c - 1)^2 + \\frac{K_A}{2}(A_c - s^0)^2\n",
    "$$\n",
    "\n",
    "Here $s^0$ is the form factor (as in 2D)\n",
    "\n",
    "For a sphere, the ratio $A / V^{2/3}$ is equal to $(36\\pi)^{1/3} \\approx 4.84$\n",
    "\n",
    "For a [truncated octahedron](https://en.wikipedia.org/wiki/Truncated_octahedron) (regular cells in bulk), it's 5.31 and 8.14 for a honeycomb (cuboidal cells)."
   ]
  },
  {
   "cell_type": "markdown",
   "metadata": {},
   "source": [
    "## Cell area as a weighted sum of face areas\n",
    "\n",
    "\n",
    "For now the model is isotropic, so cells will tend to adopt the most spherical shape possible. In order to have polarisation, we can introduce a factor (or weight) on each face of the cell to modulate its effective contribution to the total area, the total area $A_c$ is replaced by the weighted area $A'_c$:\n",
    "\n",
    "$$\n",
    "A_c = \\sum_f A_f \\quad \\mbox{becomes}\\\\\n",
    "A'_c = \\frac{n_f}{\\sum_f w_f}\\sum_f w_fA_f\n",
    "$$\n",
    "\n",
    "If all the weights are equal, the weighted area is equal to the normal area.\n",
    "\n"
   ]
  },
  {
   "cell_type": "markdown",
   "metadata": {},
   "source": [
    "### Settings for the mechanical model"
   ]
  },
  {
   "cell_type": "code",
   "execution_count": 6,
   "metadata": {},
   "outputs": [],
   "source": [
    "# Number of cells\n",
    "Nc = 200\n",
    "\n",
    "specs = {\n",
    "    \"cell\": {\n",
    "        \"is_alive\": 1,\n",
    "        \"vol_elasticity\": 1.0,\n",
    "        \"prefered_vol\": 1.0,\n",
    "        \"weighted_area\": 1.0,\n",
    "        \"area_elasticity\": 0.1, # this has to be explored\n",
    "        \"prefered_area\": 4.6,  # form factor - this has to be explored\n",
    "        # bigger prefered_area -> more fluid tissue\n",
    "    },\n",
    "    \"face\": {\n",
    "        \"weight\": 1.0,\n",
    "        \"is_alive\": 1,\n",
    "    },\n",
    "    \"settings\": {\n",
    "        \"lumen_vol_elasticity\": 1.0e-3, # this has to be explored\n",
    "        \"lumen_prefered_vol\": 300, # this has to be explored\n",
    "        \"apical_weight\": 1.0,\n",
    "    },\n",
    "}\n"
   ]
  },
  {
   "cell_type": "code",
   "execution_count": 7,
   "metadata": {},
   "outputs": [
    {
     "name": "stdout",
     "output_type": "stream",
     "text": [
      "Finding static equilibrium\n",
      "Follicle has 216 cells\n",
      "{'lumen_side': 'apical', 'lumen_vol': 280.90998584239736, 'lumen_vol_elasticity': 0.001, 'lumen_prefered_vol': 300, 'apical_weight': 1.0}\n"
     ]
    }
   ],
   "source": [
    "follicle, model = get_initial_follicle(specs)\n",
    "print(f\"Follicle has {follicle.Nc} cells\")\n",
    "print(follicle.settings)"
   ]
  },
  {
   "cell_type": "code",
   "execution_count": 8,
   "metadata": {},
   "outputs": [
    {
     "data": {
      "text/html": [
       "<div>\n",
       "<style scoped>\n",
       "    .dataframe tbody tr th:only-of-type {\n",
       "        vertical-align: middle;\n",
       "    }\n",
       "\n",
       "    .dataframe tbody tr th {\n",
       "        vertical-align: top;\n",
       "    }\n",
       "\n",
       "    .dataframe thead th {\n",
       "        text-align: right;\n",
       "    }\n",
       "</style>\n",
       "<table border=\"1\" class=\"dataframe\">\n",
       "  <thead>\n",
       "    <tr style=\"text-align: right;\">\n",
       "      <th></th>\n",
       "      <th>x</th>\n",
       "      <th>y</th>\n",
       "      <th>z</th>\n",
       "      <th>num_sides</th>\n",
       "      <th>area</th>\n",
       "      <th>perimeter</th>\n",
       "      <th>is_alive</th>\n",
       "      <th>segment</th>\n",
       "      <th>visible</th>\n",
       "      <th>id</th>\n",
       "      <th>face_o</th>\n",
       "      <th>opposite</th>\n",
       "      <th>height</th>\n",
       "      <th>rho</th>\n",
       "      <th>vol</th>\n",
       "      <th>phi</th>\n",
       "      <th>theta</th>\n",
       "      <th>weight</th>\n",
       "      <th>cell</th>\n",
       "    </tr>\n",
       "    <tr>\n",
       "      <th>face</th>\n",
       "      <th></th>\n",
       "      <th></th>\n",
       "      <th></th>\n",
       "      <th></th>\n",
       "      <th></th>\n",
       "      <th></th>\n",
       "      <th></th>\n",
       "      <th></th>\n",
       "      <th></th>\n",
       "      <th></th>\n",
       "      <th></th>\n",
       "      <th></th>\n",
       "      <th></th>\n",
       "      <th></th>\n",
       "      <th></th>\n",
       "      <th></th>\n",
       "      <th></th>\n",
       "      <th></th>\n",
       "      <th></th>\n",
       "    </tr>\n",
       "  </thead>\n",
       "  <tbody>\n",
       "    <tr>\n",
       "      <th>0</th>\n",
       "      <td>-2.308287</td>\n",
       "      <td>3.310672</td>\n",
       "      <td>-0.431535</td>\n",
       "      <td>6</td>\n",
       "      <td>1.031444</td>\n",
       "      <td>3.812096</td>\n",
       "      <td>1</td>\n",
       "      <td>apical</td>\n",
       "      <td>True</td>\n",
       "      <td>0</td>\n",
       "      <td>0</td>\n",
       "      <td>-1</td>\n",
       "      <td>4.999044</td>\n",
       "      <td>8.999044</td>\n",
       "      <td>28.741082</td>\n",
       "      <td>2.191955</td>\n",
       "      <td>-0.10952</td>\n",
       "      <td>1.0</td>\n",
       "      <td>0</td>\n",
       "    </tr>\n",
       "    <tr>\n",
       "      <th>1</th>\n",
       "      <td>-2.144640</td>\n",
       "      <td>3.393149</td>\n",
       "      <td>0.545859</td>\n",
       "      <td>6</td>\n",
       "      <td>0.952748</td>\n",
       "      <td>3.689579</td>\n",
       "      <td>1</td>\n",
       "      <td>apical</td>\n",
       "      <td>True</td>\n",
       "      <td>0</td>\n",
       "      <td>0</td>\n",
       "      <td>-1</td>\n",
       "      <td>4.999044</td>\n",
       "      <td>8.999044</td>\n",
       "      <td>28.741082</td>\n",
       "      <td>2.191955</td>\n",
       "      <td>-0.10952</td>\n",
       "      <td>1.0</td>\n",
       "      <td>1</td>\n",
       "    </tr>\n",
       "    <tr>\n",
       "      <th>2</th>\n",
       "      <td>-1.428630</td>\n",
       "      <td>3.807074</td>\n",
       "      <td>-0.114398</td>\n",
       "      <td>6</td>\n",
       "      <td>1.018820</td>\n",
       "      <td>3.779824</td>\n",
       "      <td>1</td>\n",
       "      <td>apical</td>\n",
       "      <td>True</td>\n",
       "      <td>0</td>\n",
       "      <td>0</td>\n",
       "      <td>-1</td>\n",
       "      <td>4.999044</td>\n",
       "      <td>8.999044</td>\n",
       "      <td>28.741082</td>\n",
       "      <td>2.191955</td>\n",
       "      <td>-0.10952</td>\n",
       "      <td>1.0</td>\n",
       "      <td>2</td>\n",
       "    </tr>\n",
       "    <tr>\n",
       "      <th>3</th>\n",
       "      <td>3.842852</td>\n",
       "      <td>-1.154075</td>\n",
       "      <td>-0.296746</td>\n",
       "      <td>5</td>\n",
       "      <td>0.948743</td>\n",
       "      <td>3.761042</td>\n",
       "      <td>1</td>\n",
       "      <td>apical</td>\n",
       "      <td>True</td>\n",
       "      <td>0</td>\n",
       "      <td>0</td>\n",
       "      <td>-1</td>\n",
       "      <td>4.999044</td>\n",
       "      <td>8.999044</td>\n",
       "      <td>28.741082</td>\n",
       "      <td>2.191955</td>\n",
       "      <td>-0.10952</td>\n",
       "      <td>1.0</td>\n",
       "      <td>3</td>\n",
       "    </tr>\n",
       "    <tr>\n",
       "      <th>4</th>\n",
       "      <td>3.506111</td>\n",
       "      <td>-1.762462</td>\n",
       "      <td>-0.948054</td>\n",
       "      <td>6</td>\n",
       "      <td>0.917564</td>\n",
       "      <td>3.647107</td>\n",
       "      <td>1</td>\n",
       "      <td>apical</td>\n",
       "      <td>True</td>\n",
       "      <td>0</td>\n",
       "      <td>0</td>\n",
       "      <td>-1</td>\n",
       "      <td>4.999044</td>\n",
       "      <td>8.999044</td>\n",
       "      <td>28.741082</td>\n",
       "      <td>2.191955</td>\n",
       "      <td>-0.10952</td>\n",
       "      <td>1.0</td>\n",
       "      <td>4</td>\n",
       "    </tr>\n",
       "  </tbody>\n",
       "</table>\n",
       "</div>"
      ],
      "text/plain": [
       "             x         y         z  num_sides      area  perimeter  is_alive  \\\n",
       "face                                                                           \n",
       "0    -2.308287  3.310672 -0.431535          6  1.031444   3.812096         1   \n",
       "1    -2.144640  3.393149  0.545859          6  0.952748   3.689579         1   \n",
       "2    -1.428630  3.807074 -0.114398          6  1.018820   3.779824         1   \n",
       "3     3.842852 -1.154075 -0.296746          5  0.948743   3.761042         1   \n",
       "4     3.506111 -1.762462 -0.948054          6  0.917564   3.647107         1   \n",
       "\n",
       "     segment  visible  id  face_o  opposite    height       rho        vol  \\\n",
       "face                                                                         \n",
       "0     apical     True   0       0        -1  4.999044  8.999044  28.741082   \n",
       "1     apical     True   0       0        -1  4.999044  8.999044  28.741082   \n",
       "2     apical     True   0       0        -1  4.999044  8.999044  28.741082   \n",
       "3     apical     True   0       0        -1  4.999044  8.999044  28.741082   \n",
       "4     apical     True   0       0        -1  4.999044  8.999044  28.741082   \n",
       "\n",
       "           phi    theta  weight  cell  \n",
       "face                                   \n",
       "0     2.191955 -0.10952     1.0     0  \n",
       "1     2.191955 -0.10952     1.0     1  \n",
       "2     2.191955 -0.10952     1.0     2  \n",
       "3     2.191955 -0.10952     1.0     3  \n",
       "4     2.191955 -0.10952     1.0     4  "
      ]
     },
     "execution_count": 8,
     "metadata": {},
     "output_type": "execute_result"
    }
   ],
   "source": [
    "follicle.face_df.head() # pandas DataFrame"
   ]
  },
  {
   "cell_type": "code",
   "execution_count": 9,
   "metadata": {},
   "outputs": [
    {
     "data": {
      "text/html": [
       "<div>\n",
       "<style scoped>\n",
       "    .dataframe tbody tr th:only-of-type {\n",
       "        vertical-align: middle;\n",
       "    }\n",
       "\n",
       "    .dataframe tbody tr th {\n",
       "        vertical-align: top;\n",
       "    }\n",
       "\n",
       "    .dataframe thead th {\n",
       "        text-align: right;\n",
       "    }\n",
       "</style>\n",
       "<table border=\"1\" class=\"dataframe\">\n",
       "  <thead>\n",
       "    <tr style=\"text-align: right;\">\n",
       "      <th></th>\n",
       "      <th>x</th>\n",
       "      <th>y</th>\n",
       "      <th>z</th>\n",
       "      <th>is_alive</th>\n",
       "      <th>area</th>\n",
       "      <th>vol</th>\n",
       "      <th>num_faces</th>\n",
       "      <th>id</th>\n",
       "      <th>num_ridges</th>\n",
       "      <th>vol_elasticity</th>\n",
       "      <th>prefered_vol</th>\n",
       "      <th>area_elasticity</th>\n",
       "      <th>prefered_area</th>\n",
       "      <th>weighted_area</th>\n",
       "    </tr>\n",
       "    <tr>\n",
       "      <th>cell</th>\n",
       "      <th></th>\n",
       "      <th></th>\n",
       "      <th></th>\n",
       "      <th></th>\n",
       "      <th></th>\n",
       "      <th></th>\n",
       "      <th></th>\n",
       "      <th></th>\n",
       "      <th></th>\n",
       "      <th></th>\n",
       "      <th></th>\n",
       "      <th></th>\n",
       "      <th></th>\n",
       "      <th></th>\n",
       "    </tr>\n",
       "  </thead>\n",
       "  <tbody>\n",
       "    <tr>\n",
       "      <th>0</th>\n",
       "      <td>-2.492838</td>\n",
       "      <td>3.586443</td>\n",
       "      <td>-0.470121</td>\n",
       "      <td>1</td>\n",
       "      <td>5.155824</td>\n",
       "      <td>0.797746</td>\n",
       "      <td>8</td>\n",
       "      <td>0</td>\n",
       "      <td>36</td>\n",
       "      <td>1.0</td>\n",
       "      <td>1.0</td>\n",
       "      <td>0.1</td>\n",
       "      <td>4.6</td>\n",
       "      <td>5.155824</td>\n",
       "    </tr>\n",
       "    <tr>\n",
       "      <th>1</th>\n",
       "      <td>-2.336958</td>\n",
       "      <td>3.677415</td>\n",
       "      <td>0.626215</td>\n",
       "      <td>1</td>\n",
       "      <td>5.142151</td>\n",
       "      <td>0.799392</td>\n",
       "      <td>8</td>\n",
       "      <td>1</td>\n",
       "      <td>36</td>\n",
       "      <td>1.0</td>\n",
       "      <td>1.0</td>\n",
       "      <td>0.1</td>\n",
       "      <td>4.6</td>\n",
       "      <td>5.142151</td>\n",
       "    </tr>\n",
       "    <tr>\n",
       "      <th>2</th>\n",
       "      <td>-1.554658</td>\n",
       "      <td>4.119677</td>\n",
       "      <td>-0.108503</td>\n",
       "      <td>1</td>\n",
       "      <td>5.151117</td>\n",
       "      <td>0.799196</td>\n",
       "      <td>8</td>\n",
       "      <td>2</td>\n",
       "      <td>36</td>\n",
       "      <td>1.0</td>\n",
       "      <td>1.0</td>\n",
       "      <td>0.1</td>\n",
       "      <td>4.6</td>\n",
       "      <td>5.151117</td>\n",
       "    </tr>\n",
       "    <tr>\n",
       "      <th>3</th>\n",
       "      <td>4.176763</td>\n",
       "      <td>-1.264469</td>\n",
       "      <td>-0.319900</td>\n",
       "      <td>1</td>\n",
       "      <td>5.121339</td>\n",
       "      <td>0.783358</td>\n",
       "      <td>7</td>\n",
       "      <td>3</td>\n",
       "      <td>30</td>\n",
       "      <td>1.0</td>\n",
       "      <td>1.0</td>\n",
       "      <td>0.1</td>\n",
       "      <td>4.6</td>\n",
       "      <td>5.121339</td>\n",
       "    </tr>\n",
       "    <tr>\n",
       "      <th>4</th>\n",
       "      <td>3.827693</td>\n",
       "      <td>-1.904068</td>\n",
       "      <td>-1.037800</td>\n",
       "      <td>1</td>\n",
       "      <td>5.134322</td>\n",
       "      <td>0.799779</td>\n",
       "      <td>8</td>\n",
       "      <td>4</td>\n",
       "      <td>36</td>\n",
       "      <td>1.0</td>\n",
       "      <td>1.0</td>\n",
       "      <td>0.1</td>\n",
       "      <td>4.6</td>\n",
       "      <td>5.134322</td>\n",
       "    </tr>\n",
       "  </tbody>\n",
       "</table>\n",
       "</div>"
      ],
      "text/plain": [
       "             x         y         z  is_alive      area       vol  num_faces  \\\n",
       "cell                                                                          \n",
       "0    -2.492838  3.586443 -0.470121         1  5.155824  0.797746          8   \n",
       "1    -2.336958  3.677415  0.626215         1  5.142151  0.799392          8   \n",
       "2    -1.554658  4.119677 -0.108503         1  5.151117  0.799196          8   \n",
       "3     4.176763 -1.264469 -0.319900         1  5.121339  0.783358          7   \n",
       "4     3.827693 -1.904068 -1.037800         1  5.134322  0.799779          8   \n",
       "\n",
       "      id  num_ridges  vol_elasticity  prefered_vol  area_elasticity  \\\n",
       "cell                                                                  \n",
       "0      0          36             1.0           1.0              0.1   \n",
       "1      1          36             1.0           1.0              0.1   \n",
       "2      2          36             1.0           1.0              0.1   \n",
       "3      3          30             1.0           1.0              0.1   \n",
       "4      4          36             1.0           1.0              0.1   \n",
       "\n",
       "      prefered_area  weighted_area  \n",
       "cell                                \n",
       "0               4.6       5.155824  \n",
       "1               4.6       5.142151  \n",
       "2               4.6       5.151117  \n",
       "3               4.6       5.121339  \n",
       "4               4.6       5.134322  "
      ]
     },
     "execution_count": 9,
     "metadata": {},
     "output_type": "execute_result"
    }
   ],
   "source": [
    "follicle.cell_df.head() # pandas DataFrame"
   ]
  },
  {
   "cell_type": "code",
   "execution_count": null,
   "metadata": {},
   "outputs": [],
   "source": [
    "follicle.cell_df.loc[follicle.cell_df[\"z\"]>0, \"vol_elasticty\"] = 2.0"
   ]
  },
  {
   "cell_type": "code",
   "execution_count": 15,
   "metadata": {},
   "outputs": [
    {
     "data": {
      "text/plain": [
       "face\n",
       "432    -2.029808\n",
       "433    -3.176828\n",
       "434     2.448445\n",
       "435    -2.541315\n",
       "436     2.573332\n",
       "          ...   \n",
       "1711   -4.114660\n",
       "1712   -3.100590\n",
       "1713   -3.936890\n",
       "1714    0.238389\n",
       "1715   -0.188989\n",
       "Name: x, Length: 1284, dtype: float64"
      ]
     },
     "execution_count": 15,
     "metadata": {},
     "output_type": "execute_result"
    }
   ],
   "source": [
    "follicle.face_df.loc[follicle.lateral_faces, \"x\"]"
   ]
  },
  {
   "cell_type": "code",
   "execution_count": 18,
   "metadata": {},
   "outputs": [
    {
     "data": {
      "text/html": [
       "<div>\n",
       "<style scoped>\n",
       "    .dataframe tbody tr th:only-of-type {\n",
       "        vertical-align: middle;\n",
       "    }\n",
       "\n",
       "    .dataframe tbody tr th {\n",
       "        vertical-align: top;\n",
       "    }\n",
       "\n",
       "    .dataframe thead th {\n",
       "        text-align: right;\n",
       "    }\n",
       "</style>\n",
       "<table border=\"1\" class=\"dataframe\">\n",
       "  <thead>\n",
       "    <tr style=\"text-align: right;\">\n",
       "      <th></th>\n",
       "      <th>srce</th>\n",
       "      <th>trgt</th>\n",
       "      <th>face</th>\n",
       "      <th>cell</th>\n",
       "    </tr>\n",
       "    <tr>\n",
       "      <th>edge</th>\n",
       "      <th></th>\n",
       "      <th></th>\n",
       "      <th></th>\n",
       "      <th></th>\n",
       "    </tr>\n",
       "  </thead>\n",
       "  <tbody>\n",
       "    <tr>\n",
       "      <th>0</th>\n",
       "      <td>172</td>\n",
       "      <td>171</td>\n",
       "      <td>0</td>\n",
       "      <td>0</td>\n",
       "    </tr>\n",
       "    <tr>\n",
       "      <th>1</th>\n",
       "      <td>208</td>\n",
       "      <td>318</td>\n",
       "      <td>143</td>\n",
       "      <td>143</td>\n",
       "    </tr>\n",
       "    <tr>\n",
       "      <th>2</th>\n",
       "      <td>3</td>\n",
       "      <td>147</td>\n",
       "      <td>71</td>\n",
       "      <td>71</td>\n",
       "    </tr>\n",
       "    <tr>\n",
       "      <th>3</th>\n",
       "      <td>412</td>\n",
       "      <td>411</td>\n",
       "      <td>144</td>\n",
       "      <td>144</td>\n",
       "    </tr>\n",
       "    <tr>\n",
       "      <th>4</th>\n",
       "      <td>13</td>\n",
       "      <td>3</td>\n",
       "      <td>71</td>\n",
       "      <td>71</td>\n",
       "    </tr>\n",
       "  </tbody>\n",
       "</table>\n",
       "</div>"
      ],
      "text/plain": [
       "     srce trgt  face  cell\n",
       "edge                      \n",
       "0     172  171     0     0\n",
       "1     208  318   143   143\n",
       "2       3  147    71    71\n",
       "3     412  411   144   144\n",
       "4      13    3    71    71"
      ]
     },
     "execution_count": 18,
     "metadata": {},
     "output_type": "execute_result"
    }
   ],
   "source": [
    "follicle.edge_df[[\"srce\", \"trgt\", \"face\", \"cell\"]].head()"
   ]
  },
  {
   "cell_type": "code",
   "execution_count": 23,
   "metadata": {},
   "outputs": [
    {
     "data": {
      "text/plain": [
       "edge\n",
       "6184    10\n",
       "6185    10\n",
       "6186    10\n",
       "6187    10\n",
       "Name: cell, dtype: int64"
      ]
     },
     "execution_count": 23,
     "metadata": {},
     "output_type": "execute_result"
    }
   ],
   "source": [
    "face = 1336\n",
    "follicle.edge_df.loc[follicle.edge_df[\"face\"]==face, 'cell']"
   ]
  },
  {
   "cell_type": "markdown",
   "metadata": {},
   "source": [
    "#### 3D vizualisation"
   ]
  },
  {
   "cell_type": "code",
   "execution_count": 24,
   "metadata": {},
   "outputs": [
    {
     "data": {
      "application/vnd.jupyter.widget-view+json": {
       "model_id": "2d28fb5578134243ace717c626a45189",
       "version_major": 2,
       "version_minor": 0
      },
      "text/plain": [
       "Figure(camera=PerspectiveCamera(fov=46.0, position=(0.0, 0.0, 2.0), projectionMatrix=(1.0, 0.0, 0.0, 0.0, 0.0,…"
      ]
     },
     "metadata": {},
     "output_type": "display_data"
    }
   ],
   "source": [
    "draw_specs = {\n",
    "    'edge': {\n",
    "        'visible': False,\n",
    "    },\n",
    "    'face': {\n",
    "        'visible': True,\n",
    "        'color': lambda sheet: sheet.face_df['area']\n",
    "    },\n",
    "}\n",
    "\n",
    "ipv.clear()\n",
    "\n",
    "# filter visible cells\n",
    "\n",
    "follicle.face_df['visible'] = (\n",
    "    (follicle.face_df['y'] > 0)\n",
    "    | (follicle.face_df['x'] > 0)\n",
    ")\n",
    "\n",
    "fig, mesh = sheet_view(follicle, mode=\"3D\", **draw_specs)\n",
    "fig"
   ]
  },
  {
   "cell_type": "markdown",
   "metadata": {},
   "source": [
    "## Contractility gradient\n",
    "\n",
    "The contractility gradient is modeled as an increase in the cells apical face _weight_"
   ]
  },
  {
   "cell_type": "code",
   "execution_count": 26,
   "metadata": {},
   "outputs": [],
   "source": [
    "polar_cells = get_polar_cells(follicle)\n",
    "update_gradient(follicle, polar_cells, amp=6, span=3) # amp and span are critical parameters"
   ]
  },
  {
   "cell_type": "code",
   "execution_count": 36,
   "metadata": {},
   "outputs": [
    {
     "data": {
      "image/png": "[encoded data removed]",
      "text/plain": [
       "<Figure size 864x576 with 1 Axes>"
      ]
     },
     "metadata": {
      "needs_background": "light"
     },
     "output_type": "display_data"
    }
   ],
   "source": [
    "\n",
    "fig, ax = plt.subplots()\n",
    "ax.plot(\n",
    "    follicle.face_df.loc[follicle.apical_faces, \"z\"],\n",
    "    follicle.face_df.loc[follicle.apical_faces, \"weight\"],\n",
    "    'o',\n",
    "    label=\"cells apical face\"\n",
    ")\n",
    "ax.plot(\n",
    "    follicle.face_df.loc[follicle.basal_faces, \"z\"],\n",
    "    follicle.face_df.loc[follicle.basal_faces, \"weight\"],\n",
    "    'o',\n",
    "    label=\"cells basal face\"\n",
    ")\n",
    "\n",
    "ax.set_xlabel(\"Position along the P-D axis\")\n",
    "ax.set_ylabel(\"Face weight\")\n",
    "l = ax.legend()\n"
   ]
  },
  {
   "cell_type": "code",
   "execution_count": 29,
   "metadata": {
    "scrolled": false
   },
   "outputs": [
    {
     "data": {
      "application/vnd.jupyter.widget-view+json": {
       "model_id": "e084f4b7933c42f4aaf527da887b2523",
       "version_major": 2,
       "version_minor": 0
      },
      "text/plain": [
       "Figure(camera=PerspectiveCamera(fov=46.0, position=(0.0, 0.0, 2.0), projectionMatrix=(1.0, 0.0, 0.0, 0.0, 0.0,…"
      ]
     },
     "metadata": {},
     "output_type": "display_data"
    }
   ],
   "source": [
    "\n",
    "ipv.clear()\n",
    "follicle.face_df['visible'] = True\n",
    "follicle.face_df.loc[follicle.basal_faces, 'visible'] = False\n",
    "\n",
    "draw_specs = {\n",
    "    'edge': {\n",
    "        'visible': False,\n",
    "    },\n",
    "    'face': {\n",
    "        'visible': True,\n",
    "        'color': lambda sheet: sheet.face_df['weight']\n",
    "    },\n",
    "}\n",
    "\n",
    "fig, mesh = sheet_view(follicle, mode=\"3D\", **draw_specs)\n",
    "fig"
   ]
  },
  {
   "cell_type": "markdown",
   "metadata": {},
   "source": [
    "### Initial quasistatic equilibrium with the chosen gradient parameters"
   ]
  },
  {
   "cell_type": "code",
   "execution_count": 53,
   "metadata": {},
   "outputs": [
    {
     "name": "stdout",
     "output_type": "stream",
     "text": [
      "CONVERGENCE: REL_REDUCTION_OF_F_<=_FACTR*EPSMCH\n"
     ]
    }
   ],
   "source": [
    "quasistatic_solve = True\n",
    "\n",
    "if quasistatic_solve:\n",
    "    solver = QSSolver()\n",
    "    res = solver.find_energy_min(follicle, geom, model)\n",
    "    print(res.message)\n"
   ]
  },
  {
   "cell_type": "code",
   "execution_count": 49,
   "metadata": {},
   "outputs": [],
   "source": [
    "ante, post = get_polar_cells(follicle)\n"
   ]
  },
  {
   "cell_type": "code",
   "execution_count": 50,
   "metadata": {},
   "outputs": [],
   "source": [
    "from tyssue.topology.monolayer_topology import cell_division"
   ]
  },
  {
   "cell_type": "code",
   "execution_count": 51,
   "metadata": {},
   "outputs": [
    {
     "data": {
      "text/plain": [
       "217"
      ]
     },
     "execution_count": 51,
     "metadata": {},
     "output_type": "execute_result"
    }
   ],
   "source": [
    "cell_division(follicle, ante, orientation=\"apical\")\n",
    "cell_division(follicle, post, orientation=\"apical\")\n"
   ]
  },
  {
   "cell_type": "code",
   "execution_count": null,
   "metadata": {},
   "outputs": [],
   "source": []
  },
  {
   "cell_type": "code",
   "execution_count": 54,
   "metadata": {
    "scrolled": false
   },
   "outputs": [
    {
     "data": {
      "application/vnd.jupyter.widget-view+json": {
       "model_id": "126f7a1d8a614c56bf5c8cdfb77d4fd5",
       "version_major": 2,
       "version_minor": 0
      },
      "text/plain": [
       "Figure(camera=PerspectiveCamera(fov=46.0, position=(0.0, 0.0, 2.0), projectionMatrix=(1.0, 0.0, 0.0, 0.0, 0.0,…"
      ]
     },
     "metadata": {},
     "output_type": "display_data"
    }
   ],
   "source": [
    "draw_specs = {\n",
    "    'edge': {\n",
    "        'visible': False,\n",
    "    },\n",
    "    'face': {\n",
    "        'visible': True,\n",
    "        'color': lambda sheet: sheet.face_df['area']\n",
    "    },\n",
    "}\n",
    "\n",
    "follicle.face_df['visible'] = (\n",
    "    (follicle.face_df['y'] > 0)\n",
    "    | (follicle.face_df['x'] > 0)\n",
    ")\n",
    "ipv.clear()\n",
    "fig, mesh = sheet_view(follicle, mode=\"3D\", **draw_specs)\n",
    "fig"
   ]
  },
  {
   "cell_type": "code",
   "execution_count": 37,
   "metadata": {},
   "outputs": [
    {
     "data": {
      "image/png": "[encoded data removed]",
      "text/plain": [
       "<Figure size 864x576 with 1 Axes>"
      ]
     },
     "metadata": {
      "needs_background": "light"
     },
     "output_type": "display_data"
    }
   ],
   "source": [
    "fig, ax = plt.subplots()\n",
    "ax.plot(\n",
    "    follicle.face_df.loc[follicle.apical_faces, \"z\"],\n",
    "    follicle.face_df.loc[follicle.apical_faces, \"area\"],\n",
    "    'o',\n",
    "    label=\"cells apical face\"\n",
    ")\n",
    "ax.plot(\n",
    "    follicle.face_df.loc[follicle.basal_faces, \"z\"],\n",
    "    follicle.face_df.loc[follicle.basal_faces, \"area\"],\n",
    "    'o',\n",
    "    label=\"cells basal face\"\n",
    ")\n",
    "\n",
    "ax.set_xlabel(\"Position along the P-D axis\")\n",
    "ax.set_ylabel(\"Face area\")\n",
    "l = ax.legend()"
   ]
  },
  {
   "cell_type": "markdown",
   "metadata": {},
   "source": [
    "### More detailed viewer"
   ]
  },
  {
   "cell_type": "code",
   "execution_count": 46,
   "metadata": {},
   "outputs": [
    {
     "data": {
      "application/vnd.jupyter.widget-view+json": {
       "model_id": "cc8b4902d0a7448595ccc213a23e074e",
       "version_major": 2,
       "version_minor": 0
      },
      "text/plain": [
       "MonolayerView(children=(Figure(camera=PerspectiveCamera(fov=46.0, position=(0.0, 0.0, 2.0), projectionMatrix=(…"
      ]
     },
     "metadata": {},
     "output_type": "display_data"
    }
   ],
   "source": [
    "follicle.face_df['visible'] = follicle.face_df['segment'] == \"apical\"\n",
    "MonolayerView(follicle, **draw_specs)"
   ]
  },
  {
   "cell_type": "markdown",
   "metadata": {},
   "source": [
    "## Cell division and dynamic model"
   ]
  },
  {
   "cell_type": "markdown",
   "metadata": {},
   "source": [
    "$$\n",
    "\\ln(V_\\mathrm{lum})(t) = a + k_V t\\\\\n",
    "V_\\mathrm{lum}(t) = V_0 e^{k_V t}\n",
    "$$\n",
    "\n"
   ]
  },
  {
   "cell_type": "code",
   "execution_count": 41,
   "metadata": {},
   "outputs": [],
   "source": [
    "follicle.update_specs(\n",
    "    {'settings':\n",
    "     {\n",
    "        # Critical length to trigger rearangements\n",
    "        \"threshold_length\": 1e-2,\n",
    "        # Frequency of rearangements\n",
    "        \"p_4\": 0.1,\n",
    "        \"p_5+\": 0.01,\n",
    "    },\n",
    "    'vert': {\n",
    "        \"viscosity\": 0.1\n",
    "    },\n",
    "})\n",
    "\n",
    "follicle.cell_df[\"id\"] = follicle.cell_df.index\n",
    "polar_cells_ids = tuple(follicle.cell_df.loc[list(polar_cells), \"id\"])\n",
    "\n",
    "parameters = {\n",
    "    \"amp\": 6,\n",
    "    \"span\": 3,\n",
    "    \"growth_rate\": 0.01,\n",
    "    \"growth_noise\": 0.01,\n",
    "    \"orientation\": \"apical\", # or \"vertical\"\n",
    "    \"critical_vol\": 1.4,\n",
    "    \"autonomous\": True,\n",
    "    \"polar_cells_ids\": polar_cells_ids,\n",
    "    \"lumen_growth_rate\": 0.014\n",
    "}\n",
    "    \n",
    "base_dir = Path(\"../data\")\n",
    "time_stamp = datetime.today().strftime(\"%y-%m-%d-%H-%M-%S\")\n",
    "history_file = Path(f\"hist2D_{time_stamp}.hf5\")\n",
    "\n",
    "# We take the time unit as 1/100th of a development stage\n",
    "dt = 1e-2\n",
    "time_span = 3\n",
    "\n",
    "progress = FloatProgress(min=0, max=time_span)\n",
    "solver = get_solver(\n",
    "    follicle,\n",
    "    model,\n",
    "    dt,\n",
    "    base_dir,\n",
    "    history_file,\n",
    "    parameters,\n",
    "    save_interval=dt*10)\n",
    "    \n",
    "def update_progress(mono, manager):\n",
    "    progress.value = manager.clock * dt\n",
    "    manager.append(update_progress)\n",
    "    \n",
    "solver.manager.append(update_progress)"
   ]
  },
  {
   "cell_type": "markdown",
   "metadata": {},
   "source": [
    "The created solver resolves the system of first order differential equations:\n",
    "\n",
    "$$\\eta v = \\sum F $$\n",
    "\n",
    "Where the forces are computed as the opposite of the gradients from the model\n"
   ]
  },
  {
   "cell_type": "code",
   "execution_count": 47,
   "metadata": {
    "scrolled": true
   },
   "outputs": [
    {
     "data": {
      "application/vnd.jupyter.widget-view+json": {
       "model_id": "d31b6638b35c4413b3495742dd8bfbcc",
       "version_major": 2,
       "version_minor": 0
      },
      "text/plain": [
       "VBox(children=(FloatProgress(value=1.5, max=3.0), LogWidget(value='')))"
      ]
     },
     "metadata": {},
     "output_type": "display_data"
    }
   ],
   "source": [
    "log_widget = LogWidget()\n",
    "handler = logging.StreamHandler(log_widget)\n",
    "handler.setLevel(\"INFO\")\n",
    "logger.addHandler(handler)\n",
    "\n",
    "\n",
    "widgets.VBox([progress, log_widget])"
   ]
  },
  {
   "cell_type": "code",
   "execution_count": 48,
   "metadata": {
    "scrolled": true
   },
   "outputs": [],
   "source": [
    "solver.solve(time_span, dt)"
   ]
  },
  {
   "cell_type": "code",
   "execution_count": 45,
   "metadata": {
    "scrolled": false
   },
   "outputs": [
    {
     "data": {
      "application/vnd.jupyter.widget-view+json": {
       "model_id": "c8ea9af4cf3e421e93eec4912b98cf80",
       "version_major": 2,
       "version_minor": 0
      },
      "text/plain": [
       "VBox(children=(Figure(camera=PerspectiveCamera(fov=46.0, position=(0.0, 0.0, 2.0), projectionMatrix=(1.0, 0.0,…"
      ]
     },
     "metadata": {},
     "output_type": "display_data"
    },
    {
     "data": {
      "application/vnd.jupyter.widget-view+json": {
       "model_id": "3079dec3fb234eefa72bec7137b64876",
       "version_major": 2,
       "version_minor": 0
      },
      "text/plain": [
       "interactive(children=(IntSlider(value=0, description='i', max=14), Output()), _dom_classes=('widget-interact',…"
      ]
     },
     "metadata": {},
     "output_type": "display_data"
    }
   ],
   "source": [
    "draw_specs[\"edge\"][\"visible\"] = True\n",
    "\n",
    "\n",
    "browse_history(solver.history, **draw_specs)\n"
   ]
  },
  {
   "cell_type": "markdown",
   "metadata": {},
   "source": [
    "## Demo of cell division oriented by apical vertices"
   ]
  },
  {
   "cell_type": "code",
   "execution_count": null,
   "metadata": {},
   "outputs": [],
   "source": [
    "qssolver = QSSolver()\n",
    "res = qssolver.find_energy_min(solver.eptm, geom, model)"
   ]
  },
  {
   "cell_type": "code",
   "execution_count": null,
   "metadata": {},
   "outputs": [],
   "source": []
  },
  {
   "cell_type": "code",
   "execution_count": null,
   "metadata": {},
   "outputs": [],
   "source": [
    "from tyssue.utils import single_cell\n",
    "from tyssue import MonolayerGeometry as mgeom\n",
    "from tyssue.topology.monolayer_topology import cell_division\n",
    "\n",
    "scell = single_cell(follicle, 9, copy=True)\n",
    "\n",
    "mgeom.center(scell)\n",
    "mgeom.update_all(scell)\n",
    "\n",
    "apical_verts = scell.vert_df.loc[scell.vert_df[\"segment\"]==\"apical\"]\n",
    "\n",
    "u, s, vh = np.linalg.svd(apical_verts[scell.coords])\n",
    "\n",
    "cell_division(scell, 0, orientation=\"apical\")\n",
    "\n",
    "ipv.clear()\n",
    "fig, mesh = sheet_view(scell, mode=\"3D\")\n",
    "colors = [\"red\", \"green\", \"blue\"]\n",
    "lines = [\n",
    "    ipv.plot(\n",
    "        x=[0, s[i]*vh[i, 0]],\n",
    "        y=[0, s[i]*vh[i, 1]],\n",
    "        z=[0, s[i]*vh[i, 2]],\n",
    "        color=colors[i]\n",
    "    )\n",
    "    for i in range(3)\n",
    "]\n",
    "fig"
   ]
  },
  {
   "cell_type": "code",
   "execution_count": null,
   "metadata": {},
   "outputs": [],
   "source": []
  }
 ],
 "metadata": {
  "kernelspec": {
   "display_name": "Python 3",
   "language": "python",
   "name": "python3"
  },
  "language_info": {
   "codemirror_mode": {
    "name": "ipython",
    "version": 3
   },
   "file_extension": ".py",
   "mimetype": "text/x-python",
   "name": "python",
   "nbconvert_exporter": "python",
   "pygments_lexer": "ipython3",
   "version": "3.9.1"
  }
 },
 "nbformat": 4,
 "nbformat_minor": 2
}
