{
 "cells": [
  {
   "cell_type": "code",
   "execution_count": 1,
   "metadata": {},
   "outputs": [],
   "source": [
    "from datetime import datetime\n",
    "\n",
    "import numpy as np\n",
    "import pandas as pd\n",
    "import matplotlib.pyplot as plt\n",
    "%matplotlib inline\n",
    "\n",
    "import ipyvolume as ipv\n",
    "from ipywidgets import FloatProgress\n",
    "from IPython.display import display, Image\n",
    "\n",
    "from tyssue import HistoryHdf5, EventManager\n",
    "\n",
    "from tyssue.draw import sheet_view, browse_history\n",
    "from tyssue.geometry.bulk_geometry import ClosedMonolayerGeometry as geom\n",
    "from tyssue.io import hdf5\n",
    "from tyssue.dynamics import model_factory, effectors\n",
    "from tyssue.generation.shapes import spherical_monolayer\n",
    "\n",
    "from tyssue.behaviors import EventManager\n",
    "from tyssue.behaviors import increase, decrease, reconnect\n",
    "from tyssue.solvers.viscous import EulerSolver\n",
    "from tyssue.utils.decorators import face_lookup\n",
    "\n",
    "\n",
    "from tyssue.draw import highlight_faces, create_gif\n",
    "from tyssue.solvers.quasistatic import QSSolver\n",
    "\n",
    "\n",
    "from tyssue import HistoryHdf5\n",
    "\n",
    "\n",
    "\n",
    "from pathlib import Path\n",
    "\n",
    "from tyssue.utils.decorators import cell_lookup\n",
    "from tyssue.topology.monolayer_topology import cell_division\n"
   ]
  },
  {
   "cell_type": "markdown",
   "metadata": {},
   "source": [
    "Reference: https://elifesciences.org/articles/32943\n",
    "\n",
    "\n",
    "It is conveninent to consider that cells have an average volume of 1\n",
    "\n",
    "\n",
    "| stade  | nombe de cellules | volume interne (μm3) |\n",
    "| ------ | --------- | ---------- |\n",
    "| 3 | 120 | 181008 |\n",
    "| 4 | 200 | 670400 |\n",
    "| 5 | 400 | 3352000 | \n",
    "| 6 | 700 | 12318600 | "
   ]
  },
  {
   "cell_type": "markdown",
   "metadata": {},
   "source": [
    "## Experimental data"
   ]
  },
  {
   "cell_type": "code",
   "execution_count": 2,
   "metadata": {},
   "outputs": [
    {
     "data": {
      "text/html": [
       "<div>\n",
       "<style scoped>\n",
       "    .dataframe tbody tr th:only-of-type {\n",
       "        vertical-align: middle;\n",
       "    }\n",
       "\n",
       "    .dataframe tbody tr th {\n",
       "        vertical-align: top;\n",
       "    }\n",
       "\n",
       "    .dataframe thead th {\n",
       "        text-align: right;\n",
       "    }\n",
       "</style>\n",
       "<table border=\"1\" class=\"dataframe\">\n",
       "  <thead>\n",
       "    <tr style=\"text-align: right;\">\n",
       "      <th></th>\n",
       "      <th>Nc</th>\n",
       "      <th>lumen_vol</th>\n",
       "    </tr>\n",
       "    <tr>\n",
       "      <th>stage</th>\n",
       "      <th></th>\n",
       "      <th></th>\n",
       "    </tr>\n",
       "  </thead>\n",
       "  <tbody>\n",
       "    <tr>\n",
       "      <th>3</th>\n",
       "      <td>12</td>\n",
       "      <td>181000</td>\n",
       "    </tr>\n",
       "    <tr>\n",
       "      <th>4</th>\n",
       "      <td>200</td>\n",
       "      <td>670400</td>\n",
       "    </tr>\n",
       "    <tr>\n",
       "      <th>5</th>\n",
       "      <td>400</td>\n",
       "      <td>3352000</td>\n",
       "    </tr>\n",
       "    <tr>\n",
       "      <th>6</th>\n",
       "      <td>700</td>\n",
       "      <td>12318600</td>\n",
       "    </tr>\n",
       "  </tbody>\n",
       "</table>\n",
       "</div>"
      ],
      "text/plain": [
       "        Nc  lumen_vol\n",
       "stage                \n",
       "3       12     181000\n",
       "4      200     670400\n",
       "5      400    3352000\n",
       "6      700   12318600"
      ]
     },
     "execution_count": 2,
     "metadata": {},
     "output_type": "execute_result"
    }
   ],
   "source": [
    "growth = pd.DataFrame(\n",
    "    data=[[12, 181000], [200, 670400], [400, 3352000], [700, 12318600]],\n",
    "    index=pd.Index([3, 4, 5, 6], name='stage'),\n",
    "    columns=['Nc', 'lumen_vol']\n",
    ")\n",
    "growth"
   ]
  },
  {
   "cell_type": "markdown",
   "metadata": {},
   "source": [
    "$$\n",
    "\\ln(V_\\mathrm{lum})(t) = a + k_V t\\\\\n",
    "V_\\mathrm{lum}(t) = V_0 e^{k_V t}\n",
    "$$\n",
    "\n"
   ]
  },
  {
   "cell_type": "code",
   "execution_count": 3,
   "metadata": {},
   "outputs": [
    {
     "data": {
      "image/png": "[encoded data removed]",
      "text/plain": [
       "<Figure size 432x288 with 2 Axes>"
      ]
     },
     "metadata": {
      "needs_background": "light"
     },
     "output_type": "display_data"
    }
   ],
   "source": [
    "fig, (ax_v, ax_c) = plt.subplots(2, sharex=True)\n",
    "\n",
    "ax_v.plot(growth.lumen_vol, '-o')\n",
    "ax_v.set_yscale('log')\n",
    "ax_v.set_ylabel('Lumen volume (µm)')\n",
    "\n",
    "ax_c.plot(growth.Nc, '-o')\n",
    "ax_c.set_yscale('log')\n",
    "ax_c.set_ylabel('Cell number')\n",
    "_ = ax_c.set_xlabel(\"stage\")\n"
   ]
  },
  {
   "cell_type": "code",
   "execution_count": 4,
   "metadata": {},
   "outputs": [
    {
     "name": "stdout",
     "output_type": "stream",
     "text": [
      "Lumen volume growth rate: 1.43\n",
      "Division rate: 1.29\n"
     ]
    }
   ],
   "source": [
    "kV, lnV0 = np.polyfit(growth.index, np.log(growth.lumen_vol), 1)\n",
    "\n",
    "print(f\"Lumen volume growth rate: {kV:.2f}\")\n",
    "\n",
    "kD, lnc0 = np.polyfit(growth.index, np.log(growth.Nc), 1)\n",
    "\n",
    "print(f\"Division rate: {kD:.2f}\")\n"
   ]
  },
  {
   "cell_type": "markdown",
   "metadata": {},
   "source": [
    "## Analytical model\n",
    "\n",
    "\n",
    "What parameters are needed to have nearly flat cells in the absence of line tension and polarized cells with it?\n",
    "\n",
    "\n",
    "Let's assume a spherical shell of inner radius $r_a$ and outer radius $r_b$ composed of $N_c$ identical cells.\n",
    "\n",
    "With surface tension only on apical faces, energy is:\n",
    "\n",
    "$$\n",
    "\\frac{K_L}{2}(\\frac{4\\pi}{3}r_a^3 - V^0_L)^2 \n",
    "+ N_c \\left(\\frac{K_\\mbox{c}}{2}(\\frac{4\\pi}{3N_c}(r_b^3 - r_a^3) - V^0_c)^2\n",
    "+ \\gamma_a \\frac{4\\pi}{N_c} r_a^2\\right)\n",
    "$$\n",
    "\n",
    "We choose the unit length such that $V^0_c = 1$\n",
    "\n",
    "Here the equilibrium is attained when \n",
    "\n",
    "1. the cells reach their equilibrium voume :\n",
    "\n",
    "$$\n",
    "\\frac{4\\pi}{3N_c}(r_b^3 - r_a^3) - 1 = 0\n",
    "$$\n",
    "\n",
    "So with $\\rho = r_b/r_a$:\n",
    "\n",
    "$$\n",
    "r_a = \\left(\\frac{3N_c}{4\\pi (\\rho^3 - 1)}\\right)^{1/3}\n",
    "$$\n",
    "\n",
    "2. Surface tension contraction of the lumen is compensated by lumen elasticity:\n",
    "\n",
    "$$\n",
    "\\frac{\\partial}{\\partial r_a}\\left(\\frac{K_L}{2}(\\frac{4\\pi}{3}r_a^3 - V^0_L)^2 \n",
    "+ \\gamma_a 4\\pi r_a^2)\\right) = 0\n",
    "$$\n",
    "\n",
    "$$\n",
    "\\begin{eqnarray}\n",
    "4\\pi r_a \\left(K_L  r_a (\\frac{4\\pi}{3}r_a^3 - V^0_L) + 2\\gamma_a \\right) &=& 0\\\\\n",
    "\\gamma_a = \\frac{K_L r_a}{2} (V_L^0 - \\frac{4}{3}\\pi r_a^3)\n",
    "\\end{eqnarray}\n",
    "$$\n",
    "\n",
    "\n",
    "\n",
    "\n",
    "Without surface tension (i.e. without myosin):\n",
    "\n",
    "$$\n",
    "V_L^0 = \\frac{4\\pi}{3}r_{a,0}^3 = N_c (\\rho_0^3 - 1)\n",
    "$$\n",
    "\n",
    "We know that without myosin cells are nearly flat, so we can set $\\rho_0 = 1.01$.\n",
    "\n",
    "With myosin, cells are cuboidal, so height is about 1, thus $\\rho = 2$.\n",
    "\n",
    "\n"
   ]
  },
  {
   "cell_type": "code",
   "execution_count": 5,
   "metadata": {},
   "outputs": [
    {
     "name": "stdout",
     "output_type": "stream",
     "text": [
      "prefered volume: 604.230\n"
     ]
    },
    {
     "data": {
      "image/png": "[encoded data removed]",
      "text/plain": [
       "<Figure size 432x288 with 1 Axes>"
      ]
     },
     "metadata": {
      "needs_background": "light"
     },
     "output_type": "display_data"
    }
   ],
   "source": [
    "def apical_rad(rho, Nc):\n",
    "    return (3 * Nc / (4*np.pi*(rho**3 - 1)))**(1/3)\n",
    "\n",
    "\n",
    "def surface_tension(r_a, Nc, rho0, K_L=1):\n",
    "    V_L0 = Nc / (rho0**3 - 1)\n",
    "    return K_L * r_a * (V_L0 - 4 * np.pi * r_a**3 / 3) / 2\n",
    "    \n",
    "\n",
    "Nc = 200\n",
    "rho0 = 1.1\n",
    "\n",
    "rhos = np.linspace(rho0, 1 + 2*Nc**(1/3), 1000)\n",
    "V_L0 = Nc / (rho0**3 - 1)\n",
    "print(f\"prefered volume: {V_L0:.3f}\")\n",
    "r_ac = (3 * V_L0 / (16 * np.pi))**(1/3)\n",
    "gamma_crit = surface_tension(r_ac, Nc, rho0)\n",
    "\n",
    "r_as = apical_rad(rhos, Nc)\n",
    "gammas = surface_tension(r_as, Nc, rho0)\n",
    "\n",
    "rho_cub = 2\n",
    "r_acub = apical_rad(rho_cub, Nc)\n",
    "gamma_cub = surface_tension(r_acub, Nc, rho0)\n",
    "\n",
    "r_bs = r_as * rhos\n",
    "fig, ax = plt.subplots()\n",
    "\n",
    "ax.plot(gammas, r_as, '-', label=\"Apical radius\", alpha=0.8, mfc='none')\n",
    "ax.plot(gammas, r_bs, '-', label=\"Basal radius\", alpha=0.8, mfc='none')\n",
    "ax.plot(gamma_cub, r_acub, 'ko', label='Cuboïdal cells')\n",
    "ax.vlines(gamma_crit, r_as.min(), r_as.max(), lw=1)\n",
    "\n",
    "ax.set_xlabel('Surface tension')\n",
    "ax.set_ylabel('Radius')\n",
    "\n",
    "ax.legend();"
   ]
  },
  {
   "cell_type": "markdown",
   "metadata": {},
   "source": [
    "## Follicle monolayer creation\n"
   ]
  },
  {
   "cell_type": "code",
   "execution_count": 6,
   "metadata": {},
   "outputs": [
    {
     "name": "stdout",
     "output_type": "stream",
     "text": [
      "Follicle has 217 cells\n"
     ]
    }
   ],
   "source": [
    "follicle = spherical_monolayer(9., 12., 200, apical='in')\n",
    "follicle.settings[\"lumen_side\"] = \"apical\"\n",
    "geom.update_all(follicle)\n",
    "geom.scale(follicle, follicle.cell_df.vol.mean()**(-1/3), list(\"xyz\"))\n",
    "geom.update_all(follicle)\n",
    "\n",
    "\n",
    "for df in follicle.datasets.values():\n",
    "    df.dropna(axis=1, how='any', inplace=True)\n",
    "\n",
    "print(f\"Follicle has {follicle.Nc} cells\")"
   ]
  },
  {
   "cell_type": "code",
   "execution_count": 7,
   "metadata": {},
   "outputs": [
    {
     "name": "stdout",
     "output_type": "stream",
     "text": [
      "{'lumen_side': 'apical', 'lumen_vol': 160.7663605436089}\n"
     ]
    }
   ],
   "source": [
    "print(follicle.settings)"
   ]
  },
  {
   "cell_type": "code",
   "execution_count": 8,
   "metadata": {},
   "outputs": [],
   "source": [
    "draw_specs = {\n",
    "    'edge': {\n",
    "        'visible': False,\n",
    "    },\n",
    "    'face': {\n",
    "        'visible': True,\n",
    "        'color': lambda sheet: sheet.face_df['area']\n",
    "    },\n",
    "}\n"
   ]
  },
  {
   "cell_type": "code",
   "execution_count": 9,
   "metadata": {},
   "outputs": [
    {
     "data": {
      "application/vnd.jupyter.widget-view+json": {
       "model_id": "d5d270c1d59843b7bb9daa504f4d898c",
       "version_major": 2,
       "version_minor": 0
      },
      "text/plain": [
       "Figure(camera=PerspectiveCamera(fov=46.0, position=(0.0, 0.0, 2.0), quaternion=(0.0, 0.0, 0.0, 1.0), scale=(1.…"
      ]
     },
     "metadata": {},
     "output_type": "display_data"
    }
   ],
   "source": [
    "ipv.clear()\n",
    "follicle.face_df['visible'] = (follicle.face_df['y'] > 0) | (follicle.face_df['x'] > 0)\n",
    "fig, mesh = sheet_view(follicle, mode=\"3D\", **draw_specs)\n",
    "fig"
   ]
  },
  {
   "cell_type": "code",
   "execution_count": 10,
   "metadata": {},
   "outputs": [],
   "source": [
    "bck0 = follicle.copy()"
   ]
  },
  {
   "cell_type": "code",
   "execution_count": 11,
   "metadata": {},
   "outputs": [
    {
     "name": "stderr",
     "output_type": "stream",
     "text": [
      "Reseting column is_alive of the cell dataset with new specs\n",
      "Reseting column is_alive of the face dataset with new specs\n"
     ]
    }
   ],
   "source": [
    "follicle = bck0.copy()\n",
    "\n",
    "model = model_factory([\n",
    "    effectors.LumenVolumeElasticity,\n",
    "    effectors.SurfaceTension,\n",
    "    effectors.CellVolumeElasticity,\n",
    "    ])\n",
    "\n",
    "\n",
    "\n",
    "specs = {\n",
    "    'cell': {\n",
    "        'is_alive': 1,\n",
    "        'vol_elasticity': 100.0,\n",
    "        'prefered_vol': 1.0\n",
    "    },\n",
    "    'face': {\n",
    "        'is_alive': 1,\n",
    "        'surface_tension': 1.0,\n",
    "    },\n",
    "    'settings': {\n",
    "        'lumen_vol_elasticity': 1.,\n",
    "        'lumen_prefered_vol': V_L0,\n",
    "    }\n",
    "}\n",
    "\n",
    "follicle.update_specs(specs, reset=True)\n",
    "\n"
   ]
  },
  {
   "cell_type": "code",
   "execution_count": 12,
   "metadata": {},
   "outputs": [
    {
     "data": {
      "text/plain": [
       "{'lumen_side': 'apical',\n",
       " 'lumen_vol': 160.7663605436089,\n",
       " 'lumen_vol_elasticity': 1.0,\n",
       " 'lumen_prefered_vol': 604.2296072507545}"
      ]
     },
     "execution_count": 12,
     "metadata": {},
     "output_type": "execute_result"
    }
   ],
   "source": [
    "follicle.settings"
   ]
  },
  {
   "cell_type": "code",
   "execution_count": 13,
   "metadata": {},
   "outputs": [
    {
     "name": "stdout",
     "output_type": "stream",
     "text": [
      "b'CONVERGENCE: REL_REDUCTION_OF_F_<=_FACTR*EPSMCH'\n"
     ]
    }
   ],
   "source": [
    "solver = QSSolver()\n",
    "res = solver.find_energy_min(follicle, geom, model)\n",
    "print(res.message)\n",
    "\n"
   ]
  },
  {
   "cell_type": "code",
   "execution_count": 14,
   "metadata": {},
   "outputs": [
    {
     "data": {
      "application/vnd.jupyter.widget-view+json": {
       "model_id": "92930ed3afb541dcaabb5d2bc141c7fc",
       "version_major": 2,
       "version_minor": 0
      },
      "text/plain": [
       "Figure(camera=PerspectiveCamera(fov=46.0, position=(0.0, 0.0, 2.0), quaternion=(0.0, 0.0, 0.0, 1.0), scale=(1.…"
      ]
     },
     "metadata": {},
     "output_type": "display_data"
    }
   ],
   "source": [
    "ipv.clear()\n",
    "follicle.face_df['visible'] = (\n",
    "    (\n",
    "        (follicle.face_df['y'] > 0)\n",
    "        | (follicle.face_df['x'] > 0)\n",
    "    )\n",
    "    #& (follicle.face_df['segment'] == \"apical\")\n",
    ")\n",
    "# reset full visibility\n",
    "# follicle.face_df['visible'] = True\n",
    "fig, mesh = sheet_view(follicle, mode=\"3D\", **draw_specs)\n",
    "fig"
   ]
  },
  {
   "cell_type": "code",
   "execution_count": 16,
   "metadata": {},
   "outputs": [
    {
     "name": "stdout",
     "output_type": "stream",
     "text": [
      "rho :  1.10\n",
      "mean apical radius:  5.282\n"
     ]
    }
   ],
   "source": [
    "r_a = np.linalg.norm(follicle.vert_df.loc[follicle.apical_verts, ['x', 'y', 'z']], axis=1)\n",
    "r_b = np.linalg.norm(follicle.vert_df.loc[follicle.basal_verts, ['x', 'y', 'z']], axis=1)\n",
    "rho = r_b.mean()/r_a.mean()\n",
    "print(f\"rho : {rho: .2f}\")\n",
    "print(f\"mean apical radius: {r_a.mean(): .3f}\")"
   ]
  },
  {
   "cell_type": "code",
   "execution_count": 19,
   "metadata": {},
   "outputs": [],
   "source": [
    "#follicle.face_df['surface_tension'] = 10.0\n",
    "follicle.face_df.loc[follicle.apical_faces, 'surface_tension'] = 400.0\n"
   ]
  },
  {
   "cell_type": "code",
   "execution_count": null,
   "metadata": {},
   "outputs": [],
   "source": []
  },
  {
   "cell_type": "code",
   "execution_count": 20,
   "metadata": {},
   "outputs": [
    {
     "name": "stdout",
     "output_type": "stream",
     "text": [
      "b'CONVERGENCE: REL_REDUCTION_OF_F_<=_FACTR*EPSMCH'\n"
     ]
    }
   ],
   "source": [
    "solver = QSSolver()\n",
    "res = solver.find_energy_min(follicle, geom, model)\n",
    "print(res.message)\n"
   ]
  },
  {
   "cell_type": "code",
   "execution_count": 21,
   "metadata": {},
   "outputs": [
    {
     "data": {
      "application/vnd.jupyter.widget-view+json": {
       "model_id": "0fb9db17ca884984ab5617e349ae9fc7",
       "version_major": 2,
       "version_minor": 0
      },
      "text/plain": [
       "Figure(camera=PerspectiveCamera(fov=46.0, position=(0.0, 0.0, 2.0), quaternion=(0.0, 0.0, 0.0, 1.0), scale=(1.…"
      ]
     },
     "metadata": {},
     "output_type": "display_data"
    }
   ],
   "source": [
    "ipv.clear()\n",
    "follicle.face_df['visible'] = (\n",
    "    (\n",
    "        (follicle.face_df['y'] > 0)\n",
    "        | (follicle.face_df['x'] > 0)\n",
    "    )\n",
    "    #& (follicle.face_df['segment'] == \"apical\")\n",
    ")\n",
    "# reset full visibility\n",
    "# follicle.face_df['visible'] = True\n",
    "fig, mesh = sheet_view(follicle, mode=\"3D\", **draw_specs)\n",
    "fig"
   ]
  },
  {
   "cell_type": "code",
   "execution_count": 22,
   "metadata": {},
   "outputs": [
    {
     "name": "stdout",
     "output_type": "stream",
     "text": [
      "rho :  1.14\n"
     ]
    }
   ],
   "source": [
    "r_a = np.linalg.norm(follicle.vert_df.loc[follicle.apical_verts, ['x', 'y', 'z']], axis=1)\n",
    "r_b = np.linalg.norm(follicle.vert_df.loc[follicle.basal_verts, ['x', 'y', 'z']], axis=1)\n",
    "rho = r_b.mean()/r_a.mean()\n",
    "print(f\"rho : {rho: .2f}\")"
   ]
  },
  {
   "cell_type": "code",
   "execution_count": 23,
   "metadata": {},
   "outputs": [
    {
     "data": {
      "text/plain": [
       "{'lumen_side': 'apical',\n",
       " 'lumen_vol': 432.8491779459553,\n",
       " 'lumen_vol_elasticity': 1.0,\n",
       " 'lumen_prefered_vol': 604.2296072507545}"
      ]
     },
     "execution_count": 23,
     "metadata": {},
     "output_type": "execute_result"
    }
   ],
   "source": [
    "follicle.settings"
   ]
  },
  {
   "cell_type": "code",
   "execution_count": 24,
   "metadata": {},
   "outputs": [],
   "source": [
    "def contractility_grad_along_z(z, z_a=10, ant_increase=6, post_increase=6):\n",
    "    \"\"\"Returns the amplitude of the gradient for z \n",
    "    (along the posterior-anterior axis of the follicle).\n",
    "    \n",
    "    The gradient is modeled as a quadratic function of z, such that the increase in\n",
    "    contractility is equal to ant_increase at z_a and to post_increase at -z_a.\n",
    "    \n",
    "    \"\"\"\n",
    "    \n",
    "    # we look for a quadradic function with C(-z_a) = ant_increase, C(z_a) = post_increase\n",
    "    # and C(z_min) = 0 - we find the correct coefs p2, p1 and p0 bellow\n",
    "    \n",
    "    app = ant_increase + post_increase\n",
    "    amp = ant_increase - post_increase\n",
    "    if amp == 0.:\n",
    "        p2 = ant_increase / z_a**2\n",
    "        p1 = 0\n",
    "        p0 = 0\n",
    "    else:\n",
    "        p1 = amp / (2 * z_a)\n",
    "        inv_poly = [2*z_a**2, -app, p1**2]\n",
    "        p2_0, p2_1 = np.poly1d(inv_poly).roots\n",
    "        if isinstance(p2_0, np.complex):\n",
    "            p2_0, p2_1 = np.real([p2_0, p2_1])\n",
    "        p2 = p2_0 if p2_0 >= 0 else p2_1\n",
    "        p0 = p1**2 / (4*p2)\n",
    "\n",
    "    poly = np.poly1d([p2, p1, p0])\n",
    "    return np.polyval(poly, z)\n",
    "\n",
    "def contractility_grad(follicle, cell, amp, span, coords=['x', 'y', 'z']):\n",
    "    \n",
    "    cell_pos = follicle.cell_df.loc[cell, coords].to_numpy()\n",
    "    distance = np.linalg.norm(\n",
    "        follicle.face_df[coords] - cell_pos[None, :],\n",
    "        axis=1)\n",
    "    \n",
    "    grad = amp * np.exp(-distance / span)\n",
    "    return grad - grad.min()\n"
   ]
  },
  {
   "cell_type": "code",
   "execution_count": 25,
   "metadata": {},
   "outputs": [],
   "source": [
    "bck1 = follicle.copy()"
   ]
  },
  {
   "cell_type": "markdown",
   "metadata": {},
   "source": [
    "## Static contractility gradient"
   ]
  },
  {
   "cell_type": "code",
   "execution_count": 30,
   "metadata": {},
   "outputs": [
    {
     "name": "stdout",
     "output_type": "stream",
     "text": [
      "b'CONVERGENCE: REL_REDUCTION_OF_F_<=_FACTR*EPSMCH'\n"
     ]
    }
   ],
   "source": [
    "solver = QSSolver()\n",
    "res = solver.find_energy_min(follicle, geom, model)\n",
    "print(res.message)"
   ]
  },
  {
   "cell_type": "code",
   "execution_count": 64,
   "metadata": {},
   "outputs": [],
   "source": [
    "follicle = bck1.copy()\n",
    "\n",
    "anterior_cell = follicle.cell_df['z'].idxmin() \n",
    "posterior_cell = follicle.cell_df['z'].idxmax() \n",
    "\n",
    "follicle.face_df[\"contractile_grad\"] = (\n",
    "    contractility_grad(follicle, anterior_cell, amp=1., span=300)\n",
    "    + contractility_grad(follicle, posterior_cell, amp=1., span=300)\n",
    ")\n",
    "\n",
    "follicle.face_df.loc[follicle.apical_faces, \"surface_tension\"] *= follicle.face_df.loc[follicle.apical_faces, \"contractile_grad\"]\n"
   ]
  },
  {
   "cell_type": "code",
   "execution_count": 65,
   "metadata": {},
   "outputs": [
    {
     "data": {
      "text/plain": [
       "[<matplotlib.lines.Line2D at 0x7fe65d2ab090>]"
      ]
     },
     "execution_count": 65,
     "metadata": {},
     "output_type": "execute_result"
    },
    {
     "data": {
      "image/png": "[encoded data removed]",
      "text/plain": [
       "<Figure size 432x288 with 1 Axes>"
      ]
     },
     "metadata": {
      "needs_background": "light"
     },
     "output_type": "display_data"
    }
   ],
   "source": [
    "fig, ax = plt.subplots()\n",
    "ax.plot(\n",
    "    follicle.face_df['z'],\n",
    "    follicle.face_df['surface_tension'], '.')"
   ]
  },
  {
   "cell_type": "code",
   "execution_count": 47,
   "metadata": {},
   "outputs": [],
   "source": [
    "draw_specs = {\n",
    "    'edge': {\n",
    "        'visible': False,\n",
    "    },\n",
    "    'face': {\n",
    "        'visible': True,\n",
    "        'color': lambda sheet: sheet.face_df['surface_tension']\n",
    "    },\n",
    "}\n"
   ]
  },
  {
   "cell_type": "code",
   "execution_count": 66,
   "metadata": {},
   "outputs": [
    {
     "data": {
      "application/vnd.jupyter.widget-view+json": {
       "model_id": "4990a4a571c748a3870e3b59f57d81a5",
       "version_major": 2,
       "version_minor": 0
      },
      "text/plain": [
       "Figure(camera=PerspectiveCamera(fov=46.0, position=(0.0, 0.0, 2.0), quaternion=(0.0, 0.0, 0.0, 1.0), scale=(1.…"
      ]
     },
     "metadata": {},
     "output_type": "display_data"
    }
   ],
   "source": [
    "\n",
    "ipv.clear()\n",
    "follicle.face_df['visible'] = True\n",
    "follicle.face_df.loc[follicle.basal_faces, 'visible'] = False\n",
    "\n",
    "fig, mesh = sheet_view(follicle, mode=\"3D\", **draw_specs)\n",
    "fig"
   ]
  },
  {
   "cell_type": "code",
   "execution_count": 67,
   "metadata": {},
   "outputs": [
    {
     "name": "stdout",
     "output_type": "stream",
     "text": [
      "b'CONVERGENCE: REL_REDUCTION_OF_F_<=_FACTR*EPSMCH'\n"
     ]
    }
   ],
   "source": [
    "solver = QSSolver()\n",
    "res = solver.find_energy_min(follicle, geom, model)\n",
    "print(res.message)\n"
   ]
  },
  {
   "cell_type": "code",
   "execution_count": 68,
   "metadata": {},
   "outputs": [
    {
     "data": {
      "application/vnd.jupyter.widget-view+json": {
       "model_id": "7743fc7a365a40c2bc3d2a42dc2a7539",
       "version_major": 2,
       "version_minor": 0
      },
      "text/plain": [
       "Figure(camera=PerspectiveCamera(fov=46.0, position=(0.0, 0.0, 2.0), quaternion=(0.0, 0.0, 0.0, 1.0), scale=(1.…"
      ]
     },
     "metadata": {},
     "output_type": "display_data"
    }
   ],
   "source": [
    "\n",
    "ipv.clear()\n",
    "follicle.face_df.loc[follicle.lateral_faces, 'visible'] = True\n",
    "follicle.face_df.loc[follicle.basal_faces, 'visible'] = False\n",
    "\n",
    "fig, mesh = sheet_view(follicle, mode=\"3D\", **draw_specs)\n",
    "fig"
   ]
  },
  {
   "cell_type": "code",
   "execution_count": null,
   "metadata": {},
   "outputs": [],
   "source": []
  },
  {
   "cell_type": "code",
   "execution_count": 78,
   "metadata": {},
   "outputs": [
    {
     "data": {
      "image/png": "[encoded data removed]",
      "text/plain": [
       "<Figure size 864x576 with 2 Axes>"
      ]
     },
     "metadata": {
      "needs_background": "light"
     },
     "output_type": "display_data"
    }
   ],
   "source": [
    "\n",
    "fig, (ax0, ax1) = plt.subplots(1, 2, sharey=True, sharex=True)\n",
    "\n",
    "fig, ax0 = sheet_view(follicle.get_sub_sheet('apical'), mode=\"2D\", coords=[\"z\", \"x\"], ax=ax0)\n",
    "fig, ax1 = sheet_view(follicle.get_sub_sheet('basal'), mode=\"2D\", coords=[\"z\", \"x\"], ax=ax1)\n",
    "\n",
    "\n",
    "ax0.set_title('Apical mesh')\n",
    "\n",
    "ax1.set_title('Basal mesh')\n",
    "fig.savefig(\"../doc/elongated0.png\", dpi=300)\n",
    "fig.set_size_inches(12, 8)"
   ]
  },
  {
   "cell_type": "code",
   "execution_count": null,
   "metadata": {},
   "outputs": [],
   "source": []
  },
  {
   "cell_type": "code",
   "execution_count": 76,
   "metadata": {},
   "outputs": [
    {
     "data": {
      "image/png": "[encoded data removed]",
      "text/plain": [
       "<Figure size 576x576 with 1 Axes>"
      ]
     },
     "metadata": {
      "needs_background": "light"
     },
     "output_type": "display_data"
    }
   ],
   "source": [
    "basal_s = follicle.get_sub_sheet('apical')\n",
    "basal_s.reset_index()\n",
    "fig, ax = sheet_view(basal_s, mode=\"2D\", coords=[\"z\", \"x\"], **draw_specs)\n",
    "\n",
    "\n",
    "fig.set_size_inches(8, 8)\n"
   ]
  },
  {
   "cell_type": "markdown",
   "metadata": {},
   "source": [
    "### Increasing lumen volume\n",
    "\n",
    "\n",
    "\n"
   ]
  },
  {
   "cell_type": "code",
   "execution_count": 75,
   "metadata": {},
   "outputs": [],
   "source": [
    "follicle.settings['lumen_prefered_vol'] *= 2.\n"
   ]
  },
  {
   "cell_type": "code",
   "execution_count": 76,
   "metadata": {},
   "outputs": [
    {
     "name": "stdout",
     "output_type": "stream",
     "text": [
      "b'CONVERGENCE: REL_REDUCTION_OF_F_<=_FACTR*EPSMCH'\n"
     ]
    }
   ],
   "source": [
    "solver = QSSolver()\n",
    "res = solver.find_energy_min(follicle, geom, model)\n",
    "print(res.message)\n"
   ]
  },
  {
   "cell_type": "code",
   "execution_count": 77,
   "metadata": {},
   "outputs": [
    {
     "data": {
      "application/vnd.jupyter.widget-view+json": {
       "model_id": "c3aa3483994f4fe59e8d851369e7104d",
       "version_major": 2,
       "version_minor": 0
      },
      "text/plain": [
       "Figure(camera=PerspectiveCamera(fov=46.0, position=(0.0, 0.0, 2.0), quaternion=(0.0, 0.0, 0.0, 1.0), scale=(1.…"
      ]
     },
     "metadata": {},
     "output_type": "display_data"
    }
   ],
   "source": [
    "\n",
    "ipv.clear()\n",
    "\n",
    "fig, mesh = sheet_view(follicle, mode=\"3D\", **draw_specs)\n",
    "fig"
   ]
  },
  {
   "cell_type": "markdown",
   "metadata": {},
   "source": [
    "## Cell division and dynamic model"
   ]
  },
  {
   "cell_type": "markdown",
   "metadata": {},
   "source": [
    "$$\n",
    "\\ln(V_\\mathrm{lum})(t) = a + k_V t\\\\\n",
    "V_\\mathrm{lum}(t) = V_0 e^{k_V t}\n",
    "$$\n",
    "\n"
   ]
  },
  {
   "cell_type": "code",
   "execution_count": 32,
   "metadata": {},
   "outputs": [],
   "source": []
  },
  {
   "cell_type": "code",
   "execution_count": 56,
   "metadata": {},
   "outputs": [],
   "source": [
    "follicle = bck1\n",
    "\n",
    "# We take the time unit as 1/100th of a development stage\n",
    "\n",
    "dt = 1e-2\n",
    "\n",
    "default_division_spec = {\n",
    "    \"cell\": -1,\n",
    "    \"growth_rate\": 0.014,\n",
    "    \"critical_vol\": 2.,\n",
    "    \"autonomous\": True,\n",
    "}\n",
    "\n",
    "follicle.update_specs(\n",
    "    {'settings':\n",
    "     {\n",
    "        \"threshold_length\": 1e-1,  # Critical length to trigger rearangements\n",
    "        \"p_4\": 1.,  ## Frequency of rearangements\n",
    "        \"p_5+\": 0.1,\n",
    "    },\n",
    "    'vert': {\n",
    "        \"viscosity\": 0.1\n",
    "    },\n",
    "    'edge': {\n",
    "        'is_valid': 1,\n",
    "    }\n",
    "})\n",
    "\n",
    "\n",
    "\n",
    "# This will go in tyssue in the next release\n",
    "@cell_lookup\n",
    "def division(mono, manager, **kwargs):\n",
    "    \"\"\"Cell division happens through cell growth up to a critical volume,\n",
    "    followed by actual division of the cell.\n",
    "    \n",
    "    Parameters\n",
    "    ----------\n",
    "    mono : a `Monolayer` instance\n",
    "    manager : an `EventManager` instance\n",
    "    cell_id : int,\n",
    "      index of the mother cell\n",
    "    growth_rate : float, default 0.1\n",
    "      rate of increase of the prefered volume\n",
    "    critical_vol : float, default 2.\n",
    "      volume at which the cells stops to grow and devides\n",
    "    \"\"\"\n",
    "    division_spec = default_division_spec\n",
    "    division_spec.update(**kwargs)\n",
    "\n",
    "    cell = division_spec[\"cell\"]\n",
    "    Vc = division_spec[\"critical_vol\"] * mono.specs[\"cell\"][\"prefered_vol\"]\n",
    "    if mono.cell_df.loc[cell, \"vol\"] < Vc:\n",
    "        dv = 1+division_spec[\"growth_rate\"]*mono.settings['dt']\n",
    "        da = dv**(1/3)\n",
    "        increase(\n",
    "            mono,\n",
    "            'cell',\n",
    "            cell,\n",
    "            dv,\n",
    "            \"prefered_vol\"\n",
    "        )\n",
    "        manager.append(division, **division_spec)\n",
    "    else:\n",
    "        print(f'division of cell {cell}')\n",
    "        mono.cell_df.loc[cell, \"prefered_vol\"] = mono.specs[\"cell\"][\"prefered_vol\"]\n",
    "        daughter = cell_division(mono, cell, 'vertical')\n",
    "        daughter_id = mono.cell_df.id.max() + 1\n",
    "        mono.cell_df.loc[daughter, \"id\"] = daughter_id\n",
    "        if division_spec[\"autonomous\"]:\n",
    "            manager.append(division, **division_spec)\n",
    "            division_spec['cell_id'] = daughter_id\n",
    "            manager.append(division, **division_spec)\n",
    "            \n",
    "            \n",
    "def lumen_growth(mono, manager, **kwargs):\n",
    "    \n",
    "    growth_rate = 0.02# kwargs.get('growth_rate', 0.014)\n",
    "    dt = mono.settings[\"dt\"]\n",
    "    mono.settings['lumen_prefered_vol'] *= 1 + growth_rate*dt\n",
    "    manager.append(lumen_growth, **kwargs)\n",
    "    \n",
    "\n",
    "base_dir = Path(\"../data\")\n",
    "time_stamp = datetime.today().strftime(\"%y-%m-%d-%H-%M-%S\")\n",
    "history_file = Path(f\"hist2D_{time_stamp}.hf5\")\n",
    "\n",
    "\n",
    "follicle.cell_df['id'] = follicle.cell_df.index.copy()\n",
    "\n",
    "# Copy the initial follicle\n",
    "eptm = follicle.copy()\n",
    "\n",
    "\n",
    "eptm.settings[\"dt\"] = dt\n",
    "\n",
    "manager = EventManager(\"cell\")\n",
    "# Auto solve rearangements\n",
    "#manager.append(reconnect)\n",
    "\n",
    "for cell_id in eptm.cell_df['id']:\n",
    "    manager.append(division, cell_id=cell_id)\n",
    "\n",
    "manager.append(lumen_growth, growth_rate=1.4e-2)\n",
    "\n",
    "\n",
    "history = HistoryHdf5(\n",
    "    eptm,\n",
    "    save_every=0.1,\n",
    "    dt=dt,\n",
    "    hf5file=base_dir / history_file,\n",
    "    extra_cols={\n",
    "        elem: list(follicle.datasets[elem].columns) for elem in follicle.datasets\n",
    "    },  # record everything\n",
    ")\n",
    "\n",
    "solver = EulerSolver(\n",
    "    eptm,\n",
    "    geom,\n",
    "    model,\n",
    "    manager=manager,\n",
    "    history=history,\n",
    "    bounds=(\n",
    "        -eptm.edge_df.length.median() / 10.0,\n",
    "        eptm.edge_df.length.median() / 10.0,\n",
    "    ),\n",
    ")\n",
    "\n",
    "manager.update()\n"
   ]
  },
  {
   "cell_type": "code",
   "execution_count": 57,
   "metadata": {},
   "outputs": [
    {
     "name": "stdout",
     "output_type": "stream",
     "text": [
      "233.71537678481886\n"
     ]
    }
   ],
   "source": [
    "print(eptm.settings['lumen_prefered_vol'])"
   ]
  },
  {
   "cell_type": "code",
   "execution_count": 58,
   "metadata": {},
   "outputs": [
    {
     "ename": "TypeError",
     "evalue": "object of type 'int' has no len()",
     "output_type": "error",
     "traceback": [
      "\u001b[0;31m---------------------------------------------------------------------------\u001b[0m",
      "\u001b[0;31mTypeError\u001b[0m                                 Traceback (most recent call last)",
      "\u001b[0;32m<ipython-input-58-c0c081a17c1f>\u001b[0m in \u001b[0;36m<module>\u001b[0;34m\u001b[0m\n\u001b[0;32m----> 1\u001b[0;31m \u001b[0msolver\u001b[0m\u001b[0;34m.\u001b[0m\u001b[0msolve\u001b[0m\u001b[0;34m(\u001b[0m\u001b[0;36m100\u001b[0m\u001b[0;34m,\u001b[0m \u001b[0mdt\u001b[0m\u001b[0;34m)\u001b[0m\u001b[0;34m\u001b[0m\u001b[0;34m\u001b[0m\u001b[0m\n\u001b[0m\u001b[1;32m      2\u001b[0m \u001b[0mprint\u001b[0m\u001b[0;34m(\u001b[0m\u001b[0meptm\u001b[0m\u001b[0;34m.\u001b[0m\u001b[0msettings\u001b[0m\u001b[0;34m[\u001b[0m\u001b[0;34m'lumen_prefered_vol'\u001b[0m\u001b[0;34m]\u001b[0m\u001b[0;34m)\u001b[0m\u001b[0;34m\u001b[0m\u001b[0;34m\u001b[0m\u001b[0m\n",
      "\u001b[0;32m~/miniconda3/envs/tyssue/lib/python3.7/site-packages/tyssue-0.7.0-py3.7-linux-x86_64.egg/tyssue/solvers/viscous.py\u001b[0m in \u001b[0;36msolve\u001b[0;34m(self, tf, dt, on_topo_change, topo_change_args)\u001b[0m\n\u001b[1;32m    138\u001b[0m                     \u001b[0mon_topo_change\u001b[0m\u001b[0;34m(\u001b[0m\u001b[0;34m*\u001b[0m\u001b[0mtopo_change_args\u001b[0m\u001b[0;34m)\u001b[0m\u001b[0;34m\u001b[0m\u001b[0;34m\u001b[0m\u001b[0m\n\u001b[1;32m    139\u001b[0m                 \u001b[0mself\u001b[0m\u001b[0;34m.\u001b[0m\u001b[0meptm\u001b[0m\u001b[0;34m.\u001b[0m\u001b[0mtopo_changed\u001b[0m \u001b[0;34m=\u001b[0m \u001b[0;32mFalse\u001b[0m\u001b[0;34m\u001b[0m\u001b[0;34m\u001b[0m\u001b[0m\n\u001b[0;32m--> 140\u001b[0;31m             \u001b[0mself\u001b[0m\u001b[0;34m.\u001b[0m\u001b[0mrecord\u001b[0m\u001b[0;34m(\u001b[0m\u001b[0mt\u001b[0m\u001b[0;34m)\u001b[0m\u001b[0;34m\u001b[0m\u001b[0;34m\u001b[0m\u001b[0m\n\u001b[0m\u001b[1;32m    141\u001b[0m \u001b[0;34m\u001b[0m\u001b[0m\n\u001b[1;32m    142\u001b[0m     \u001b[0;32mdef\u001b[0m \u001b[0mode_func\u001b[0m\u001b[0;34m(\u001b[0m\u001b[0mself\u001b[0m\u001b[0;34m,\u001b[0m \u001b[0mt\u001b[0m\u001b[0;34m,\u001b[0m \u001b[0mpos\u001b[0m\u001b[0;34m)\u001b[0m\u001b[0;34m:\u001b[0m\u001b[0;34m\u001b[0m\u001b[0;34m\u001b[0m\u001b[0m\n",
      "\u001b[0;32m~/miniconda3/envs/tyssue/lib/python3.7/site-packages/tyssue-0.7.0-py3.7-linux-x86_64.egg/tyssue/solvers/viscous.py\u001b[0m in \u001b[0;36mrecord\u001b[0;34m(self, t)\u001b[0m\n\u001b[1;32m    105\u001b[0m \u001b[0;34m\u001b[0m\u001b[0m\n\u001b[1;32m    106\u001b[0m     \u001b[0;32mdef\u001b[0m \u001b[0mrecord\u001b[0m\u001b[0;34m(\u001b[0m\u001b[0mself\u001b[0m\u001b[0;34m,\u001b[0m \u001b[0mt\u001b[0m\u001b[0;34m)\u001b[0m\u001b[0;34m:\u001b[0m\u001b[0;34m\u001b[0m\u001b[0;34m\u001b[0m\u001b[0m\n\u001b[0;32m--> 107\u001b[0;31m         \u001b[0mself\u001b[0m\u001b[0;34m.\u001b[0m\u001b[0mhistory\u001b[0m\u001b[0;34m.\u001b[0m\u001b[0mrecord\u001b[0m\u001b[0;34m(\u001b[0m\u001b[0mtime_stamp\u001b[0m\u001b[0;34m=\u001b[0m\u001b[0mt\u001b[0m\u001b[0;34m)\u001b[0m\u001b[0;34m\u001b[0m\u001b[0;34m\u001b[0m\u001b[0m\n\u001b[0m\u001b[1;32m    108\u001b[0m \u001b[0;34m\u001b[0m\u001b[0m\n\u001b[1;32m    109\u001b[0m     \u001b[0;32mdef\u001b[0m \u001b[0msolve\u001b[0m\u001b[0;34m(\u001b[0m\u001b[0mself\u001b[0m\u001b[0;34m,\u001b[0m \u001b[0mtf\u001b[0m\u001b[0;34m,\u001b[0m \u001b[0mdt\u001b[0m\u001b[0;34m,\u001b[0m \u001b[0mon_topo_change\u001b[0m\u001b[0;34m=\u001b[0m\u001b[0;32mNone\u001b[0m\u001b[0;34m,\u001b[0m \u001b[0mtopo_change_args\u001b[0m\u001b[0;34m=\u001b[0m\u001b[0;34m(\u001b[0m\u001b[0;34m)\u001b[0m\u001b[0;34m)\u001b[0m\u001b[0;34m:\u001b[0m\u001b[0;34m\u001b[0m\u001b[0;34m\u001b[0m\u001b[0m\n",
      "\u001b[0;32m~/miniconda3/envs/tyssue/lib/python3.7/site-packages/tyssue-0.7.0-py3.7-linux-x86_64.egg/tyssue/core/history.py\u001b[0m in \u001b[0;36mrecord\u001b[0;34m(self, to_record, time_stamp, sheet)\u001b[0m\n\u001b[1;32m    371\u001b[0m                     \u001b[0mkwargs\u001b[0m\u001b[0;34m[\u001b[0m\u001b[0;34m\"min_itemsize\"\u001b[0m\u001b[0;34m]\u001b[0m \u001b[0;34m=\u001b[0m \u001b[0;34m{\u001b[0m\u001b[0;34m\"segment\"\u001b[0m\u001b[0;34m:\u001b[0m \u001b[0;36m8\u001b[0m\u001b[0;34m}\u001b[0m\u001b[0;34m\u001b[0m\u001b[0;34m\u001b[0m\u001b[0m\n\u001b[1;32m    372\u001b[0m                 \u001b[0;32mwith\u001b[0m \u001b[0mpd\u001b[0m\u001b[0;34m.\u001b[0m\u001b[0mHDFStore\u001b[0m\u001b[0;34m(\u001b[0m\u001b[0mself\u001b[0m\u001b[0;34m.\u001b[0m\u001b[0mhf5file\u001b[0m\u001b[0;34m,\u001b[0m \u001b[0;34m\"a\"\u001b[0m\u001b[0;34m)\u001b[0m \u001b[0;32mas\u001b[0m \u001b[0mfile\u001b[0m\u001b[0;34m:\u001b[0m\u001b[0;34m\u001b[0m\u001b[0;34m\u001b[0m\u001b[0m\n\u001b[0;32m--> 373\u001b[0;31m                     \u001b[0mfile\u001b[0m\u001b[0;34m.\u001b[0m\u001b[0mappend\u001b[0m\u001b[0;34m(\u001b[0m\u001b[0mkey\u001b[0m\u001b[0;34m=\u001b[0m\u001b[0melement\u001b[0m\u001b[0;34m,\u001b[0m \u001b[0mvalue\u001b[0m\u001b[0;34m=\u001b[0m\u001b[0mdf\u001b[0m\u001b[0;34m,\u001b[0m \u001b[0;34m**\u001b[0m\u001b[0mkwargs\u001b[0m\u001b[0;34m)\u001b[0m\u001b[0;34m\u001b[0m\u001b[0;34m\u001b[0m\u001b[0m\n\u001b[0m\u001b[1;32m    374\u001b[0m \u001b[0;34m\u001b[0m\u001b[0m\n\u001b[1;32m    375\u001b[0m         \u001b[0mself\u001b[0m\u001b[0;34m.\u001b[0m\u001b[0mindex\u001b[0m \u001b[0;34m+=\u001b[0m \u001b[0;36m1\u001b[0m\u001b[0;34m\u001b[0m\u001b[0;34m\u001b[0m\u001b[0m\n",
      "\u001b[0;32m~/miniconda3/envs/tyssue/lib/python3.7/site-packages/pandas/io/pytables.py\u001b[0m in \u001b[0;36mappend\u001b[0;34m(self, key, value, format, axes, index, append, complib, complevel, columns, min_itemsize, nan_rep, chunksize, expectedrows, dropna, data_columns, encoding, errors)\u001b[0m\n\u001b[1;32m   1180\u001b[0m             \u001b[0mdata_columns\u001b[0m\u001b[0;34m=\u001b[0m\u001b[0mdata_columns\u001b[0m\u001b[0;34m,\u001b[0m\u001b[0;34m\u001b[0m\u001b[0;34m\u001b[0m\u001b[0m\n\u001b[1;32m   1181\u001b[0m             \u001b[0mencoding\u001b[0m\u001b[0;34m=\u001b[0m\u001b[0mencoding\u001b[0m\u001b[0;34m,\u001b[0m\u001b[0;34m\u001b[0m\u001b[0;34m\u001b[0m\u001b[0m\n\u001b[0;32m-> 1182\u001b[0;31m             \u001b[0merrors\u001b[0m\u001b[0;34m=\u001b[0m\u001b[0merrors\u001b[0m\u001b[0;34m,\u001b[0m\u001b[0;34m\u001b[0m\u001b[0;34m\u001b[0m\u001b[0m\n\u001b[0m\u001b[1;32m   1183\u001b[0m         )\n\u001b[1;32m   1184\u001b[0m \u001b[0;34m\u001b[0m\u001b[0m\n",
      "\u001b[0;32m~/miniconda3/envs/tyssue/lib/python3.7/site-packages/pandas/io/pytables.py\u001b[0m in \u001b[0;36m_write_to_group\u001b[0;34m(self, key, value, format, axes, index, append, complib, complevel, fletcher32, min_itemsize, chunksize, expectedrows, dropna, nan_rep, data_columns, encoding, errors)\u001b[0m\n\u001b[1;32m   1707\u001b[0m             \u001b[0mdropna\u001b[0m\u001b[0;34m=\u001b[0m\u001b[0mdropna\u001b[0m\u001b[0;34m,\u001b[0m\u001b[0;34m\u001b[0m\u001b[0;34m\u001b[0m\u001b[0m\n\u001b[1;32m   1708\u001b[0m             \u001b[0mnan_rep\u001b[0m\u001b[0;34m=\u001b[0m\u001b[0mnan_rep\u001b[0m\u001b[0;34m,\u001b[0m\u001b[0;34m\u001b[0m\u001b[0;34m\u001b[0m\u001b[0m\n\u001b[0;32m-> 1709\u001b[0;31m             \u001b[0mdata_columns\u001b[0m\u001b[0;34m=\u001b[0m\u001b[0mdata_columns\u001b[0m\u001b[0;34m,\u001b[0m\u001b[0;34m\u001b[0m\u001b[0;34m\u001b[0m\u001b[0m\n\u001b[0m\u001b[1;32m   1710\u001b[0m         )\n\u001b[1;32m   1711\u001b[0m \u001b[0;34m\u001b[0m\u001b[0m\n",
      "\u001b[0;32m~/miniconda3/envs/tyssue/lib/python3.7/site-packages/pandas/io/pytables.py\u001b[0m in \u001b[0;36mwrite\u001b[0;34m(self, obj, axes, append, complib, complevel, fletcher32, min_itemsize, chunksize, expectedrows, dropna, nan_rep, data_columns)\u001b[0m\n\u001b[1;32m   4141\u001b[0m             \u001b[0mmin_itemsize\u001b[0m\u001b[0;34m=\u001b[0m\u001b[0mmin_itemsize\u001b[0m\u001b[0;34m,\u001b[0m\u001b[0;34m\u001b[0m\u001b[0;34m\u001b[0m\u001b[0m\n\u001b[1;32m   4142\u001b[0m             \u001b[0mnan_rep\u001b[0m\u001b[0;34m=\u001b[0m\u001b[0mnan_rep\u001b[0m\u001b[0;34m,\u001b[0m\u001b[0;34m\u001b[0m\u001b[0;34m\u001b[0m\u001b[0m\n\u001b[0;32m-> 4143\u001b[0;31m             \u001b[0mdata_columns\u001b[0m\u001b[0;34m=\u001b[0m\u001b[0mdata_columns\u001b[0m\u001b[0;34m,\u001b[0m\u001b[0;34m\u001b[0m\u001b[0;34m\u001b[0m\u001b[0m\n\u001b[0m\u001b[1;32m   4144\u001b[0m         )\n\u001b[1;32m   4145\u001b[0m \u001b[0;34m\u001b[0m\u001b[0m\n",
      "\u001b[0;32m~/miniconda3/envs/tyssue/lib/python3.7/site-packages/pandas/io/pytables.py\u001b[0m in \u001b[0;36m_create_axes\u001b[0;34m(self, axes, obj, validate, nan_rep, data_columns, min_itemsize)\u001b[0m\n\u001b[1;32m   3811\u001b[0m                 \u001b[0mnan_rep\u001b[0m\u001b[0;34m=\u001b[0m\u001b[0mnan_rep\u001b[0m\u001b[0;34m,\u001b[0m\u001b[0;34m\u001b[0m\u001b[0;34m\u001b[0m\u001b[0m\n\u001b[1;32m   3812\u001b[0m                 \u001b[0mencoding\u001b[0m\u001b[0;34m=\u001b[0m\u001b[0mself\u001b[0m\u001b[0;34m.\u001b[0m\u001b[0mencoding\u001b[0m\u001b[0;34m,\u001b[0m\u001b[0;34m\u001b[0m\u001b[0;34m\u001b[0m\u001b[0m\n\u001b[0;32m-> 3813\u001b[0;31m                 \u001b[0merrors\u001b[0m\u001b[0;34m=\u001b[0m\u001b[0mself\u001b[0m\u001b[0;34m.\u001b[0m\u001b[0merrors\u001b[0m\u001b[0;34m,\u001b[0m\u001b[0;34m\u001b[0m\u001b[0;34m\u001b[0m\u001b[0m\n\u001b[0m\u001b[1;32m   3814\u001b[0m             )\n\u001b[1;32m   3815\u001b[0m             \u001b[0madj_name\u001b[0m \u001b[0;34m=\u001b[0m \u001b[0m_maybe_adjust_name\u001b[0m\u001b[0;34m(\u001b[0m\u001b[0mnew_name\u001b[0m\u001b[0;34m,\u001b[0m \u001b[0mself\u001b[0m\u001b[0;34m.\u001b[0m\u001b[0mversion\u001b[0m\u001b[0;34m)\u001b[0m\u001b[0;34m\u001b[0m\u001b[0;34m\u001b[0m\u001b[0m\n",
      "\u001b[0;32m~/miniconda3/envs/tyssue/lib/python3.7/site-packages/pandas/io/pytables.py\u001b[0m in \u001b[0;36m_maybe_convert_for_string_atom\u001b[0;34m(name, block, existing_col, min_itemsize, nan_rep, encoding, errors)\u001b[0m\n\u001b[1;32m   4798\u001b[0m         \u001b[0;31m# we cannot serialize this data, so report an exception on a column\u001b[0m\u001b[0;34m\u001b[0m\u001b[0;34m\u001b[0m\u001b[0;34m\u001b[0m\u001b[0m\n\u001b[1;32m   4799\u001b[0m         \u001b[0;31m# by column basis\u001b[0m\u001b[0;34m\u001b[0m\u001b[0;34m\u001b[0m\u001b[0;34m\u001b[0m\u001b[0m\n\u001b[0;32m-> 4800\u001b[0;31m         \u001b[0;32mfor\u001b[0m \u001b[0mi\u001b[0m \u001b[0;32min\u001b[0m \u001b[0mrange\u001b[0m\u001b[0;34m(\u001b[0m\u001b[0mlen\u001b[0m\u001b[0;34m(\u001b[0m\u001b[0mblock\u001b[0m\u001b[0;34m.\u001b[0m\u001b[0mshape\u001b[0m\u001b[0;34m[\u001b[0m\u001b[0;36m0\u001b[0m\u001b[0;34m]\u001b[0m\u001b[0;34m)\u001b[0m\u001b[0;34m)\u001b[0m\u001b[0;34m:\u001b[0m\u001b[0;34m\u001b[0m\u001b[0;34m\u001b[0m\u001b[0m\n\u001b[0m\u001b[1;32m   4801\u001b[0m \u001b[0;34m\u001b[0m\u001b[0m\n\u001b[1;32m   4802\u001b[0m             \u001b[0mcol\u001b[0m \u001b[0;34m=\u001b[0m \u001b[0mblock\u001b[0m\u001b[0;34m.\u001b[0m\u001b[0miget\u001b[0m\u001b[0;34m(\u001b[0m\u001b[0mi\u001b[0m\u001b[0;34m)\u001b[0m\u001b[0;34m\u001b[0m\u001b[0;34m\u001b[0m\u001b[0m\n",
      "\u001b[0;31mTypeError\u001b[0m: object of type 'int' has no len()"
     ]
    }
   ],
   "source": [
    "solver.solve(100, dt)\n",
    "print(eptm.settings['lumen_prefered_vol'])"
   ]
  },
  {
   "cell_type": "code",
   "execution_count": 40,
   "metadata": {},
   "outputs": [],
   "source": [
    "!mkdir ../data"
   ]
  },
  {
   "cell_type": "code",
   "execution_count": 43,
   "metadata": {
    "scrolled": false
   },
   "outputs": [
    {
     "name": "stderr",
     "output_type": "stream",
     "text": [
      "/home/guillaume/miniconda3/envs/tyssue/lib/python3.7/site-packages/numpy/core/fromnumeric.py:2389: FutureWarning: Method .ptp is deprecated and will be removed in a future version. Use numpy.ptp instead.\n",
      "  return ptp(axis=axis, out=out, **kwargs)\n"
     ]
    },
    {
     "data": {
      "application/vnd.jupyter.widget-view+json": {
       "model_id": "816c00f1ccaf49bfbba401521c44f283",
       "version_major": 2,
       "version_minor": 0
      },
      "text/plain": [
       "VBox(children=(Figure(camera=PerspectiveCamera(fov=46.0, position=(0.0, 0.0, 2.0), quaternion=(0.0, 0.0, 0.0, …"
      ]
     },
     "metadata": {},
     "output_type": "display_data"
    },
    {
     "data": {
      "application/vnd.jupyter.widget-view+json": {
       "model_id": "98f570dc44fb4b98b2ec9e0124338285",
       "version_major": 2,
       "version_minor": 0
      },
      "text/plain": [
       "interactive(children=(IntSlider(value=0, description='i', max=66), Output()), _dom_classes=('widget-interact',…"
      ]
     },
     "metadata": {},
     "output_type": "display_data"
    }
   ],
   "source": [
    "draw_specs = {\n",
    "    'edge': {\n",
    "        'visible': False,\n",
    "    },\n",
    "    'face': {\n",
    "        'visible': True,\n",
    "        'color': lambda sheet: sheet.face_df['area']\n",
    "    },\n",
    "}\n",
    "\n",
    "\n",
    "browse_history(solver.history, **draw_specs)"
   ]
  },
  {
   "cell_type": "code",
   "execution_count": 44,
   "metadata": {},
   "outputs": [
    {
     "name": "stderr",
     "output_type": "stream",
     "text": [
      "/home/guillaume/miniconda3/envs/tyssue/lib/python3.7/site-packages/tyssue-0.7.0-py3.7-linux-x86_64.egg/tyssue/geometry/bulk_geometry.py:106: RuntimeWarning: invalid value encountered in true_divide\n",
      "  weighted_pos.values / eptm.face_df[\"perimeter\"].values[:, np.newaxis]\n"
     ]
    },
    {
     "data": {
      "text/plain": [
       "      fun: nan\n",
       " hess_inv: <4380x4380 LbfgsInvHessProduct with dtype=float64>\n",
       "      jac: array([ 4.36690551e+199, -3.06742022e+199,  3.20848995e+199, ...,\n",
       "       -1.23593356e+199,  2.69866482e+198,  9.47243972e+198])\n",
       "  message: b'ABNORMAL_TERMINATION_IN_LNSRCH'\n",
       "     nfev: 21\n",
       "      nit: 0\n",
       "   status: 2\n",
       "  success: False\n",
       "        x: array([-0.74876237,  0.77660726,  2.84950127, ...,  4.22239187,\n",
       "       -2.11316024, -0.104596  ])"
      ]
     },
     "execution_count": 44,
     "metadata": {},
     "output_type": "execute_result"
    }
   ],
   "source": [
    "QSSolver().find_energy_min(eptm, geom, model)"
   ]
  },
  {
   "cell_type": "code",
   "execution_count": null,
   "metadata": {},
   "outputs": [],
   "source": []
  }
 ],
 "metadata": {
  "kernelspec": {
   "display_name": "Python 3",
   "language": "python",
   "name": "python3"
  },
  "language_info": {
   "codemirror_mode": {
    "name": "ipython",
    "version": 3
   },
   "file_extension": ".py",
   "mimetype": "text/x-python",
   "name": "python",
   "nbconvert_exporter": "python",
   "pygments_lexer": "ipython3",
   "version": "3.7.6"
  }
 },
 "nbformat": 4,
 "nbformat_minor": 2
}
