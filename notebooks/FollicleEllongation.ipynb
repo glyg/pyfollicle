{
 "cells": [
  {
   "cell_type": "code",
   "execution_count": 1,
   "metadata": {},
   "outputs": [],
   "source": [
    "from datetime import datetime\n",
    "\n",
    "import numpy as np\n",
    "import pandas as pd\n",
    "import matplotlib.pyplot as plt\n",
    "%matplotlib inline\n",
    "\n",
    "import ipyvolume as ipv\n",
    "from ipywidgets import FloatProgress\n",
    "from IPython.display import display, Image\n",
    "\n",
    "from tyssue import HistoryHdf5, EventManager\n",
    "\n",
    "from tyssue.draw import sheet_view, browse_history\n",
    "from tyssue.geometry.bulk_geometry import ClosedMonolayerGeometry as geom\n",
    "from tyssue.io import hdf5\n",
    "from tyssue.dynamics import model_factory, effectors\n",
    "from tyssue.generation.shapes import spherical_monolayer\n",
    "\n",
    "from tyssue.behaviors import EventManager\n",
    "from tyssue.behaviors import increase, decrease, reconnect\n",
    "from tyssue.solvers.viscous import EulerSolver\n",
    "from tyssue.utils.decorators import face_lookup\n",
    "\n",
    "\n",
    "from tyssue.draw import highlight_faces, create_gif\n",
    "from tyssue.solvers.quasistatic import QSSolver\n",
    "\n",
    "\n",
    "from tyssue import HistoryHdf5\n",
    "\n",
    "\n",
    "\n",
    "from pathlib import Path\n",
    "\n",
    "from tyssue.utils.decorators import cell_lookup\n",
    "from tyssue.topology.monolayer_topology import cell_division\n",
    "\n"
   ]
  },
  {
   "cell_type": "markdown",
   "metadata": {},
   "source": [
    "Reference: https://elifesciences.org/articles/32943\n",
    "\n",
    "\n",
    "It is conveninent to consider that cells have an average volume of 1\n",
    "\n",
    "\n",
    "| stade  | nombe de cellules | volume interne (μm3) |\n",
    "| ------ | --------- | ---------- |\n",
    "| 3 | 120 | 181008 |\n",
    "| 4 | 200 | 670400 |\n",
    "| 5 | 400 | 3352000 | \n",
    "| 6 | 700 | 12318600 | "
   ]
  },
  {
   "cell_type": "markdown",
   "metadata": {},
   "source": [
    "## Experimental data"
   ]
  },
  {
   "cell_type": "code",
   "execution_count": 2,
   "metadata": {},
   "outputs": [
    {
     "data": {
      "text/html": [
       "<div>\n",
       "<style scoped>\n",
       "    .dataframe tbody tr th:only-of-type {\n",
       "        vertical-align: middle;\n",
       "    }\n",
       "\n",
       "    .dataframe tbody tr th {\n",
       "        vertical-align: top;\n",
       "    }\n",
       "\n",
       "    .dataframe thead th {\n",
       "        text-align: right;\n",
       "    }\n",
       "</style>\n",
       "<table border=\"1\" class=\"dataframe\">\n",
       "  <thead>\n",
       "    <tr style=\"text-align: right;\">\n",
       "      <th></th>\n",
       "      <th>Nc</th>\n",
       "      <th>lumen_vol</th>\n",
       "    </tr>\n",
       "    <tr>\n",
       "      <th>stage</th>\n",
       "      <th></th>\n",
       "      <th></th>\n",
       "    </tr>\n",
       "  </thead>\n",
       "  <tbody>\n",
       "    <tr>\n",
       "      <th>3</th>\n",
       "      <td>120</td>\n",
       "      <td>181000</td>\n",
       "    </tr>\n",
       "    <tr>\n",
       "      <th>4</th>\n",
       "      <td>200</td>\n",
       "      <td>670400</td>\n",
       "    </tr>\n",
       "    <tr>\n",
       "      <th>5</th>\n",
       "      <td>400</td>\n",
       "      <td>3352000</td>\n",
       "    </tr>\n",
       "    <tr>\n",
       "      <th>6</th>\n",
       "      <td>700</td>\n",
       "      <td>12318600</td>\n",
       "    </tr>\n",
       "  </tbody>\n",
       "</table>\n",
       "</div>"
      ],
      "text/plain": [
       "        Nc  lumen_vol\n",
       "stage                \n",
       "3      120     181000\n",
       "4      200     670400\n",
       "5      400    3352000\n",
       "6      700   12318600"
      ]
     },
     "execution_count": 2,
     "metadata": {},
     "output_type": "execute_result"
    }
   ],
   "source": [
    "growth = pd.DataFrame(\n",
    "    data=[[120, 181000], [200, 670400], [400, 3352000], [700, 12318600]],\n",
    "    index=pd.Index([3, 4, 5, 6], name='stage'),\n",
    "    columns=['Nc', 'lumen_vol']\n",
    ")\n",
    "growth"
   ]
  },
  {
   "cell_type": "markdown",
   "metadata": {},
   "source": [
    "$$\n",
    "\\ln(V_\\mathrm{lum})(t) = a + k_V t\\\\\n",
    "V_\\mathrm{lum}(t) = V_0 e^{k_V t}\n",
    "$$\n",
    "\n"
   ]
  },
  {
   "cell_type": "code",
   "execution_count": 3,
   "metadata": {},
   "outputs": [
    {
     "data": {
      "image/png": "[encoded data removed]",
      "text/plain": [
       "<Figure size 432x288 with 2 Axes>"
      ]
     },
     "metadata": {
      "needs_background": "light"
     },
     "output_type": "display_data"
    }
   ],
   "source": [
    "fig, (ax_v, ax_c) = plt.subplots(2, sharex=True)\n",
    "\n",
    "ax_v.plot(growth.lumen_vol, '-o')\n",
    "ax_v.set_yscale('log')\n",
    "ax_v.set_ylabel('Lumen volume (µm)')\n",
    "\n",
    "ax_c.plot(growth.Nc, '-o')\n",
    "ax_c.set_yscale('log')\n",
    "ax_c.set_ylabel('Cell number')\n",
    "_ = ax_c.set_xlabel(\"stage\")\n"
   ]
  },
  {
   "cell_type": "code",
   "execution_count": 4,
   "metadata": {},
   "outputs": [
    {
     "name": "stdout",
     "output_type": "stream",
     "text": [
      "Lumen volume growth rate: 1.43\n",
      "Division rate: 0.60\n"
     ]
    }
   ],
   "source": [
    "kV, lnV0 = np.polyfit(growth.index, np.log(growth.lumen_vol), 1)\n",
    "\n",
    "print(f\"Lumen volume growth rate: {kV:.2f}\")\n",
    "\n",
    "kD, lnc0 = np.polyfit(growth.index, np.log(growth.Nc), 1)\n",
    "\n",
    "print(f\"Division rate: {kD:.2f}\")\n"
   ]
  },
  {
   "cell_type": "markdown",
   "metadata": {},
   "source": [
    "## Follicle monolayer creation\n"
   ]
  },
  {
   "cell_type": "code",
   "execution_count": 6,
   "metadata": {},
   "outputs": [],
   "source": [
    "# Number of cells\n",
    "Nc = 200"
   ]
  },
  {
   "cell_type": "code",
   "execution_count": 7,
   "metadata": {},
   "outputs": [
    {
     "name": "stdout",
     "output_type": "stream",
     "text": [
      "Follicle has 213 cells\n"
     ]
    }
   ],
   "source": [
    "follicle = spherical_monolayer(9., 12., Nc, apical='in')\n",
    "follicle.settings[\"lumen_side\"] = \"apical\"\n",
    "\n",
    "geom.update_all(follicle)\n",
    "geom.scale(follicle, follicle.cell_df.vol.mean()**(-1/3), list(\"xyz\"))\n",
    "geom.update_all(follicle)\n",
    "\n",
    "\n",
    "for df in follicle.datasets.values():\n",
    "    df.dropna(axis=1, how='any', inplace=True)\n",
    "\n",
    "print(f\"Follicle has {follicle.Nc} cells\")"
   ]
  },
  {
   "cell_type": "code",
   "execution_count": 8,
   "metadata": {},
   "outputs": [
    {
     "name": "stdout",
     "output_type": "stream",
     "text": [
      "{'lumen_side': 'apical', 'lumen_vol': 157.79423058717543}\n"
     ]
    }
   ],
   "source": [
    "print(follicle.settings)"
   ]
  },
  {
   "cell_type": "code",
   "execution_count": 9,
   "metadata": {},
   "outputs": [],
   "source": [
    "draw_specs = {\n",
    "    'edge': {\n",
    "        'visible': False,\n",
    "    },\n",
    "    'face': {\n",
    "        'visible': True,\n",
    "        'color': lambda sheet: sheet.face_df['area']\n",
    "    },\n",
    "}\n"
   ]
  },
  {
   "cell_type": "code",
   "execution_count": 10,
   "metadata": {},
   "outputs": [
    {
     "data": {
      "application/vnd.jupyter.widget-view+json": {
       "model_id": "36f13132873c408da7e8c66f8116f770",
       "version_major": 2,
       "version_minor": 0
      },
      "text/plain": [
       "Figure(camera=PerspectiveCamera(fov=45.0, position=(0.0, 0.0, 2.0), projectionMatrix=(1.0, 0.0, 0.0, 0.0, 0.0,…"
      ]
     },
     "metadata": {},
     "output_type": "display_data"
    }
   ],
   "source": [
    "ipv.clear()\n",
    "follicle.face_df['visible'] = (follicle.face_df['y'] > 0) | (follicle.face_df['x'] > 0)\n",
    "fig, mesh = sheet_view(follicle, mode=\"3D\", **draw_specs)\n",
    "fig"
   ]
  },
  {
   "cell_type": "code",
   "execution_count": 23,
   "metadata": {},
   "outputs": [
    {
     "data": {
      "text/plain": [
       "{'lumen_side': 'apical', 'lumen_vol': 157.79423058717543}"
      ]
     },
     "execution_count": 23,
     "metadata": {},
     "output_type": "execute_result"
    }
   ],
   "source": [
    "bck0.settings"
   ]
  },
  {
   "cell_type": "code",
   "execution_count": 14,
   "metadata": {},
   "outputs": [],
   "source": [
    "bck0 = follicle.copy()"
   ]
  },
  {
   "cell_type": "markdown",
   "metadata": {},
   "source": [
    "## Mechanical model\n",
    "\n",
    "\n",
    "By analogy with 2D Manning model (by a suggestion she did during a communication, I assume this will be published some time) we can write the basic potiential with\n",
    "\n",
    "$$\n",
    "E = \\frac{K_\\ell}{2}(V_\\ell - V_\\ell^0)^2 + \\sum_c \\frac{K_v}{2}(V_c - V_c^0)^2 + \\frac{K_A}{2}(A_c - A_c^0)^2\n",
    "$$\n",
    "\n",
    "By setting $V_c^0 = 1$ and $K_c^0 = 1$, we rewrite this:\n",
    "\n",
    "$$\n",
    "E = \\frac{K_\\ell}{2}(V_\\ell - V_\\ell^0)^2 + \\sum_c \\frac{1}{2}(V_c - 1)^2 + \\frac{K_A}{2}(A_c - s^0)^2\n",
    "$$\n",
    "\n",
    "Here $s^0$ is the form factor (as in 2D)\n",
    "\n",
    "For a sphere, the ratio $A / V^{2/3}$ is equal to $(36\\pi)^{1/3} \\approx 4.84$\n",
    "\n",
    "For a [truncated octahedron](https://en.wikipedia.org/wiki/Truncated_octahedron) (regular cells in bulk), it's 5.31 and 8.14 for a honeycomb (cuboidal cells)."
   ]
  },
  {
   "cell_type": "code",
   "execution_count": 15,
   "metadata": {},
   "outputs": [
    {
     "name": "stdout",
     "output_type": "stream",
     "text": [
      "4.835975862049408 5.314739699971957 8.144257693571506\n"
     ]
    }
   ],
   "source": [
    "sphere = (36*np.pi)**(1/3)\n",
    "truncocta = (6 + 12 * 3**0.5) / (4 * 2**(1/3))\n",
    "honeycomb = (3*3**0.5 + 6) / ((3/2) * 3**0.5)**(1/3)\n",
    "\n",
    "\n",
    "print(sphere, truncocta, honeycomb)"
   ]
  },
  {
   "cell_type": "code",
   "execution_count": 24,
   "metadata": {},
   "outputs": [
    {
     "name": "stderr",
     "output_type": "stream",
     "text": [
      "Reseting column is_alive of the cell dataset with new specs\n",
      "Reseting column is_alive of the face dataset with new specs\n"
     ]
    }
   ],
   "source": [
    "follicle = bck0.copy()\n",
    "\n",
    "model = model_factory([\n",
    "    effectors.LumenVolumeElasticity,\n",
    "    effectors.CellAreaElasticity,\n",
    "    effectors.CellVolumeElasticity,\n",
    "    ])\n",
    "\n",
    "\n",
    "\n",
    "specs = {\n",
    "    'cell': {\n",
    "        'is_alive': 1,\n",
    "        'vol_elasticity': 1.0,\n",
    "        'prefered_vol': 1.0,\n",
    "        'area_elasticity': 0.1,\n",
    "        'prefered_area': 4.8, # form factor\n",
    "    },\n",
    "    'face': {\n",
    "        'is_alive': 1,\n",
    "    },\n",
    "    'settings': {\n",
    "        'lumen_vol_elasticity': 100.,\n",
    "        'lumen_prefered_vol': 200,\n",
    "    }\n",
    "}\n",
    "\n",
    "follicle.update_specs(specs, reset=True)\n",
    "\n"
   ]
  },
  {
   "cell_type": "code",
   "execution_count": 25,
   "metadata": {},
   "outputs": [
    {
     "data": {
      "text/plain": [
       "{'lumen_side': 'apical',\n",
       " 'lumen_vol': 157.79423058717543,\n",
       " 'lumen_vol_elasticity': 100.0,\n",
       " 'lumen_prefered_vol': 200}"
      ]
     },
     "execution_count": 25,
     "metadata": {},
     "output_type": "execute_result"
    }
   ],
   "source": [
    "follicle.settings"
   ]
  },
  {
   "cell_type": "code",
   "execution_count": 26,
   "metadata": {},
   "outputs": [
    {
     "name": "stdout",
     "output_type": "stream",
     "text": [
      "b'CONVERGENCE: REL_REDUCTION_OF_F_<=_FACTR*EPSMCH'\n"
     ]
    }
   ],
   "source": [
    "solver = QSSolver()\n",
    "res = solver.find_energy_min(follicle, geom, model)\n",
    "print(res.message)\n",
    "\n"
   ]
  },
  {
   "cell_type": "code",
   "execution_count": null,
   "metadata": {},
   "outputs": [],
   "source": []
  },
  {
   "cell_type": "code",
   "execution_count": 27,
   "metadata": {},
   "outputs": [
    {
     "data": {
      "application/vnd.jupyter.widget-view+json": {
       "model_id": "22409bb65d7a48f68ee921b8748e7a67",
       "version_major": 2,
       "version_minor": 0
      },
      "text/plain": [
       "Figure(camera=PerspectiveCamera(fov=45.0, position=(0.0, 0.0, 2.0), projectionMatrix=(1.0, 0.0, 0.0, 0.0, 0.0,…"
      ]
     },
     "metadata": {},
     "output_type": "display_data"
    }
   ],
   "source": [
    "ipv.clear()\n",
    "follicle.face_df['visible'] = (\n",
    "    (\n",
    "        (follicle.face_df['y'] > 0)\n",
    "        | (follicle.face_df['x'] > 0)\n",
    "    )\n",
    "    #& (follicle.face_df['segment'] == \"apical\")\n",
    ")\n",
    "# reset full visibility\n",
    "# follicle.face_df['visible'] = True\n",
    "fig, mesh = sheet_view(follicle, mode=\"3D\", **draw_specs)\n",
    "fig"
   ]
  },
  {
   "cell_type": "code",
   "execution_count": 28,
   "metadata": {},
   "outputs": [
    {
     "name": "stdout",
     "output_type": "stream",
     "text": [
      "rho :  1.24\n",
      "mean apical radius:  3.654\n"
     ]
    }
   ],
   "source": [
    "r_a = np.linalg.norm(\n",
    "    follicle.vert_df.loc[follicle.apical_verts, ['x', 'y', 'z']],\n",
    "    axis=1\n",
    ")\n",
    "r_b = np.linalg.norm(\n",
    "    follicle.vert_df.loc[follicle.basal_verts, ['x', 'y', 'z']],\n",
    "    axis=1\n",
    ")\n",
    "rho = r_b.mean()/r_a.mean()\n",
    "print(f\"rho : {rho: .2f}\")\n",
    "print(f\"mean apical radius: {r_a.mean(): .3f}\")"
   ]
  },
  {
   "cell_type": "markdown",
   "metadata": {},
   "source": [
    "## Cell area as a weighted sum of face areas\n",
    "\n",
    "\n",
    "For now the model is isotropic, so cells will tend to adopt the most spherical shape possible. In order to have polarisation, we can introduce a factor (or weight) on each face of the cell to modulate its effective contribution to the total area, the total area $A_c$ is replaced by the weighted area $A'_c$:\n",
    "\n",
    "$$\n",
    "A_c = \\sum_f A_f \\quad \\mbox{becomes}\\\\\n",
    "A'_c = \\frac{n_f}{\\sum_f w_f}\\sum_f w_fA_f\n",
    "$$\n",
    "\n",
    "If all the weights are equal, the weighted area is equal to the normal area.\n",
    "\n",
    "We need to adapt our model definition to take this into account:\n",
    "\n",
    "\n",
    "\n"
   ]
  },
  {
   "cell_type": "code",
   "execution_count": 89,
   "metadata": {},
   "outputs": [
    {
     "data": {
      "text/plain": [
       "array([1.])"
      ]
     },
     "execution_count": 89,
     "metadata": {},
     "output_type": "execute_result"
    }
   ],
   "source": [
    "follicle.edge_df[\"face_weight\"].unique()"
   ]
  },
  {
   "cell_type": "code",
   "execution_count": 110,
   "metadata": {},
   "outputs": [],
   "source": [
    "from tyssue.dynamics import units\n",
    "from tyssue.dynamics.sheet_gradients import area_grad\n",
    "\n",
    "from tyssue.utils import to_nd\n",
    "\n",
    "\n",
    "class WAMonolayerGeometry(geom):\n",
    "\n",
    "    @classmethod\n",
    "    def update_all(cls, eptm):\n",
    "        \n",
    "        super().update_all(eptm)\n",
    "        cls.normalize_face_weights(eptm)\n",
    "        cls.update_weithed_area(eptm)\n",
    "        \n",
    "    @staticmethod\n",
    "    def normalize_face_weights(eptm):\n",
    "        \n",
    "        eptm.face_df[\"cell\"] = eptm.edge_df.groupby(\"face\")['cell'].first()\n",
    "        sum_weights = eptm.face_df.groupby(\"cell\")[\"weight\"].sum()\n",
    "        weight_norm = (eptm.cell_df['num_faces'] / sum_weights).loc[eptm.face_df[\"cell\"].to_numpy()]\n",
    "        eptm.face_df[\"weight\"] *= weight_norm.to_numpy()\n",
    "        \n",
    "    @staticmethod\n",
    "    def update_weithed_area(eptm):\n",
    "        eptm.edge_df[\"face_weight\"] = eptm.upcast_face(eptm.face_df['weight'])\n",
    "        eptm.cell_df[\"weighted_area\"] = eptm.sum_cell(eptm.edge_df.eval(\"sub_area * face_weight\"))\n",
    "\n",
    "\n",
    "class WeightedCellAreaElasticity(effectors.AbstractEffector):\n",
    "    \n",
    "    dimensions = units.area_elasticity\n",
    "    magnitude = \"area_elasticity\"\n",
    "    label = \"Weighted Area elasticity\"\n",
    "    element = \"cell\"\n",
    "    specs = {\n",
    "        \"cell\": {\n",
    "            \"is_alive\": 1,\n",
    "            \"weighted_area\": 1.0,\n",
    "            \"area_elasticity\": 1.0,\n",
    "            \"prefered_area\": 1.0,\n",
    "        },\n",
    "        \"face\": {\n",
    "            \"area\": 1.0,\n",
    "            \"weight\": 1.0,\n",
    "        }\n",
    "    }\n",
    "    spatial_ref = \"prefered_area\", units.area\n",
    "\n",
    "    @staticmethod\n",
    "    def get_nrj_norm(specs):\n",
    "        return specs[\"cell\"][\"area_elasticity\"] * specs[\"cell\"][\"prefered_area\"] ** 2\n",
    "\n",
    "    @staticmethod\n",
    "    def energy(eptm):\n",
    "        \n",
    "        return effectors.elastic_energy(\n",
    "            eptm.cell_df,\n",
    "            \"weighted_area\", \n",
    "            \"area_elasticity * is_alive\", \"prefered_area\")\n",
    "\n",
    "    @staticmethod\n",
    "    def gradient(eptm):\n",
    "        ka_a0_ = effectors.elastic_force(\n",
    "            eptm.cell_df, \"weighted_area\", \"area_elasticity * is_alive\", \"prefered_area\"\n",
    "        )\n",
    "        face_weight = eptm.edge_df[\"face_weight\"].to_numpy()\n",
    "        \n",
    "        ka_a0 = to_nd(eptm.upcast_cell(ka_a0_) * face_weight, 3)\n",
    "\n",
    "        grad_a_srce, grad_a_trgt = area_grad(eptm)\n",
    "\n",
    "        \n",
    "        grad_a_srce = ka_a0 * grad_a_srce\n",
    "        grad_a_trgt = ka_a0 * grad_a_trgt\n",
    "        grad_a_srce.columns = [\"g\" + u for u in eptm.coords]\n",
    "        grad_a_trgt.columns = [\"g\" + u for u in eptm.coords]\n",
    "\n",
    "        return grad_a_srce, grad_a_trgt\n",
    "    \n"
   ]
  },
  {
   "cell_type": "code",
   "execution_count": 273,
   "metadata": {},
   "outputs": [
    {
     "name": "stderr",
     "output_type": "stream",
     "text": [
      "Reseting column is_alive of the cell dataset with new specs\n",
      "Reseting column is_alive of the face dataset with new specs\n"
     ]
    }
   ],
   "source": [
    "wgeom = WAMonolayerGeometry\n",
    "\n",
    "follicle = bck0.copy()\n",
    "\n",
    "model = model_factory([\n",
    "    effectors.LumenVolumeElasticity,\n",
    "    WeightedCellAreaElasticity,\n",
    "    effectors.CellVolumeElasticity,\n",
    "    ])\n",
    "\n",
    "\n",
    "specs = {\n",
    "    'cell': {\n",
    "        'is_alive': 1,\n",
    "        'vol_elasticity': 1.0,\n",
    "        'prefered_vol': 1.0,\n",
    "        \"weighted_area\": 1.0,\n",
    "        'area_elasticity': 0.01,\n",
    "        'prefered_area': 4.0, # form factor\n",
    "    },\n",
    "    'face': {\n",
    "        'weight': 1.0,\n",
    "        'is_alive': 1,\n",
    "    },\n",
    "    'settings': {\n",
    "        'lumen_vol_elasticity': 1.e-3,\n",
    "        'lumen_prefered_vol': 160,\n",
    "    }\n",
    "}\n",
    "\n",
    "follicle.update_specs(specs, reset=True)\n",
    "\n",
    "\n",
    "\n",
    "#follicle.face_df['surface_tension'] = 10.0\n",
    "follicle.face_df[\"weight\"] = 1.0\n",
    "follicle.face_df.loc[follicle.apical_faces, 'weight'] = 1.0\n",
    "wgeom.update_all(follicle)"
   ]
  },
  {
   "cell_type": "code",
   "execution_count": 274,
   "metadata": {
    "scrolled": false
   },
   "outputs": [
    {
     "name": "stdout",
     "output_type": "stream",
     "text": [
      "b'CONVERGENCE: NORM_OF_PROJECTED_GRADIENT_<=_PGTOL'\n"
     ]
    },
    {
     "data": {
      "application/vnd.jupyter.widget-view+json": {
       "model_id": "3e30ea42f2ec40b5bab73376e492b00e",
       "version_major": 2,
       "version_minor": 0
      },
      "text/plain": [
       "Figure(camera=PerspectiveCamera(fov=45.0, position=(0.0, 0.0, 2.0), projectionMatrix=(1.0, 0.0, 0.0, 0.0, 0.0,…"
      ]
     },
     "metadata": {},
     "output_type": "display_data"
    }
   ],
   "source": [
    "solver = QSSolver()\n",
    "res = solver.find_energy_min(follicle, wgeom, model)\n",
    "print(res.message)\n",
    "\n",
    "\n",
    "draw_specs[\"face\"][\"color\"] = follicle.face_df['area']\n",
    "\n",
    "ipv.clear()\n",
    "follicle.face_df['visible'] = (\n",
    "    (\n",
    "        (follicle.face_df['y'] > 0)\n",
    "        | (follicle.face_df['x'] > 0)\n",
    "    )\n",
    "    #& (follicle.face_df['segment'] == \"apical\")\n",
    ")\n",
    "# reset full visibility\n",
    "# follicle.face_df['visible'] = True\n",
    "fig, mesh = sheet_view(follicle, mode=\"3D\", **draw_specs)\n",
    "fig"
   ]
  },
  {
   "cell_type": "code",
   "execution_count": 275,
   "metadata": {},
   "outputs": [
    {
     "name": "stdout",
     "output_type": "stream",
     "text": [
      "rho :  1.31\n"
     ]
    }
   ],
   "source": [
    "r_a = np.linalg.norm(\n",
    "    follicle.vert_df.loc[follicle.apical_verts, ['x', 'y', 'z']],\n",
    "    axis=1\n",
    ")\n",
    "r_b = np.linalg.norm(\n",
    "    follicle.vert_df.loc[follicle.basal_verts, ['x', 'y', 'z']],\n",
    "    axis=1\n",
    ")\n",
    "rho = r_b.mean()/r_a.mean()\n",
    "print(f\"rho : {rho: .2f}\")"
   ]
  },
  {
   "cell_type": "code",
   "execution_count": 276,
   "metadata": {},
   "outputs": [
    {
     "data": {
      "text/plain": [
       "5.587836705695619"
      ]
     },
     "execution_count": 276,
     "metadata": {},
     "output_type": "execute_result"
    }
   ],
   "source": [
    "follicle.cell_df.area.mean()"
   ]
  },
  {
   "cell_type": "code",
   "execution_count": 277,
   "metadata": {},
   "outputs": [
    {
     "data": {
      "text/plain": [
       "0.9361483156307905"
      ]
     },
     "execution_count": 277,
     "metadata": {},
     "output_type": "execute_result"
    }
   ],
   "source": [
    "follicle.cell_df.vol.mean()"
   ]
  },
  {
   "cell_type": "markdown",
   "metadata": {},
   "source": [
    "\n",
    "## follicle.settings"
   ]
  },
  {
   "cell_type": "code",
   "execution_count": 278,
   "metadata": {},
   "outputs": [],
   "source": [
    "def contractility_grad_along_z(z, z_a=10, ant_increase=6, post_increase=6):\n",
    "    \"\"\"Returns the amplitude of the gradient for z \n",
    "    (along the posterior-anterior axis of the follicle).\n",
    "    \n",
    "    The gradient is modeled as a quadratic function of z, such that the increase in\n",
    "    contractility is equal to ant_increase at z_a and to post_increase at -z_a.\n",
    "    \n",
    "    \"\"\"\n",
    "    \n",
    "    # we look for a quadradic function with C(-z_a) = ant_increase, C(z_a) = post_increase\n",
    "    # and C(z_min) = 0 - we find the correct coefs p2, p1 and p0 bellow\n",
    "    \n",
    "    app = ant_increase + post_increase\n",
    "    amp = ant_increase - post_increase\n",
    "    if amp == 0.:\n",
    "        p2 = ant_increase / z_a**2\n",
    "        p1 = 0\n",
    "        p0 = 0\n",
    "    else:\n",
    "        p1 = amp / (2 * z_a)\n",
    "        inv_poly = [2*z_a**2, -app, p1**2]\n",
    "        p2_0, p2_1 = np.poly1d(inv_poly).roots\n",
    "        if isinstance(p2_0, np.complex):\n",
    "            p2_0, p2_1 = np.real([p2_0, p2_1])\n",
    "        p2 = p2_0 if p2_0 >= 0 else p2_1\n",
    "        p0 = p1**2 / (4*p2)\n",
    "\n",
    "    poly = np.poly1d([p2, p1, p0])\n",
    "    return np.polyval(poly, z)\n",
    "\n",
    "def contractility_grad(follicle, cell, amp, span, coords=['x', 'y', 'z'], elem=\"face\"):\n",
    "    \n",
    "    cell_pos = follicle.cell_df.loc[cell, coords].to_numpy()\n",
    "    distance = np.linalg.norm(\n",
    "        follicle.datasets[elem][coords] - cell_pos[None, :],\n",
    "        axis=1)\n",
    "    \n",
    "    grad = amp * np.exp(-distance / span)\n",
    "    return grad# - grad.min()\n"
   ]
  },
  {
   "cell_type": "code",
   "execution_count": 279,
   "metadata": {},
   "outputs": [],
   "source": [
    "bck1 = follicle.copy()"
   ]
  },
  {
   "cell_type": "markdown",
   "metadata": {},
   "source": [
    "## Static contractility gradient"
   ]
  },
  {
   "cell_type": "code",
   "execution_count": 289,
   "metadata": {},
   "outputs": [],
   "source": [
    "follicle = bck1.copy()\n",
    "\n",
    "anterior_cell = follicle.cell_df['z'].idxmin() \n",
    "posterior_cell = follicle.cell_df['z'].idxmax() \n",
    "anterior_faces = follicle.edge_df.query(f'cell == {anterior_cell}')[\"face\"].unique()\n",
    "posterior_faces = follicle.edge_df.query(f'cell == {posterior_cell}')[\"face\"].unique()\n",
    "\n",
    "face_gradient = (\n",
    "    contractility_grad(follicle, anterior_cell, amp=6.0, span=1)\n",
    "    + contractility_grad(follicle, posterior_cell, amp=6.0, span=1)\n",
    ")\n",
    "\n",
    "\n",
    "follicle.face_df[\"contractile_grad\"] = face_gradient\n",
    "\n",
    "follicle.face_df.loc[anterior_faces, \"contractile_grad\"] = 1\n",
    "follicle.face_df.loc[posterior_faces, \"contractile_grad\"] = 1\n",
    "\n",
    "follicle.face_df[\"weight\"] = 1.0\n",
    "follicle.face_df.loc[follicle.apical_faces, \"weight\"] += follicle.face_df.loc[\n",
    "    follicle.apical_faces, \"contractile_grad\"]\n",
    "wgeom.update_all(follicle)\n"
   ]
  },
  {
   "cell_type": "code",
   "execution_count": 303,
   "metadata": {},
   "outputs": [
    {
     "data": {
      "text/plain": [
       "[<matplotlib.lines.Line2D at 0x7f55c435b460>]"
      ]
     },
     "execution_count": 303,
     "metadata": {},
     "output_type": "execute_result"
    },
    {
     "data": {
      "image/png": "[encoded data removed]",
      "text/plain": [
       "<Figure size 432x288 with 1 Axes>"
      ]
     },
     "metadata": {
      "needs_background": "light"
     },
     "output_type": "display_data"
    }
   ],
   "source": [
    "fig, ax = plt.subplots()\n",
    "ax.plot(follicle.face_df.loc[follicle.apical_faces, \"z\"],\n",
    "        follicle.face_df.loc[follicle.apical_faces, \"weight\"], 'o')\n",
    "ax.plot(follicle.face_df.loc[follicle.basal_faces, \"z\"],\n",
    "        follicle.face_df.loc[follicle.basal_faces, \"weight\"], 'o')"
   ]
  },
  {
   "cell_type": "code",
   "execution_count": 304,
   "metadata": {},
   "outputs": [],
   "source": [
    "draw_specs = {\n",
    "    'edge': {\n",
    "        'visible': False,\n",
    "    },\n",
    "    'face': {\n",
    "        'visible': True,\n",
    "        'color': lambda sheet: sheet.face_df['area']\n",
    "    },\n",
    "}\n"
   ]
  },
  {
   "cell_type": "code",
   "execution_count": 305,
   "metadata": {
    "scrolled": false
   },
   "outputs": [
    {
     "data": {
      "application/vnd.jupyter.widget-view+json": {
       "model_id": "",
       "version_major": 2,
       "version_minor": 0
      },
      "text/plain": [
       "Figure(camera=PerspectiveCamera(fov=45.0, position=(0.0, 0.0, 2.0), projectionMatrix=(1.0, 0.0, 0.0, 0.0, 0.0,…"
      ]
     },
     "metadata": {},
     "output_type": "display_data"
    }
   ],
   "source": [
    "\n",
    "ipv.clear()\n",
    "follicle.face_df['visible'] = True\n",
    "follicle.face_df.loc[follicle.basal_faces, 'visible'] = False\n",
    "\n",
    "fig, mesh = sheet_view(follicle, mode=\"3D\", **draw_specs)\n",
    "fig"
   ]
  },
  {
   "cell_type": "code",
   "execution_count": 306,
   "metadata": {},
   "outputs": [
    {
     "name": "stdout",
     "output_type": "stream",
     "text": [
      "b'CONVERGENCE: REL_REDUCTION_OF_F_<=_FACTR*EPSMCH'\n"
     ]
    }
   ],
   "source": [
    "quasistatic_solve = True\n",
    "\n",
    "if quasistatic_solve:\n",
    "    solver = QSSolver()\n",
    "    res = solver.find_energy_min(follicle, wgeom, model)\n",
    "    print(res.message)\n"
   ]
  },
  {
   "cell_type": "code",
   "execution_count": null,
   "metadata": {},
   "outputs": [],
   "source": []
  },
  {
   "cell_type": "code",
   "execution_count": 312,
   "metadata": {
    "scrolled": false
   },
   "outputs": [
    {
     "data": {
      "application/vnd.jupyter.widget-view+json": {
       "model_id": "d5aae97e57834e2f95daf5bc1ded1174",
       "version_major": 2,
       "version_minor": 0
      },
      "text/plain": [
       "Figure(camera=PerspectiveCamera(fov=45.0, position=(0.0, 0.0, 2.0), projectionMatrix=(1.0, 0.0, 0.0, 0.0, 0.0,…"
      ]
     },
     "metadata": {},
     "output_type": "display_data"
    }
   ],
   "source": [
    "\n",
    "ipv.clear()\n",
    "follicle.face_df['visible'] = False\n",
    "follicle.face_df.loc[follicle.apical_faces, 'visible'] = True\n",
    "\n",
    "fig, mesh = sheet_view(follicle, mode=\"3D\", **draw_specs)\n",
    "fig"
   ]
  },
  {
   "cell_type": "code",
   "execution_count": 313,
   "metadata": {},
   "outputs": [],
   "source": [
    "import ipywidgets as widgets\n",
    "from IPython.display import display\n",
    "\n",
    "class MonolayerView(widgets.HBox):\n",
    "    \n",
    "    def __init__(self, eptm):\n",
    "        \n",
    "        plt.ioff()\n",
    "        ipv.clear()\n",
    "        self.fig3D, self.mesh = sheet_view(eptm, mode=\"3D\", **draw_specs);\n",
    "        self.graph_widget = widgets.Output()\n",
    "        with self.graph_widget:\n",
    "            \n",
    "            self.fig2D, (self.ax0, self.ax1) = plt.subplots(2, 1, sharey=True, sharex=True)\n",
    "            apical = eptm.get_sub_sheet('apical')\n",
    "            apical.reset_index(),\n",
    "            apical.reset_topo(),\n",
    "            apical.face_df['visisble'] = True            \n",
    "            _ = sheet_view(\n",
    "                apical,\n",
    "                mode=\"2D\", coords=[\"x\", \"y\"],\n",
    "                ax=self.ax0,\n",
    "                **draw_specs\n",
    "            )\n",
    "            basal = eptm.get_sub_sheet('basal')\n",
    "            basal.face_df['visisble'] = True            \n",
    "            basal.reset_index(),\n",
    "            basal.reset_topo(),\n",
    "            _ = sheet_view(\n",
    "                basal,\n",
    "                mode=\"2D\",\n",
    "                coords=[\"x\", \"y\"],\n",
    "                ax=self.ax1,\n",
    "                **draw_specs\n",
    "            )\n",
    "            self.ax0.set_title('Apical mesh')\n",
    "            self.ax1.set_title('Basal mesh')\n",
    "            self.fig2D.set_size_inches(5, 8)\n",
    "            plt.close(self.fig2D)\n",
    "            display(self.fig2D)\n",
    "            \n",
    "        super().__init__([self.fig3D, self.graph_widget])\n",
    "        \n",
    "        "
   ]
  },
  {
   "cell_type": "code",
   "execution_count": 311,
   "metadata": {},
   "outputs": [
    {
     "data": {
      "application/vnd.jupyter.widget-view+json": {
       "model_id": "e66fc5cc778e45e2a3a7482b36bfb064",
       "version_major": 2,
       "version_minor": 0
      },
      "text/plain": [
       "MonolayerView(children=(Figure(camera=PerspectiveCamera(fov=45.0, position=(0.0, 0.0, 2.0), projectionMatrix=(…"
      ]
     },
     "metadata": {},
     "output_type": "display_data"
    }
   ],
   "source": [
    "MonolayerView(follicle)"
   ]
  },
  {
   "cell_type": "code",
   "execution_count": 301,
   "metadata": {},
   "outputs": [
    {
     "data": {
      "text/plain": [
       "[<matplotlib.lines.Line2D at 0x7f55c4425250>]"
      ]
     },
     "execution_count": 301,
     "metadata": {},
     "output_type": "execute_result"
    },
    {
     "data": {
      "image/png": "[encoded data removed]",
      "text/plain": [
       "<Figure size 432x288 with 1 Axes>"
      ]
     },
     "metadata": {
      "needs_background": "light"
     },
     "output_type": "display_data"
    }
   ],
   "source": [
    "fig, ax = plt.subplots()\n",
    "\n",
    "ax.plot(follicle.cell_df['z'], follicle.cell_df['vol'], \"o\")\n",
    "ax.plot(follicle.cell_df['z'], follicle.cell_df['prefered_vol'], \"o\")\n"
   ]
  },
  {
   "cell_type": "markdown",
   "metadata": {},
   "source": [
    "### Increasing lumen volume"
   ]
  },
  {
   "cell_type": "code",
   "execution_count": 117,
   "metadata": {},
   "outputs": [
    {
     "name": "stdout",
     "output_type": "stream",
     "text": [
      "b'CONVERGENCE: REL_REDUCTION_OF_F_<=_FACTR*EPSMCH'\n"
     ]
    }
   ],
   "source": [
    "if quasistatic_solve:\n",
    "    solver = QSSolver()\n",
    "    res = solver.find_energy_min(follicle, geom, model)\n",
    "    print(res.message)\n"
   ]
  },
  {
   "cell_type": "code",
   "execution_count": 33,
   "metadata": {},
   "outputs": [
    {
     "data": {
      "application/vnd.jupyter.widget-view+json": {
       "model_id": "c23e0cafd64c4e80b3c1b9c301d49d67",
       "version_major": 2,
       "version_minor": 0
      },
      "text/plain": [
       "Figure(camera=PerspectiveCamera(fov=45.0, position=(0.0, 0.0, 2.0), quaternion=(0.0, 0.0, 0.0, 1.0), scale=(1.…"
      ]
     },
     "metadata": {},
     "output_type": "display_data"
    }
   ],
   "source": [
    "\n",
    "ipv.clear()\n",
    "\n",
    "fig, mesh = sheet_view(follicle, mode=\"3D\", **draw_specs)\n",
    "fig"
   ]
  },
  {
   "cell_type": "markdown",
   "metadata": {},
   "source": [
    "## Cell division and dynamic model"
   ]
  },
  {
   "cell_type": "markdown",
   "metadata": {},
   "source": [
    "$$\n",
    "\\ln(V_\\mathrm{lum})(t) = a + k_V t\\\\\n",
    "V_\\mathrm{lum}(t) = V_0 e^{k_V t}\n",
    "$$\n",
    "\n"
   ]
  },
  {
   "cell_type": "code",
   "execution_count": 34,
   "metadata": {},
   "outputs": [],
   "source": [
    "bck1 = follicle"
   ]
  },
  {
   "cell_type": "code",
   "execution_count": 121,
   "metadata": {},
   "outputs": [],
   "source": [
    "follicle = bck1\n",
    "\n",
    "# We take the time unit as 1/100th of a development stage\n",
    "\n",
    "dt = 1e-2\n",
    "\n",
    "default_division_spec = {\n",
    "    \"cell\": -1,\n",
    "    \"growth_rate\": 0.01,\n",
    "    \"critical_vol\": 2.,\n",
    "    \"autonomous\": True,\n",
    "}\n",
    "\n",
    "follicle.update_specs(\n",
    "    {'settings':\n",
    "     {\n",
    "        # Critical length to trigger rearangements\n",
    "        \"threshold_length\": 1e-1,  \n",
    "        # Frequency of rearangements\n",
    "        \"p_4\": 1.,\n",
    "        \"p_5+\": 0.1,\n",
    "    },\n",
    "    'vert': {\n",
    "        \"viscosity\": 0.1\n",
    "    },\n",
    "    'edge': {\n",
    "        'is_valid': 1,\n",
    "    }\n",
    "})\n",
    "\n",
    "\n",
    "\n",
    "# This will go in tyssue in the next release\n",
    "@cell_lookup\n",
    "def division(mono, manager, **kwargs):\n",
    "    \"\"\"Cell division happens through cell growth up to a critical volume,\n",
    "    followed by actual division of the cell.\n",
    "    \n",
    "    Parameters\n",
    "    ----------\n",
    "    mono : a `Monolayer` instance\n",
    "    manager : an `EventManager` instance\n",
    "    cell_id : int,\n",
    "      index of the mother cell\n",
    "    growth_rate : float, default 0.1\n",
    "      rate of increase of the prefered volume\n",
    "    critical_vol : float, default 2.\n",
    "      volume at which the cells stops to grow and devides\n",
    "    \"\"\"\n",
    "    division_spec = default_division_spec\n",
    "    division_spec.update(**kwargs)\n",
    "\n",
    "    cell = division_spec[\"cell\"]\n",
    "    Vc = division_spec[\"critical_vol\"] * mono.specs[\"cell\"][\"prefered_vol\"]\n",
    "    if mono.cell_df.loc[cell, \"vol\"] < Vc:\n",
    "        dv = 1+division_spec[\"growth_rate\"]*mono.settings['dt']\n",
    "        da = dv**(1/3)\n",
    "        increase(\n",
    "            mono,\n",
    "            'cell',\n",
    "            cell,\n",
    "            dv,\n",
    "            \"prefered_vol\"\n",
    "        )\n",
    "        manager.append(division, **division_spec)\n",
    "    else:\n",
    "        print(f'division of cell {cell}')\n",
    "        mono.cell_df.loc[cell, \"prefered_vol\"] = mono.specs[\"cell\"][\"prefered_vol\"]\n",
    "        daughter = cell_division(mono, cell, 'vertical')\n",
    "        daughter_id = mono.cell_df.id.max() + 1\n",
    "        mono.cell_df.loc[daughter, \"id\"] = daughter_id\n",
    "        if division_spec[\"autonomous\"]:\n",
    "            manager.append(division, **division_spec)\n",
    "            division_spec['cell_id'] = daughter_id\n",
    "𝜂𝑣            \n",
    "            \n",
    "def lumen_growth(mono, manager, **kwargs):\n",
    "    \n",
    "    growth_rate = kwargs.get('growth_rate', 0.014)\n",
    "    dt = mono.settings[\"dt\"]\n",
    "    mono.settings['lumen_prefered_vol'] *= 1 + growth_rate*dt\n",
    "    manager.append(lumen_growth, **kwargs)\n",
    "    \n",
    "\n",
    "base_dir = Path(\"../data\")\n",
    "time_stamp = datetime.today().strftime(\"%y-%m-%d-%H-%M-%S\")\n",
    "history_file = Path(f\"hist2D_{time_stamp}.hf5\")\n",
    "\n",
    "\n",
    "follicle.cell_df['id'] = follicle.cell_df.index.copy()\n",
    "\n",
    "# Copy the initial follicle\n",
    "eptm = follicle.copy()\n",
    "\n",
    "eptm.edge_df[['srce', 'trgt']] = eptm.edge_df[['srce', 'trgt']].astype(int)\n",
    "\n",
    "eptm.settings[\"dt\"] = dt\n",
    "\n",
    "manager = EventManager(\"cell\")\n",
    "# Auto solve rearangements\n",
    "manager.append(reconnect)\n",
    "\n",
    "for cell_id in eptm.cell_df['id']:\n",
    "    manager.append(division, cell_id=cell_id)\n",
    "\n",
    "manager.append(lumen_growth, growth_rate=1.4e-2)\n",
    "\n",
    "\n",
    "history = HistoryHdf5(\n",
    "    eptm,\n",
    "    save_every=0.1,\n",
    "    dt=dt,\n",
    "    hf5file=base_dir / history_file,\n",
    "    extra_cols={\n",
    "        elem: list(follicle.datasets[elem].columns) for elem in follicle.datasets\n",
    "    },  # record everything\n",
    ")\n",
    "\n",
    "solver = EulerSolver(\n",
    "    eptm,\n",
    "    geom,\n",
    "    model,\n",
    "    manager=manager,\n",
    "    history=history,\n",
    "    bounds=(\n",
    "        -eptm.edge_df.length.median(),\n",
    "        eptm.edge_df.length.median(),\n",
    "    ),\n",
    ")\n",
    "\n",
    "manager.update()\n"
   ]
  },
  {
   "cell_type": "markdown",
   "metadata": {},
   "source": [
    "$$\\eta v = \\sum F $$"
   ]
  },
  {
   "cell_type": "code",
   "execution_count": 127,
   "metadata": {
    "scrolled": true
   },
   "outputs": [],
   "source": [
    "solver.solve(120, dt)"
   ]
  },
  {
   "cell_type": "code",
   "execution_count": 128,
   "metadata": {},
   "outputs": [
    {
     "data": {
      "application/vnd.jupyter.widget-view+json": {
       "model_id": "70661f0ac3a14f62a96930cf64ba26b0",
       "version_major": 2,
       "version_minor": 0
      },
      "text/plain": [
       "VBox(children=(Figure(camera=PerspectiveCamera(fov=45.0, position=(0.0, 0.0, 2.0), quaternion=(0.0, 0.0, 0.0, …"
      ]
     },
     "metadata": {},
     "output_type": "display_data"
    },
    {
     "data": {
      "application/vnd.jupyter.widget-view+json": {
       "model_id": "eedb29c98dfa473483899b7299c9b5f4",
       "version_major": 2,
       "version_minor": 0
      },
      "text/plain": [
       "interactive(children=(IntSlider(value=0, description='i', max=600), Output()), _dom_classes=('widget-interact'…"
      ]
     },
     "metadata": {},
     "output_type": "display_data"
    }
   ],
   "source": [
    "browse_history(solver.history, **draw_specs)"
   ]
  },
  {
   "cell_type": "code",
   "execution_count": 44,
   "metadata": {},
   "outputs": [
    {
     "data": {
      "text/plain": [
       "{'lumen_side': 'apical',\n",
       " 'lumen_vol': 585.6510671007645,\n",
       " 'lumen_vol_elasticity': 1.0,\n",
       " 'lumen_prefered_vol': 649.8242879605406,\n",
       " 'threshold_length': 0.1,\n",
       " 'p_4': 1.0,\n",
       " 'p_5+': 0.1,\n",
       " 'dt': 0.01}"
      ]
     },
     "execution_count": 44,
     "metadata": {},
     "output_type": "execute_result"
    }
   ],
   "source": [
    "solver.eptm.settings"
   ]
  },
  {
   "cell_type": "code",
   "execution_count": 129,
   "metadata": {
    "scrolled": false
   },
   "outputs": [
    {
     "data": {
      "application/vnd.jupyter.widget-view+json": {
       "model_id": "e1236997d9e74532a88c7041ea9f2f7f",
       "version_major": 2,
       "version_minor": 0
      },
      "text/plain": [
       "VBox(children=(Figure(camera=PerspectiveCamera(fov=45.0, position=(0.0, 0.0, 2.0), quaternion=(0.0, 0.0, 0.0, …"
      ]
     },
     "metadata": {},
     "output_type": "display_data"
    },
    {
     "data": {
      "application/vnd.jupyter.widget-view+json": {
       "model_id": "f292ca29a5a3491caf211fe72a3f5ea9",
       "version_major": 2,
       "version_minor": 0
      },
      "text/plain": [
       "interactive(children=(IntSlider(value=0, description='i', max=600), Output()), _dom_classes=('widget-interact'…"
      ]
     },
     "metadata": {},
     "output_type": "display_data"
    }
   ],
   "source": [
    "draw_specs = {\n",
    "    'edge': {\n",
    "        'visible': False,\n",
    "    },\n",
    "    'face': {\n",
    "        'visible': True,\n",
    "        'color': lambda sheet: sheet.face_df['area']\n",
    "    },\n",
    "}\n",
    "\n",
    "\n",
    "browse_history(solver.history, **draw_specs)"
   ]
  },
  {
   "cell_type": "code",
   "execution_count": null,
   "metadata": {},
   "outputs": [],
   "source": []
  }
 ],
 "metadata": {
  "kernelspec": {
   "display_name": "Python 3",
   "language": "python",
   "name": "python3"
  },
  "language_info": {
   "codemirror_mode": {
    "name": "ipython",
    "version": 3
   },
   "file_extension": ".py",
   "mimetype": "text/x-python",
   "name": "python",
   "nbconvert_exporter": "python",
   "pygments_lexer": "ipython3",
   "version": "3.8.6"
  }
 },
 "nbformat": 4,
 "nbformat_minor": 2
}
